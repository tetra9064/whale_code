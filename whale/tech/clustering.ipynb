{
 "cells": [
  {
   "cell_type": "code",
   "execution_count": 1,
   "id": "e3d4a591",
   "metadata": {},
   "outputs": [],
   "source": [
    "import os\n",
    "import shutil\n",
    "import numpy as np\n",
    "from skimage import io\n",
    "from PIL import Image\n",
    "from sklearn.cluster import KMeans"
   ]
  },
  {
   "cell_type": "code",
   "execution_count": 3,
   "id": "f74c93f0",
   "metadata": {},
   "outputs": [],
   "source": [
    "with open(f'{workdirectory}/cfar/pick_list.txt', 'r', encoding='utf-8') as f:\n",
    "    picked = []\n",
    "    for line in f:\n",
    "        picked.append(line.strip())"
   ]
  },
  {
   "cell_type": "code",
   "execution_count": 4,
   "id": "9a7e41ba",
   "metadata": {},
   "outputs": [
    {
     "data": {
      "text/plain": [
       "['D:/whale/data/1805/190402',\n",
       " 'D:/whale/data/1805/180820',\n",
       " 'D:/whale/data/1805/190407',\n",
       " 'D:/whale/data/1805/181224',\n",
       " 'D:/whale/data/1805/190725']"
      ]
     },
     "execution_count": 4,
     "metadata": {},
     "output_type": "execute_result"
    }
   ],
   "source": [
    "picked"
   ]
  },
  {
   "cell_type": "code",
   "execution_count": 5,
   "id": "9cafe375",
   "metadata": {},
   "outputs": [],
   "source": [
    "fig_dir = f'D:/whale/data/{obs}/180820/fig'\n",
    "conv_dir = f'D:/whale/data/{obs}/180820/fig_convert'\n",
    "group_dir = f'D:/whale/data/{obs}/180820/fig_group'"
   ]
  },
  {
   "cell_type": "code",
   "execution_count": 6,
   "id": "10b6e305",
   "metadata": {},
   "outputs": [],
   "source": [
    "os.makedirs(fig_dir, exist_ok=True)\n",
    "os.makedirs(conv_dir, exist_ok=True)"
   ]
  },
  {
   "cell_type": "code",
   "execution_count": 12,
   "id": "d16ea37f",
   "metadata": {},
   "outputs": [
    {
     "ename": "Error",
     "evalue": "Destination path 'D:/whale/data/1805/180820/fig\\180820_0.jpg' already exists",
     "output_type": "error",
     "traceback": [
      "\u001b[1;31m---------------------------------------------------------------------------\u001b[0m",
      "\u001b[1;31mError\u001b[0m                                     Traceback (most recent call last)",
      "\u001b[1;32m~\\AppData\\Local\\Temp/ipykernel_17272/3619428918.py\u001b[0m in \u001b[0;36m<module>\u001b[1;34m\u001b[0m\n\u001b[0;32m      3\u001b[0m \u001b[1;33m\u001b[0m\u001b[0m\n\u001b[0;32m      4\u001b[0m     \u001b[1;32mfor\u001b[0m \u001b[0mfile\u001b[0m \u001b[1;32min\u001b[0m \u001b[0mfiles\u001b[0m\u001b[1;33m:\u001b[0m\u001b[1;33m\u001b[0m\u001b[1;33m\u001b[0m\u001b[0m\n\u001b[1;32m----> 5\u001b[1;33m         \u001b[0mshutil\u001b[0m\u001b[1;33m.\u001b[0m\u001b[0mmove\u001b[0m\u001b[1;33m(\u001b[0m\u001b[1;34mf'{pick}/fig/{file}'\u001b[0m\u001b[1;33m,\u001b[0m\u001b[0mfig_dir\u001b[0m\u001b[1;33m)\u001b[0m\u001b[1;33m\u001b[0m\u001b[1;33m\u001b[0m\u001b[0m\n\u001b[0m",
      "\u001b[1;32m~\\anaconda3\\envs\\ketos_env\\lib\\shutil.py\u001b[0m in \u001b[0;36mmove\u001b[1;34m(src, dst, copy_function)\u001b[0m\n\u001b[0;32m    562\u001b[0m         \u001b[0mreal_dst\u001b[0m \u001b[1;33m=\u001b[0m \u001b[0mos\u001b[0m\u001b[1;33m.\u001b[0m\u001b[0mpath\u001b[0m\u001b[1;33m.\u001b[0m\u001b[0mjoin\u001b[0m\u001b[1;33m(\u001b[0m\u001b[0mdst\u001b[0m\u001b[1;33m,\u001b[0m \u001b[0m_basename\u001b[0m\u001b[1;33m(\u001b[0m\u001b[0msrc\u001b[0m\u001b[1;33m)\u001b[0m\u001b[1;33m)\u001b[0m\u001b[1;33m\u001b[0m\u001b[1;33m\u001b[0m\u001b[0m\n\u001b[0;32m    563\u001b[0m         \u001b[1;32mif\u001b[0m \u001b[0mos\u001b[0m\u001b[1;33m.\u001b[0m\u001b[0mpath\u001b[0m\u001b[1;33m.\u001b[0m\u001b[0mexists\u001b[0m\u001b[1;33m(\u001b[0m\u001b[0mreal_dst\u001b[0m\u001b[1;33m)\u001b[0m\u001b[1;33m:\u001b[0m\u001b[1;33m\u001b[0m\u001b[1;33m\u001b[0m\u001b[0m\n\u001b[1;32m--> 564\u001b[1;33m             \u001b[1;32mraise\u001b[0m \u001b[0mError\u001b[0m\u001b[1;33m(\u001b[0m\u001b[1;34m\"Destination path '%s' already exists\"\u001b[0m \u001b[1;33m%\u001b[0m \u001b[0mreal_dst\u001b[0m\u001b[1;33m)\u001b[0m\u001b[1;33m\u001b[0m\u001b[1;33m\u001b[0m\u001b[0m\n\u001b[0m\u001b[0;32m    565\u001b[0m     \u001b[1;32mtry\u001b[0m\u001b[1;33m:\u001b[0m\u001b[1;33m\u001b[0m\u001b[1;33m\u001b[0m\u001b[0m\n\u001b[0;32m    566\u001b[0m         \u001b[0mos\u001b[0m\u001b[1;33m.\u001b[0m\u001b[0mrename\u001b[0m\u001b[1;33m(\u001b[0m\u001b[0msrc\u001b[0m\u001b[1;33m,\u001b[0m \u001b[0mreal_dst\u001b[0m\u001b[1;33m)\u001b[0m\u001b[1;33m\u001b[0m\u001b[1;33m\u001b[0m\u001b[0m\n",
      "\u001b[1;31mError\u001b[0m: Destination path 'D:/whale/data/1805/180820/fig\\180820_0.jpg' already exists"
     ]
    }
   ],
   "source": [
    "for pick in picked:\n",
    "    files = os.listdir(f'{pick}/fig')\n",
    "    \n",
    "    for file in files:\n",
    "        shutil.move(f'{pick}/fig/{file}',fig_dir)"
   ]
  },
  {
   "cell_type": "markdown",
   "id": "e528933a",
   "metadata": {},
   "source": [
    "画像を200×200にリサイズ。元画像のままだと大きすぎてエラーになったため。"
   ]
  },
  {
   "cell_type": "code",
   "execution_count": 7,
   "id": "eb9cb908",
   "metadata": {},
   "outputs": [],
   "source": [
    "for path in os.listdir(fig_dir):\n",
    "    img = Image.open(f'{fig_dir}/{path}')\n",
    "    img = img.convert('RGB')\n",
    "    img_resize = img.resize((200, 200))\n",
    "    img_resize.save(f'{conv_dir}/{path}.jpg')"
   ]
  },
  {
   "cell_type": "markdown",
   "id": "ce7b13df",
   "metadata": {},
   "source": [
    "画像データは３次元配列のため、２次元配列に変換する。(200,200,3)から(200,600)"
   ]
  },
  {
   "cell_type": "code",
   "execution_count": 8,
   "id": "13b833ad",
   "metadata": {},
   "outputs": [],
   "source": [
    "feature = np.array([io.imread(f'{conv_dir}/{path}') for path in os.listdir(conv_dir)])\n",
    "feature = feature.reshape(len(feature), -1).astype(np.float64)"
   ]
  },
  {
   "cell_type": "markdown",
   "id": "783a6f48",
   "metadata": {},
   "source": [
    "k平均法でクラスタリング\n",
    "５つのクラスに分類する。ナガスクジラの鳴音が５種類あったため。\n",
    "しかし少ないクラス数で一回鳴音以外をはじいた方がいいかも"
   ]
  },
  {
   "cell_type": "code",
   "execution_count": null,
   "id": "24860186",
   "metadata": {},
   "outputs": [],
   "source": [
    "model = KMeans(n_clusters=5).fit(feature)"
   ]
  },
  {
   "cell_type": "markdown",
   "id": "8681227c",
   "metadata": {},
   "source": [
    "学習結果のラベルを取得する。0-4で振り分けられており、同じ数字であれば類似度が高い。"
   ]
  },
  {
   "cell_type": "code",
   "execution_count": null,
   "id": "761437fc",
   "metadata": {},
   "outputs": [],
   "source": [
    "labels = model.labels_"
   ]
  },
  {
   "cell_type": "code",
   "execution_count": null,
   "id": "5b7b16ae",
   "metadata": {
    "scrolled": true
   },
   "outputs": [],
   "source": [
    "for label, path in zip(labels, os.listdir(conv_dir)):\n",
    "    os.makedirs(f'{group_dir}/{label}', exist_ok=True)\n",
    "    shutil.copyfile(f\"{conv_dir}/{path}\", f\"{group_dir}/{label}/{path.replace('.jpg', '',1)}\")"
   ]
  },
  {
   "cell_type": "code",
   "execution_count": null,
   "id": "a91e91f9",
   "metadata": {},
   "outputs": [],
   "source": []
  }
 ],
 "metadata": {
  "kernelspec": {
   "display_name": "Python 3 (ipykernel)",
   "language": "python",
   "name": "python3"
  },
  "language_info": {
   "codemirror_mode": {
    "name": "ipython",
    "version": 3
   },
   "file_extension": ".py",
   "mimetype": "text/x-python",
   "name": "python",
   "nbconvert_exporter": "python",
   "pygments_lexer": "ipython3",
   "version": "3.9.12"
  }
 },
 "nbformat": 4,
 "nbformat_minor": 5
}
