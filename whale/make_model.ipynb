{
 "cells": [
  {
   "cell_type": "markdown",
   "id": "994d7238",
   "metadata": {},
   "source": [
    "<h1>機械学習モデル作成用</h1>"
   ]
  },
  {
   "cell_type": "markdown",
   "id": "b90528ff",
   "metadata": {},
   "source": [
    "#---------------------------------------------------------------------------------------------------#"
   ]
  },
  {
   "cell_type": "markdown",
   "id": "8af834c4",
   "metadata": {},
   "source": [
    "既にcfar,スペクトログラム画像の作成を終えている段階で使用可能。"
   ]
  },
  {
   "cell_type": "markdown",
   "id": "2ab02b49",
   "metadata": {},
   "source": [
    "<h2>初期設定</h2>"
   ]
  },
  {
   "cell_type": "markdown",
   "id": "ebdd3adf",
   "metadata": {},
   "source": [
    "<h3>1.各種ライブラリのインポート</h3>"
   ]
  },
  {
   "cell_type": "code",
   "execution_count": null,
   "id": "02418c62",
   "metadata": {},
   "outputs": [],
   "source": [
    "import sys\n",
    "import os\n",
    "import gc\n",
    "import re\n",
    "import math\n",
    "import tqdm\n",
    "import itertools\n",
    "import shutil\n",
    "import pickle\n",
    "import numpy as np\n",
    "import pandas as pd\n",
    "import librosa\n",
    "import matplotlib.pyplot as plt\n",
    "from scipy import signal\n",
    "%matplotlib inline"
   ]
  },
  {
   "cell_type": "markdown",
   "id": "38109a38",
   "metadata": {},
   "source": [
    "<h3>2.whale_call_packageディレクトリを格納している絶対パスを記述.</h3>\n",
    "windows,macでそれぞれ用意しているが不要な方はコメントアウト"
   ]
  },
  {
   "cell_type": "code",
   "execution_count": null,
   "id": "004e88a7",
   "metadata": {},
   "outputs": [],
   "source": [
    "#windows\n",
    "sys.path.append(\"C:/Users\")"
   ]
  },
  {
   "cell_type": "markdown",
   "id": "0f9d502e",
   "metadata": {},
   "source": [
    "#mac\n",
    "sys.path.append(\"/Users/nakahigashikazuo3/Desktop\")"
   ]
  },
  {
   "cell_type": "markdown",
   "id": "527b4bdc",
   "metadata": {},
   "source": [
    "<h3>3.whale_call_packageをインポート</h3>"
   ]
  },
  {
   "cell_type": "code",
   "execution_count": null,
   "id": "123eeefa",
   "metadata": {
    "scrolled": true
   },
   "outputs": [],
   "source": [
    "from whale_call_package import whale_call as wh\n",
    "from whale_call_package import parameter_setting as para"
   ]
  },
  {
   "cell_type": "code",
   "execution_count": null,
   "id": "1bad9bd5",
   "metadata": {},
   "outputs": [],
   "source": [
    "#OBSナンバーを選択。数字6桁以上は避けてほしい。\n",
    "obs = ''"
   ]
  },
  {
   "cell_type": "markdown",
   "id": "bef9d06b",
   "metadata": {},
   "source": [
    "<h3>4.データを出力するディレクトリ、データが格納されているディレクトリを記述。</h3>不要な方をコメントアウト"
   ]
  },
  {
   "cell_type": "markdown",
   "id": "d1a706c0",
   "metadata": {},
   "source": [
    "datadirectoryの方をobsデータの入っている絶対パスに変更するだけでOK。"
   ]
  },
  {
   "cell_type": "code",
   "execution_count": null,
   "id": "1bf02573",
   "metadata": {},
   "outputs": [],
   "source": [
    "#windows\n",
    "workdir_base = f'D:/whale/data/WhaleCallField'\n",
    "preworkdirectory=f'{workdir_base}/{obs}'\n",
    "datadirectory=f'D:/whale/data/origindata/{obs}'\n",
    "#datadirectory=f'D:/whale/JB17a/{obs}'"
   ]
  },
  {
   "cell_type": "markdown",
   "id": "b22a626f",
   "metadata": {},
   "source": [
    "#mac\n",
    "preworkdirectory=f'/Volumes/LaCie/WhaleCallField/{obs}'\n",
    "datadirectory=f'/Volumes/LaCie/JS18a/data/{obs}'"
   ]
  },
  {
   "cell_type": "markdown",
   "id": "167e851e",
   "metadata": {},
   "source": [
    "<h3>5.パラメータ変更用に作業ディレクトリ下にディレクトリを設定する</h3>"
   ]
  },
  {
   "cell_type": "code",
   "execution_count": null,
   "id": "f359e7e2",
   "metadata": {},
   "outputs": [],
   "source": [
    "currentdirectory = '5' #任意の名前をつける.数字４文字以上は不具合が出る\n",
    "parameter_number = '2' #whale_call_package内のparameter_setting.pyを確認"
   ]
  },
  {
   "cell_type": "code",
   "execution_count": null,
   "id": "4ed11fe1",
   "metadata": {},
   "outputs": [],
   "source": [
    "#環境設定をインスタンス化し、作業ディレクトリを作成、waveファイルのリストを取得する\n",
    "workdirectory=preworkdirectory+'/'+currentdirectory\n",
    "whale = wh.SetField(workdirectory=workdirectory, datadirectory=datadirectory)\n",
    "whale.make_directory()\n",
    "filelist = whale.get_wavfilelist()"
   ]
  },
  {
   "cell_type": "markdown",
   "id": "eafef929",
   "metadata": {},
   "source": [
    "<h3>6.処理を行うwavファイルを指定する場合以下を実行する。</h3>不要ならば全てコメントアウト"
   ]
  },
  {
   "cell_type": "markdown",
   "id": "046ace2c",
   "metadata": {},
   "source": [
    "<h4>1．任意で指定する。</h4>"
   ]
  },
  {
   "cell_type": "code",
   "execution_count": null,
   "id": "9109a3de",
   "metadata": {},
   "outputs": [],
   "source": [
    "#filelist = whale.pick_wavfilelist(filelist=filelist, month=[\"1904\"])\n",
    "#\"1808\", \"1809\", \"1810\", \"1811\", \"1812\", \"1901\", , \"1903\", \"1904\",\"1905\",\"1906\",\"1907\""
   ]
  },
  {
   "cell_type": "markdown",
   "id": "76a895d5",
   "metadata": {},
   "source": [
    "<h4>2．ランダムで指定する。</h4>"
   ]
  },
  {
   "cell_type": "code",
   "execution_count": null,
   "id": "9541e36a",
   "metadata": {},
   "outputs": [],
   "source": [
    "#filelist = whale.random_pick_wavfilelist(filelist=filelist, pick_num=5)"
   ]
  },
  {
   "cell_type": "markdown",
   "id": "b0245736",
   "metadata": {},
   "source": [
    "<h4>3.不要なファイルを削除する。</h4>"
   ]
  },
  {
   "cell_type": "code",
   "execution_count": null,
   "id": "4e3c09c9",
   "metadata": {},
   "outputs": [],
   "source": [
    "#filelist = whale.del_wavfile(filelist=filelist, del_list=['180725','180726'])"
   ]
  },
  {
   "cell_type": "markdown",
   "id": "22f86e8e",
   "metadata": {},
   "source": [
    "<h4>4.最初の２日を排除する。</h4>"
   ]
  },
  {
   "cell_type": "code",
   "execution_count": null,
   "id": "d39416cc",
   "metadata": {},
   "outputs": [],
   "source": [
    "filelist = filelist[2:]"
   ]
  },
  {
   "cell_type": "markdown",
   "id": "5b652cbe",
   "metadata": {},
   "source": [
    "取得したファイル一覧"
   ]
  },
  {
   "cell_type": "code",
   "execution_count": null,
   "id": "7db40002",
   "metadata": {
    "scrolled": true
   },
   "outputs": [],
   "source": [
    "filelist"
   ]
  },
  {
   "cell_type": "code",
   "execution_count": null,
   "id": "f4430fbb",
   "metadata": {},
   "outputs": [],
   "source": [
    "#各パラメータセッティング\n",
    "sr, n_fft, hop_length, fmin, fmax, fpass, fstop, gpass, gstop, num_train, num_guard, rate_fa = para.para(parameter_number)"
   ]
  },
  {
   "cell_type": "code",
   "execution_count": null,
   "id": "e0cadc98",
   "metadata": {},
   "outputs": [],
   "source": [
    "#各パラメータのログ出力\n",
    "para.make_parameter_log(workdirectory=workdirectory, sr=sr, n_fft=n_fft, fmin=fmin, fmax=fmax, fpass=fpass, fstop=fstop, gpass=gpass, gstop=gstop, num_train=num_train, num_guard=num_guard, rate_fa=rate_fa)"
   ]
  },
  {
   "cell_type": "code",
   "execution_count": null,
   "id": "da205c69",
   "metadata": {
    "scrolled": true
   },
   "outputs": [],
   "source": [
    "cfar = wh.Cfar(workdirectory=workdirectory, datadirectory=datadirectory, sr=sr, n_fft=n_fft, hop_length=hop_length, fmin=fmin, fmax=fmax, fpass=fpass, fstop=fstop, gpass=gpass, gstop=gstop, num_train=num_train, num_guard=num_guard, rate_fa=rate_fa)\n",
    "spec = wh.MakeSpectrogram(workdirectory=workdirectory, datadirectory=datadirectory, sr=sr, n_fft=n_fft, hop_length=hop_length, fmin=fmin, fmax=fmax, fpass=fpass, fstop=fstop, gpass=gpass, gstop=gstop, num_train=num_train, num_guard=num_guard, rate_fa=rate_fa)"
   ]
  },
  {
   "cell_type": "markdown",
   "id": "036eb3ce",
   "metadata": {},
   "source": [
    "#---------------------------------------------------------------------------------------------------#"
   ]
  },
  {
   "cell_type": "markdown",
   "id": "a65c2f02",
   "metadata": {},
   "source": [
    "<h2>CNNでノイズ、センタリングを除去するためのモデルを作成する</h2>"
   ]
  },
  {
   "cell_type": "markdown",
   "id": "bb37830e",
   "metadata": {},
   "source": [
    "1.GPUを認識しているかを確認する。認識している場合、GPUの名前等が表示される"
   ]
  },
  {
   "cell_type": "code",
   "execution_count": null,
   "id": "3912efe8",
   "metadata": {
    "scrolled": true
   },
   "outputs": [],
   "source": [
    "from tensorflow.python.client import device_lib\n",
    "device_lib.list_local_devices()"
   ]
  },
  {
   "cell_type": "markdown",
   "id": "e00830d4",
   "metadata": {},
   "source": [
    "2.各パラメータと分類リストを設定する"
   ]
  },
  {
   "cell_type": "code",
   "execution_count": null,
   "id": "09bd59d7",
   "metadata": {},
   "outputs": [],
   "source": [
    "# 学習率\n",
    "learning_rate = 1e-3\n",
    "# エポック\n",
    "epochs = 20\n",
    "# バッチサイズ\n",
    "batch_size = 256\n",
    "#画像サイズ\n",
    "image_size =128\n",
    "#分類リスト\n",
    "dir_list = ['centering', 'noise', 'call', 'n_call']\n",
    "with open(f'{workdirectory}/cfar/all/call_list.txt', 'w', encoding='utf-8') as f:\n",
    "    pass"
   ]
  },
  {
   "cell_type": "code",
   "execution_count": null,
   "id": "5d528124",
   "metadata": {},
   "outputs": [],
   "source": [
    "cnn = wh.Cnn(workdirectory=workdirectory, datadirectory=datadirectory, sr=sr, n_fft=n_fft, hop_length=hop_length, fmin=fmin, fmax=fmax, fpass=fpass, fstop=fstop, gpass=gpass, gstop=gstop, num_train=num_train, num_guard=num_guard, rate_fa=rate_fa)"
   ]
  },
  {
   "cell_type": "markdown",
   "id": "6b917856",
   "metadata": {},
   "source": [
    "3.各日から訓練用データに使用する鳴音画像をランダムに抽出し、抽出した画像をテキストファイルにメモする"
   ]
  },
  {
   "cell_type": "code",
   "execution_count": null,
   "id": "826cfd13",
   "metadata": {
    "scrolled": false
   },
   "outputs": [],
   "source": [
    "cnn.prepare_cnn(sr=sr, dir_list=dir_list)\n",
    "cnn.set_call_list()"
   ]
  },
  {
   "cell_type": "markdown",
   "id": "fd2710e7",
   "metadata": {},
   "source": [
    "4.学習させたいデータをrandomディレクトリからtrain_iventディレクトリ内の各分類に目視で判断し、移動させる"
   ]
  },
  {
   "cell_type": "code",
   "execution_count": null,
   "id": "67aee42f",
   "metadata": {},
   "outputs": [],
   "source": [
    "train_dir, val_dir, backup_dir = cnn.dir_set(dir_list=dir_list)"
   ]
  },
  {
   "cell_type": "code",
   "execution_count": null,
   "id": "918aaa87",
   "metadata": {
    "scrolled": true
   },
   "outputs": [],
   "source": [
    "train_dir, val_dir, backup_dir"
   ]
  },
  {
   "cell_type": "markdown",
   "id": "ef7507f4",
   "metadata": {},
   "source": [
    "5.CNNモデルを作成し、精度を表示する."
   ]
  },
  {
   "cell_type": "code",
   "execution_count": null,
   "id": "0f16be17",
   "metadata": {
    "scrolled": true
   },
   "outputs": [],
   "source": [
    "if sentering_flag:\n",
    "    cnn.cnn_el_sentering(learning_rate=learning_rate, epochs=epochs, batch_size=batch_size, image_size=image_size, train_dir=train_dir, val_dir=val_dir, backup_dir=backup_dir)"
   ]
  },
  {
   "cell_type": "markdown",
   "id": "2cfa63f1",
   "metadata": {},
   "source": [
    "6.作成したモデルを元にテストする"
   ]
  },
  {
   "cell_type": "code",
   "execution_count": null,
   "id": "331c6e31",
   "metadata": {},
   "outputs": [],
   "source": [
    "test_img_list = f'{workdirectory}/cfar/all/random'\n",
    "sep_img_list =  f'{workdirectory}/cfar/all/fig_convert'\n",
    "model_name = 'my_model.h5'\n",
    "days= os.listdir(f'{workdirectory}/cfar')\n",
    "days.remove('all')\n",
    "days.remove('pick_list.txt')"
   ]
  },
  {
   "cell_type": "code",
   "execution_count": null,
   "id": "df3935a8",
   "metadata": {
    "scrolled": true
   },
   "outputs": [],
   "source": [
    "all_result = [0]*4\n",
    "for i in days:\n",
    "    all_result = cnn.sep_cnn_noise(test_img_list=test_img_list,detected_dir=f'{workdirectory}/cfar/all/detected', model_name=model_name, days=i, all_result=all_result)\n",
    "cnn.return_target(train_dir=train_dir, val_dir=val_dir) #テスト用に分離した画像を元の訓練用データに戻す"
   ]
  },
  {
   "cell_type": "code",
   "execution_count": null,
   "id": "18faaf59",
   "metadata": {
    "scrolled": false
   },
   "outputs": [],
   "source": [
    "all_result"
   ]
  },
  {
   "cell_type": "markdown",
   "id": "b86fc3fc",
   "metadata": {},
   "source": [
    "7.detectedディレクトリ内の画像の誤分類を手動で修正し、以下を実行することで訓練用データに加える。"
   ]
  },
  {
   "cell_type": "code",
   "execution_count": null,
   "id": "ba90f068",
   "metadata": {},
   "outputs": [],
   "source": [
    "cnn.merge_detect(train_dir=train_dir)"
   ]
  },
  {
   "cell_type": "markdown",
   "id": "24bbbe8d",
   "metadata": {},
   "source": [
    "8.手順の3-7を混同行列を参考に精度を検証しながら繰り返す。"
   ]
  }
 ],
 "metadata": {
  "kernelspec": {
   "display_name": "Python 3 (ipykernel)",
   "language": "python",
   "name": "python3"
  },
  "language_info": {
   "codemirror_mode": {
    "name": "ipython",
    "version": 3
   },
   "file_extension": ".py",
   "mimetype": "text/x-python",
   "name": "python",
   "nbconvert_exporter": "python",
   "pygments_lexer": "ipython3",
   "version": "3.9.13"
  }
 },
 "nbformat": 4,
 "nbformat_minor": 5
}
