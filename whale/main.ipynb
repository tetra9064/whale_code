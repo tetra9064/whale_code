{
 "cells": [
  {
   "cell_type": "markdown",
   "id": "a023bd88",
   "metadata": {},
   "source": [
    "main.ipynbで既にモデルを作成した場合、こちらのファイルを使用する。"
   ]
  },
  {
   "cell_type": "markdown",
   "id": "b90528ff",
   "metadata": {},
   "source": [
    "#---------------------------------------------------------------------------------------------------#"
   ]
  },
  {
   "cell_type": "markdown",
   "id": "2ab02b49",
   "metadata": {},
   "source": [
    "<h2>初期設定</h2>"
   ]
  },
  {
   "cell_type": "markdown",
   "id": "ebdd3adf",
   "metadata": {},
   "source": [
    "<h3>1.各種ライブラリのインポート</h3>"
   ]
  },
  {
   "cell_type": "code",
   "execution_count": null,
   "id": "02418c62",
   "metadata": {},
   "outputs": [],
   "source": [
    "import sys\n",
    "import os\n",
    "import gc\n",
    "import re\n",
    "import copy\n",
    "import math\n",
    "import tqdm\n",
    "import itertools\n",
    "import shutil\n",
    "import pickle\n",
    "import numpy as np\n",
    "import pandas as pd\n",
    "import librosa\n",
    "import matplotlib.pyplot as plt\n",
    "from scipy import signal\n",
    "%matplotlib inline"
   ]
  },
  {
   "cell_type": "markdown",
   "id": "38109a38",
   "metadata": {},
   "source": [
    "<h3>2.whale_call_packageディレクトリを格納している絶対パスを記述.</h3>\n",
    "windows,macでそれぞれ用意しているが不要な方はコメントアウト"
   ]
  },
  {
   "cell_type": "code",
   "execution_count": null,
   "id": "004e88a7",
   "metadata": {},
   "outputs": [],
   "source": [
    "#windows\n",
    "sys.path.append(\"C:/Users/tomoaki/Desktop/python\")"
   ]
  },
  {
   "cell_type": "markdown",
   "id": "0f9d502e",
   "metadata": {},
   "source": [
    "#mac\n",
    "sys.path.append(\"/Users/nakahigashikazuo3/Desktop\")"
   ]
  },
  {
   "cell_type": "markdown",
   "id": "527b4bdc",
   "metadata": {},
   "source": [
    "<h3>3.whale_call_packageをインポート</h3>"
   ]
  },
  {
   "cell_type": "code",
   "execution_count": null,
   "id": "123eeefa",
   "metadata": {
    "scrolled": true
   },
   "outputs": [],
   "source": [
    "from whale_call_package import whale_call as wh\n",
    "from whale_call_package import parameter_setting as para"
   ]
  },
  {
   "cell_type": "code",
   "execution_count": null,
   "id": "2edd21bb",
   "metadata": {},
   "outputs": [],
   "source": [
    "#OBSナンバーを選択。数字6桁以上は避けてほしい。\n",
    "obs = '1805_2020'\n",
    "#obs = 'JS1707'"
   ]
  },
  {
   "cell_type": "markdown",
   "id": "bef9d06b",
   "metadata": {},
   "source": [
    "<h3>4.データを出力するディレクトリ、データが格納されているディレクトリを記述。</h3>不要な方をコメントアウト"
   ]
  },
  {
   "cell_type": "markdown",
   "id": "d1a706c0",
   "metadata": {},
   "source": [
    "datadirectoryの方をobsデータの入っている絶対パスに変更するだけでOK。"
   ]
  },
  {
   "cell_type": "code",
   "execution_count": null,
   "id": "1bf02573",
   "metadata": {},
   "outputs": [],
   "source": [
    "#windows\n",
    "workdir_base = f'D:/whale/data/WhaleCallField'\n",
    "preworkdirectory=f'{workdir_base}/{obs}'\n",
    "datadirectory=f'D:/whale/data/origindata/{obs}'\n",
    "#datadirectory=f'D:/whale/JB17a/{obs}'"
   ]
  },
  {
   "cell_type": "markdown",
   "id": "b22a626f",
   "metadata": {},
   "source": [
    "#mac\n",
    "preworkdirectory=f'/Volumes/LaCie/WhaleCallField/{obs}'\n",
    "datadirectory=f'/Volumes/LaCie/JS18a/data/{obs}'"
   ]
  },
  {
   "cell_type": "markdown",
   "id": "167e851e",
   "metadata": {},
   "source": [
    "<h3>5.パラメータ変更用に作業ディレクトリ下にディレクトリを設定する</h3>"
   ]
  },
  {
   "cell_type": "code",
   "execution_count": null,
   "id": "f359e7e2",
   "metadata": {},
   "outputs": [],
   "source": [
    "currentdirectory = '5' #任意の名前をつける.数字４文字以上は不具合が出る\n",
    "parameter_number = '2' #whale_call_package内のparameter_setting.pyを確認"
   ]
  },
  {
   "cell_type": "code",
   "execution_count": null,
   "id": "4ed11fe1",
   "metadata": {},
   "outputs": [],
   "source": [
    "#環境設定をインスタンス化し、作業ディレクトリを作成、waveファイルのリストを取得する\n",
    "workdirectory=preworkdirectory+'/'+currentdirectory\n",
    "whale = wh.SetField(workdirectory=workdirectory, datadirectory=datadirectory)\n",
    "whale.make_directory()\n",
    "filelist = whale.get_wavfilelist()"
   ]
  },
  {
   "cell_type": "markdown",
   "id": "eafef929",
   "metadata": {},
   "source": [
    "<h3>6.処理を行うwavファイルを指定する場合以下を実行する。</h3>不要ならば全てコメントアウト"
   ]
  },
  {
   "cell_type": "markdown",
   "id": "046ace2c",
   "metadata": {},
   "source": [
    "<h4>1．任意で指定する。</h4>"
   ]
  },
  {
   "cell_type": "code",
   "execution_count": null,
   "id": "9109a3de",
   "metadata": {},
   "outputs": [],
   "source": [
    "#filelist = whale.pick_wavfilelist(filelist=filelist, month=[\"1904\"])\n",
    "#\"1808\", \"1809\", \"1810\", \"1811\", \"1812\", \"1901\", , \"1903\", \"1904\",\"1905\",\"1906\",\"1907\""
   ]
  },
  {
   "cell_type": "markdown",
   "id": "76a895d5",
   "metadata": {},
   "source": [
    "<h4>2．ランダムで指定する。</h4>"
   ]
  },
  {
   "cell_type": "code",
   "execution_count": null,
   "id": "9541e36a",
   "metadata": {},
   "outputs": [],
   "source": [
    "#filelist = whale.random_pick_wavfilelist(filelist=filelist, pick_num=5)"
   ]
  },
  {
   "cell_type": "markdown",
   "id": "b0245736",
   "metadata": {},
   "source": [
    "<h4>3.不要なファイルを指定して削除する。</h4>"
   ]
  },
  {
   "cell_type": "code",
   "execution_count": null,
   "id": "4e3c09c9",
   "metadata": {},
   "outputs": [],
   "source": [
    "#filelist = whale.del_wavfile(filelist=filelist, del_list=['180717','180718'])"
   ]
  },
  {
   "cell_type": "markdown",
   "id": "318fd08b",
   "metadata": {},
   "source": [
    "<h4>4.最初の２日を排除する。</h4>"
   ]
  },
  {
   "cell_type": "code",
   "execution_count": null,
   "id": "043d32d4",
   "metadata": {},
   "outputs": [],
   "source": [
    "filelist = filelist[2:]"
   ]
  },
  {
   "cell_type": "markdown",
   "id": "5b652cbe",
   "metadata": {},
   "source": [
    "取得したファイル一覧"
   ]
  },
  {
   "cell_type": "code",
   "execution_count": null,
   "id": "7db40002",
   "metadata": {
    "scrolled": true
   },
   "outputs": [],
   "source": [
    "filelist"
   ]
  },
  {
   "cell_type": "code",
   "execution_count": null,
   "id": "f4430fbb",
   "metadata": {},
   "outputs": [],
   "source": [
    "#各パラメータセッティング\n",
    "sr, n_fft, hop_length, fmin, fmax, fpass, fstop, gpass, gstop, num_train, num_guard, rate_fa = para.para(parameter_number)"
   ]
  },
  {
   "cell_type": "code",
   "execution_count": null,
   "id": "e0cadc98",
   "metadata": {},
   "outputs": [],
   "source": [
    "#各パラメータのログ出力\n",
    "para.make_parameter_log(workdirectory=workdirectory, sr=sr, n_fft=n_fft, fmin=fmin, fmax=fmax, fpass=fpass, fstop=fstop, gpass=gpass, gstop=gstop, num_train=num_train, num_guard=num_guard, rate_fa=rate_fa)"
   ]
  },
  {
   "cell_type": "code",
   "execution_count": null,
   "id": "70513610",
   "metadata": {},
   "outputs": [],
   "source": [
    "#グラフ描画用のスケール取得\n",
    "day_scale, count_scale = whale.timescales(filelist=filelist)"
   ]
  },
  {
   "cell_type": "markdown",
   "id": "fe145f32",
   "metadata": {},
   "source": [
    "<h3>7.各処理の実行有無を決定</h3>"
   ]
  },
  {
   "cell_type": "code",
   "execution_count": null,
   "id": "1cd1485c",
   "metadata": {},
   "outputs": [],
   "source": [
    "#Trueで実行する\n",
    "\n",
    "#cfarの実行\n",
    "cfar_flag=False\n",
    "#スペクトログラム画像の生成\n",
    "ms_flag=False\n",
    "#鳴音を基に各種グラフの作成\n",
    "call_graph_flag = False\n",
    "#モデルを使用して画像を分類する\n",
    "sep_fig_flag = False\n",
    "#n_callの分類\n",
    "sep_n_call = False\n",
    "#分類後画像の情報を保存する\n",
    "save_calls = False\n",
    "#中心周波数を抽出\n",
    "centroid_flag = False\n",
    "#IPIを抽出\n",
    "ipi_flag = False"
   ]
  },
  {
   "cell_type": "markdown",
   "id": "2a6c3d18",
   "metadata": {},
   "source": [
    "#---------------------------------------------------------------------------------------------------#"
   ]
  },
  {
   "cell_type": "markdown",
   "id": "d36b1c31",
   "metadata": {},
   "source": [
    "<h2>CFARに関する処理</h2>"
   ]
  },
  {
   "cell_type": "markdown",
   "id": "51e87aea",
   "metadata": {},
   "source": [
    "<h3>1.初期設定</h3>"
   ]
  },
  {
   "cell_type": "code",
   "execution_count": null,
   "id": "da205c69",
   "metadata": {
    "scrolled": true
   },
   "outputs": [],
   "source": [
    "cfar = wh.Cfar(workdirectory=workdirectory, datadirectory=datadirectory, sr=sr, n_fft=n_fft, hop_length=hop_length, fmin=fmin, fmax=fmax, fpass=fpass, fstop=fstop, gpass=gpass, gstop=gstop, num_train=num_train, num_guard=num_guard, rate_fa=rate_fa)"
   ]
  },
  {
   "cell_type": "markdown",
   "id": "2b97ee16",
   "metadata": {},
   "source": [
    "パラメータ\n",
    "・parameter_setting.pyに記載されている各パラメータ\n",
    "・保存するsplit音声ファイルの長さ"
   ]
  },
  {
   "cell_type": "markdown",
   "id": "ef90c9a9",
   "metadata": {},
   "source": [
    "#---------------------------------------------------------------------------------------------------#"
   ]
  },
  {
   "cell_type": "markdown",
   "id": "7882d00d",
   "metadata": {},
   "source": [
    "<h3>3.+cfar処理</h3>"
   ]
  },
  {
   "cell_type": "markdown",
   "id": "8419ab1b",
   "metadata": {},
   "source": [
    "cfar処理を実行し、検出した部分を中心にn秒に分割したwaveファイルを作成する.nを変更する場合はtimeを変更.n秒データを出力しない場合にはmake_split_wavefileをコメントアウトする"
   ]
  },
  {
   "cell_type": "markdown",
   "id": "2feff5c4",
   "metadata": {},
   "source": [
    "中断可能"
   ]
  },
  {
   "cell_type": "code",
   "execution_count": null,
   "id": "715cad54",
   "metadata": {},
   "outputs": [],
   "source": [
    "temp_file = filelist"
   ]
  },
  {
   "cell_type": "code",
   "execution_count": null,
   "id": "feecc6d7",
   "metadata": {},
   "outputs": [],
   "source": [
    "#中断した場合、スタート位置をずらす\n",
    "#temp_file = filelist[342:]"
   ]
  },
  {
   "cell_type": "code",
   "execution_count": null,
   "id": "08417d2c",
   "metadata": {
    "scrolled": true
   },
   "outputs": [],
   "source": [
    "temp_file"
   ]
  },
  {
   "cell_type": "code",
   "execution_count": null,
   "id": "63823bc8",
   "metadata": {
    "scrolled": true
   },
   "outputs": [],
   "source": [
    "if cfar_flag:\n",
    "    for i in temp_file:\n",
    "        name = cfar.make_cfar_dir(i)\n",
    "        y, srt = cfar.get_wav(i)\n",
    "        data = cfar.bandpass(x=y, freqpass=fpass, freqstop=fstop, gpass=gpass, gstop=gstop)\n",
    "        peak_idx = cfar.run_cfar(data=data, name=name) #CFARを実行し、検出した時間と個数を各日付で返し、指定したファイルのリストを出力。\n",
    "        cfar.make_split_wavfile(time=3, peak_idx=peak_idx, name=name, data=y) #time=n秒のwavファイルを出力"
   ]
  },
  {
   "cell_type": "markdown",
   "id": "7ce6252f",
   "metadata": {},
   "source": [
    "#---------------------------------------------------------------------------------------------------#"
   ]
  },
  {
   "cell_type": "markdown",
   "id": "80da0bd8",
   "metadata": {},
   "source": [
    "<h2>スペクトログラム作成</h2>"
   ]
  },
  {
   "cell_type": "markdown",
   "id": "e9fb8a59",
   "metadata": {},
   "source": [
    "<h3>1.初期設定</h3>"
   ]
  },
  {
   "cell_type": "code",
   "execution_count": null,
   "id": "32229fcd",
   "metadata": {},
   "outputs": [],
   "source": [
    "spec = wh.MakeSpectrogram(workdirectory=workdirectory, datadirectory=datadirectory, sr=sr, n_fft=n_fft, hop_length=hop_length, fmin=fmin, fmax=fmax, fpass=fpass, fstop=fstop, gpass=gpass, gstop=gstop, num_train=num_train, num_guard=num_guard, rate_fa=rate_fa)"
   ]
  },
  {
   "cell_type": "markdown",
   "id": "66b54ecc",
   "metadata": {},
   "source": [
    "#---------------------------------------------------------------------------------------------------#"
   ]
  },
  {
   "cell_type": "markdown",
   "id": "3e15585c",
   "metadata": {},
   "source": [
    "<h3>3.+n秒画像作成</h3>"
   ]
  },
  {
   "cell_type": "markdown",
   "id": "16f6a9d3",
   "metadata": {},
   "source": [
    "中断可能"
   ]
  },
  {
   "cell_type": "code",
   "execution_count": null,
   "id": "bcf7cf82",
   "metadata": {},
   "outputs": [],
   "source": [
    "if ms_flag:\n",
    "    picked = spec.get_sp_wav(filelist=filelist)\n",
    "    temp_picked = picked"
   ]
  },
  {
   "cell_type": "code",
   "execution_count": null,
   "id": "9555c5f8",
   "metadata": {},
   "outputs": [],
   "source": [
    "#中断した場合、スタート位置をずらす\n",
    "#temp_picked=picked[116:]"
   ]
  },
  {
   "cell_type": "code",
   "execution_count": null,
   "id": "ff4b04b1",
   "metadata": {
    "scrolled": true
   },
   "outputs": [],
   "source": [
    "if ms_flag:\n",
    "    print(temp_picked)"
   ]
  },
  {
   "cell_type": "code",
   "execution_count": null,
   "id": "489b6e50",
   "metadata": {
    "scrolled": true
   },
   "outputs": [],
   "source": [
    "if ms_flag:\n",
    "    def_figsize = plt.rcParams.get('figure.figsize')\n",
    "    def_dpi = plt.rcParams.get('figure.dpi') \n",
    "    os.makedirs(f'{workdirectory}/cfar/all/fig_convert', exist_ok=True)\n",
    "    for i in temp_picked:\n",
    "        spec.make_sp_spec_all(day=i)\n",
    "        gc.collect()\n",
    "    plt.rcParams['figure.figsize'] = def_figsize\n",
    "    plt.rcParams['figure.dpi'] = def_dpi"
   ]
  },
  {
   "cell_type": "markdown",
   "id": "ed4fb1e6",
   "metadata": {},
   "source": [
    "#---------------------------------------------------------------------------------------------------#"
   ]
  },
  {
   "cell_type": "markdown",
   "id": "0d604be8",
   "metadata": {},
   "source": [
    "<h2>Callをグラフで表示</h2>"
   ]
  },
  {
   "cell_type": "markdown",
   "id": "e0be5614",
   "metadata": {},
   "source": [
    "全て実行するとワークディレクトリに各種グラフが生成される。"
   ]
  },
  {
   "cell_type": "code",
   "execution_count": null,
   "id": "1b532375",
   "metadata": {},
   "outputs": [],
   "source": [
    "%matplotlib inline\n",
    "#読み込むpeaktextの種類と保存するディレクトリ名を決定する\n",
    "peak_file = 'peak.txt'\n",
    "dir_name = 'day_count'"
   ]
  },
  {
   "cell_type": "code",
   "execution_count": null,
   "id": "fc3540c9",
   "metadata": {},
   "outputs": [],
   "source": [
    "if call_graph_flag:\n",
    "    cfar.make_call_graph(filelist=filelist,peak_file=peak_file, dir_name=dir_name, day_scale=day_scale, count_scale=count_scale)"
   ]
  },
  {
   "cell_type": "markdown",
   "id": "036eb3ce",
   "metadata": {},
   "source": [
    "#---------------------------------------------------------------------------------------------------#"
   ]
  },
  {
   "cell_type": "markdown",
   "id": "c28a5a00",
   "metadata": {},
   "source": [
    "<h2>作成したモデルを基に実際に仕分けをする</h2>"
   ]
  },
  {
   "cell_type": "code",
   "execution_count": null,
   "id": "5d528124",
   "metadata": {},
   "outputs": [],
   "source": [
    "cnn = wh.Cnn(workdirectory=workdirectory, datadirectory=datadirectory, sr=sr, n_fft=n_fft, hop_length=hop_length, fmin=fmin, fmax=fmax, fpass=fpass, fstop=fstop, gpass=gpass, gstop=gstop, num_train=num_train, num_guard=num_guard, rate_fa=rate_fa)"
   ]
  },
  {
   "cell_type": "code",
   "execution_count": null,
   "id": "caea6715",
   "metadata": {},
   "outputs": [],
   "source": [
    "cnn.model_cp(model_dir=f'D:/whale/data/WhaleCallField/1805_2020/5/cfar/all/model')"
   ]
  },
  {
   "cell_type": "code",
   "execution_count": null,
   "id": "331c6e31",
   "metadata": {},
   "outputs": [],
   "source": [
    "dir_list = ['sentering', 'noise', 'call', 'n_call']\n",
    "sep_img_list =  f'{workdirectory}/cfar/all/fig_convert'\n",
    "model_name = 'my_model.h5'\n",
    "days= os.listdir(f'{workdirectory}/cfar')\n",
    "days.remove('all')\n",
    "days.remove('pick_list.txt')"
   ]
  },
  {
   "cell_type": "code",
   "execution_count": null,
   "id": "c60aae8a",
   "metadata": {
    "scrolled": true
   },
   "outputs": [],
   "source": [
    "all_result = [0]*4\n",
    "if sep_fig_flag:\n",
    "    for i in days:\n",
    "        all_result = cnn.sep_cnn_noise(test_img_list=sep_img_list,detected_dir=f'{workdirectory}/cfar/all/sep_fig', model_name=model_name, days=i, all_result=all_result)"
   ]
  },
  {
   "cell_type": "code",
   "execution_count": null,
   "id": "e2dcce73",
   "metadata": {
    "scrolled": false
   },
   "outputs": [],
   "source": [
    "all_result"
   ]
  },
  {
   "cell_type": "code",
   "execution_count": null,
   "id": "6e3015ac",
   "metadata": {
    "scrolled": true
   },
   "outputs": [],
   "source": [
    "if sep_fig_flag:\n",
    "    cnn.noise_graph(filelist=filelist,new_or='before', day_scale=day_scale, count_scale=count_scale)"
   ]
  },
  {
   "cell_type": "markdown",
   "id": "e4dac362",
   "metadata": {},
   "source": [
    "#---------------------------------------------------------------------------------------------------#"
   ]
  },
  {
   "cell_type": "markdown",
   "id": "538ff068",
   "metadata": {},
   "source": [
    "<h2>n_call内の鳴音を再分類</h2>"
   ]
  },
  {
   "cell_type": "code",
   "execution_count": null,
   "id": "dcfb9445",
   "metadata": {},
   "outputs": [],
   "source": [
    "ncall = wh.NCallAnalysis(workdirectory=workdirectory, datadirectory=datadirectory, sr=sr, n_fft=n_fft, hop_length=hop_length, fmin=fmin, fmax=fmax, fpass=fpass, fstop=fstop, gpass=gpass, gstop=gstop, num_train=num_train, num_guard=num_guard, rate_fa=rate_fa)"
   ]
  },
  {
   "cell_type": "code",
   "execution_count": null,
   "id": "dae05042",
   "metadata": {},
   "outputs": [],
   "source": [
    "if sep_n_call:\n",
    "    test_img_list = f'{workdirectory}/cfar/all/n_call_fig'\n",
    "    detected_dir = f'{workdirectory}/cfar/all/sep_n_call'\n",
    "    model_name = 'my_model.h5'\n",
    "    days= os.listdir(f'{workdirectory}/cfar')\n",
    "    days.remove('all')\n",
    "    days.remove('pick_list.txt')\n",
    "    os.makedirs(detected_dir,exist_ok=True)"
   ]
  },
  {
   "cell_type": "code",
   "execution_count": null,
   "id": "89807daf",
   "metadata": {
    "scrolled": true
   },
   "outputs": [],
   "source": [
    "if sep_n_call:\n",
    "    ncall.up_ncall(n_call_list_dir='cfar/all/sep_fig/n_call', mode='volumeup')\n",
    "    all_result = [0]*4\n",
    "    for i in days:\n",
    "        all_result = cnn.sep_cnn_noise(test_img_list=test_img_list, detected_dir=detected_dir, model_name=model_name, days=i, all_result=all_result)\n",
    "    print('all_result:',all_result)"
   ]
  },
  {
   "cell_type": "code",
   "execution_count": null,
   "id": "a92e5ef8",
   "metadata": {
    "scrolled": true
   },
   "outputs": [],
   "source": [
    "if sep_n_call:\n",
    "    ncall.up_ncall(n_call_list_dir='cfar/all/sep_n_call/n_call', mode='plus_noise')\n",
    "    ncall.del_ncall(path=f'{workdirectory}/cfar/all/sep_n_call/n_call', check=True)\n",
    "    all_result = [0]*4\n",
    "    for i in days:\n",
    "        all_result = cnn.sep_cnn_noise(test_img_list=test_img_list, detected_dir=detected_dir, model_name=model_name, days=i, all_result=all_result)\n",
    "    print('all_result:',all_result)\n",
    "    ncall.move_ncall(data_dir=f'{workdirectory}/cfar/all/sep_n_call', target_dir=f'{workdirectory}/cfar/all/sep_fig')"
   ]
  },
  {
   "cell_type": "markdown",
   "id": "7c3ef745",
   "metadata": {},
   "source": [
    "#---------------------------------------------------------------------------------------------------#"
   ]
  },
  {
   "cell_type": "markdown",
   "id": "6da9838e",
   "metadata": {},
   "source": [
    "<h2>分類したデータをテキストファイルで保存し、グラフを出力する</h2>"
   ]
  },
  {
   "cell_type": "code",
   "execution_count": null,
   "id": "f2eb1fa1",
   "metadata": {
    "scrolled": true
   },
   "outputs": [],
   "source": [
    "if save_calls:\n",
    "    cnn.make_peaktxt(filelist=filelist, dir_list=dir_list)"
   ]
  },
  {
   "cell_type": "code",
   "execution_count": null,
   "id": "5e8abacb",
   "metadata": {
    "scrolled": true
   },
   "outputs": [],
   "source": [
    "if save_calls:\n",
    "    dirs = 'call'\n",
    "    os.makedirs(f'{workdirectory}/fig', exist_ok=True)\n",
    "    cfar.make_call_graph(filelist=filelist,peak_file=f'peak_{dirs}.txt', dir_name=f'day_count_{dirs}', day_scale=day_scale, count_scale=count_scale)"
   ]
  },
  {
   "cell_type": "code",
   "execution_count": null,
   "id": "88ce9d64",
   "metadata": {
    "scrolled": true
   },
   "outputs": [],
   "source": [
    "if save_calls:\n",
    "    cnn.noise_graph(filelist=filelist,new_or='new', day_scale=day_scale, count_scale=count_scale)"
   ]
  },
  {
   "cell_type": "markdown",
   "id": "a598140e",
   "metadata": {},
   "source": [
    "#---------------------------------------------------------------------------------------------------#"
   ]
  },
  {
   "cell_type": "markdown",
   "id": "a73854f8",
   "metadata": {},
   "source": [
    "<h2>画像から中心周波数等のパラメータを抽出する</h2>"
   ]
  },
  {
   "cell_type": "markdown",
   "id": "6241b77f",
   "metadata": {},
   "source": [
    "<h3>1.初期設定</h3>"
   ]
  },
  {
   "cell_type": "code",
   "execution_count": null,
   "id": "1c78b1e7",
   "metadata": {},
   "outputs": [],
   "source": [
    "analysis = wh.Analysis(workdirectory=workdirectory, datadirectory=datadirectory, sr=sr, n_fft=n_fft, hop_length=hop_length, fmin=fmin, fmax=fmax, fpass=fpass, fstop=fstop, gpass=gpass, gstop=gstop, num_train=num_train, num_guard=num_guard, rate_fa=rate_fa)"
   ]
  },
  {
   "cell_type": "markdown",
   "id": "25e68260",
   "metadata": {},
   "source": [
    "<h3>中心周波数を抽出</h3>"
   ]
  },
  {
   "cell_type": "markdown",
   "id": "220d74c6",
   "metadata": {},
   "source": [
    "中心周波数を求めたリストを作成"
   ]
  },
  {
   "cell_type": "code",
   "execution_count": null,
   "id": "e413525b",
   "metadata": {
    "scrolled": false
   },
   "outputs": [],
   "source": [
    "if centroid_flag:\n",
    "    centroid_list = analysis.run_centroid(filelist=filelist)"
   ]
  },
  {
   "cell_type": "code",
   "execution_count": null,
   "id": "bea26f5c",
   "metadata": {},
   "outputs": [],
   "source": [
    "if 'centroid_list.txt' not in os.listdir(f'{workdirectory}/analysis'):\n",
    "    with open(f'{workdirectory}/analysis/centroid_list.txt', 'wb') as f:\n",
    "        pickle.dump(centroid_list, f)\n",
    "if 'centroid_list.txt' in os.listdir(f'{workdirectory}/analysis'):\n",
    "    if 'temp_centroid_list.txt' in os.listdir(f'{workdirectory}/analysis'):\n",
    "        os.remove(f'{workdirectory}/analysis/temp_centroid_list.txt')"
   ]
  },
  {
   "cell_type": "code",
   "execution_count": null,
   "id": "bb22ff9c",
   "metadata": {},
   "outputs": [],
   "source": [
    "with open(f'{workdirectory}/analysis/centroid_list.txt', 'rb') as f:\n",
    "    list_row = pickle.load(f)"
   ]
  },
  {
   "cell_type": "code",
   "execution_count": null,
   "id": "351aa3d7",
   "metadata": {
    "scrolled": true
   },
   "outputs": [],
   "source": [
    "if centroid_flag:\n",
    "    centroid_list = analysis.temp_cent(filelist=filelist, list_row=list_row)"
   ]
  },
  {
   "cell_type": "markdown",
   "id": "b20ed6fd",
   "metadata": {},
   "source": [
    "call数と移動平均線のグラフを作成"
   ]
  },
  {
   "cell_type": "code",
   "execution_count": null,
   "id": "84473d33",
   "metadata": {
    "scrolled": true
   },
   "outputs": [],
   "source": [
    "analysis.callma_graph(list_row=list_row, count_scale=count_scale, day_scale=day_scale)"
   ]
  },
  {
   "cell_type": "markdown",
   "id": "09376505",
   "metadata": {},
   "source": [
    "扱いやすいように変換"
   ]
  },
  {
   "cell_type": "code",
   "execution_count": null,
   "id": "e86908e8",
   "metadata": {
    "scrolled": false
   },
   "outputs": [],
   "source": [
    "all_cent_list = []\n",
    "all_time_list = []\n",
    "for j in range(len(list_row)):\n",
    "    cent_list = [list_row[j][i][1] for i in range(len(list_row[j]))]\n",
    "    time_list = [list_row[j][i][0] for i in range(len(list_row[j]))]\n",
    "    all_cent_list = all_cent_list + cent_list\n",
    "    all_time_list = all_time_list + time_list"
   ]
  },
  {
   "cell_type": "markdown",
   "id": "79a4eb0e",
   "metadata": {},
   "source": [
    "IPIを求めてリストを作成"
   ]
  },
  {
   "cell_type": "code",
   "execution_count": null,
   "id": "b8a8b516",
   "metadata": {
    "scrolled": true
   },
   "outputs": [],
   "source": [
    "if ipi_flag:\n",
    "    ipi_list, ipi_all_list = analysis.ipi(all_time_list=all_time_list, limsec=45)"
   ]
  },
  {
   "cell_type": "code",
   "execution_count": null,
   "id": "a03384b0",
   "metadata": {},
   "outputs": [],
   "source": [
    "os.makedirs(f'{workdirectory}/analysis', exist_ok=True)\n",
    "if 'ipi_list.txt' not in os.listdir(f'{workdirectory}/analysis'):\n",
    "    with open(f'{workdirectory}/analysis/ipi_list.txt', 'wb') as f:\n",
    "        pickle.dump(ipi_list, f)\n",
    "if 'ipi_all_list.txt' not in os.listdir(f'{workdirectory}/analysis'):\n",
    "    with open(f'{workdirectory}/analysis/ipi_all_list.txt', 'wb') as f:\n",
    "        pickle.dump(ipi_all_list, f)"
   ]
  },
  {
   "cell_type": "code",
   "execution_count": null,
   "id": "8f1dec85",
   "metadata": {},
   "outputs": [],
   "source": [
    "with open(f'{workdirectory}/analysis/ipi_list.txt', 'rb') as f:\n",
    "    ipi_row = pickle.load(f)\n",
    "with open(f'{workdirectory}/analysis/ipi_all_list.txt', 'rb') as f:\n",
    "    ipi_all_row = pickle.load(f)"
   ]
  },
  {
   "cell_type": "markdown",
   "id": "e190f83a",
   "metadata": {},
   "source": [
    "IPIのヒストグラムを作成"
   ]
  },
  {
   "cell_type": "code",
   "execution_count": null,
   "id": "80b7bfae",
   "metadata": {},
   "outputs": [],
   "source": [
    "analysis.ipi_histgram(ipi_row=ipi_row, bins=300)"
   ]
  },
  {
   "cell_type": "markdown",
   "id": "d49d5384",
   "metadata": {},
   "source": [
    "年間の1日あたりの平均IPIと移動平均線のグラフを作成"
   ]
  },
  {
   "cell_type": "code",
   "execution_count": null,
   "id": "8995e2ca",
   "metadata": {
    "scrolled": true
   },
   "outputs": [],
   "source": [
    "ipi_average = analysis.ipima_graph(ipi_row=ipi_row, count_scale=count_scale, day_scale=day_scale)"
   ]
  },
  {
   "cell_type": "markdown",
   "id": "29cb9bf2",
   "metadata": {},
   "source": [
    "中心周波数のヒストグラムを作成"
   ]
  },
  {
   "cell_type": "code",
   "execution_count": null,
   "id": "4b76471d",
   "metadata": {},
   "outputs": [],
   "source": [
    "analysis.cent_histgram(all_cent_list=all_cent_list, bins=200)"
   ]
  },
  {
   "cell_type": "markdown",
   "id": "b3956747",
   "metadata": {},
   "source": [
    "年間の１日辺りの中心周波数と移動平均線のグラフを作成"
   ]
  },
  {
   "cell_type": "code",
   "execution_count": null,
   "id": "9a28254e",
   "metadata": {
    "scrolled": false
   },
   "outputs": [],
   "source": [
    "day_cent_list = analysis.centroid_timescales_graph(count_scale=count_scale,day_scale=day_scale)"
   ]
  },
  {
   "cell_type": "markdown",
   "id": "11f2ad66",
   "metadata": {},
   "source": [
    "call数、中心周波数、IPIを同一スケールに変換、相関関係を見るグラフを作成"
   ]
  },
  {
   "cell_type": "code",
   "execution_count": null,
   "id": "8c2bbc93",
   "metadata": {},
   "outputs": [],
   "source": [
    "day_list = [len(list_row[i]) for i in range(len(list_row))]\n",
    "analysis.ma_graph(day_list=day_list, ipi_average=ipi_average, day_cent_list=day_cent_list,count_scale=count_scale,day_scale=day_scale)"
   ]
  },
  {
   "cell_type": "markdown",
   "id": "1bae9f92",
   "metadata": {},
   "source": [
    "１日ごとの中心周波数"
   ]
  },
  {
   "cell_type": "code",
   "execution_count": null,
   "id": "5225ad6b",
   "metadata": {
    "scrolled": false
   },
   "outputs": [],
   "source": [
    "analysis.cent_day_graph(filelist=filelist)"
   ]
  },
  {
   "cell_type": "markdown",
   "id": "c9f28411",
   "metadata": {},
   "source": [
    "1日毎の休符間隔"
   ]
  },
  {
   "cell_type": "code",
   "execution_count": null,
   "id": "431fa527",
   "metadata": {
    "scrolled": true
   },
   "outputs": [],
   "source": [
    "analysis.ipi_day_graph(filelist=filelist, ipi_all_row=ipi_all_row)"
   ]
  },
  {
   "cell_type": "markdown",
   "id": "274aa722",
   "metadata": {},
   "source": [
    "1日毎の中心周波数と休符間隔"
   ]
  },
  {
   "cell_type": "code",
   "execution_count": null,
   "id": "1479b0d6",
   "metadata": {},
   "outputs": [],
   "source": [
    "analysis.ipi_cent_graph(filelist=filelist)"
   ]
  },
  {
   "cell_type": "markdown",
   "id": "bae6e6f5",
   "metadata": {},
   "source": [
    "signale_ipiで指定した範囲内の鳴音を抽出、グラフを作成"
   ]
  },
  {
   "cell_type": "code",
   "execution_count": null,
   "id": "fea136e7",
   "metadata": {
    "scrolled": true
   },
   "outputs": [],
   "source": [
    "analysis.detect_singlecall(ipi_all_row=ipi_all_row, single_ipi=[30,40], count_scale=count_scale,day_scale=day_scale)"
   ]
  },
  {
   "cell_type": "markdown",
   "id": "e08a7234",
   "metadata": {},
   "source": [
    "#---------------------------------------------------------------------------------------------------#"
   ]
  },
  {
   "cell_type": "markdown",
   "id": "a31722b3",
   "metadata": {},
   "source": [
    "ipiのシーケンス分析"
   ]
  },
  {
   "cell_type": "markdown",
   "id": "a6ec3889",
   "metadata": {},
   "source": [
    "45秒以下の休符間隔で5個以上連続する鳴音をシーケンスとして抽出\n",
    "１つ目の鳴音の中心周波数を省き、休符間隔と個数を合わせている"
   ]
  },
  {
   "cell_type": "code",
   "execution_count": null,
   "id": "bf64dd12",
   "metadata": {},
   "outputs": [],
   "source": [
    "ipi_sequence = analysis.detect_ipi_sequence(ipi_all_row=ipi_all_row, seq_min_num=5)"
   ]
  },
  {
   "cell_type": "markdown",
   "id": "2db2687a",
   "metadata": {},
   "source": [
    "対象日を指定"
   ]
  },
  {
   "cell_type": "code",
   "execution_count": null,
   "id": "597914c8",
   "metadata": {},
   "outputs": [],
   "source": [
    "target_day = '190708'"
   ]
  },
  {
   "cell_type": "code",
   "execution_count": null,
   "id": "a492e1b5",
   "metadata": {},
   "outputs": [],
   "source": [
    "day = [day for day in filelist if target_day in day]\n",
    "if len(day) == 1:\n",
    "    day = day[0]\n",
    "    print(f'対象日:{day}')\n",
    "    day = filelist.index(day)\n",
    "else:\n",
    "    print('Error:対象が複数存在します。')"
   ]
  },
  {
   "cell_type": "markdown",
   "id": "406fefdd",
   "metadata": {},
   "source": [
    "シーケンスを抽出"
   ]
  },
  {
   "cell_type": "code",
   "execution_count": null,
   "id": "a3db9219",
   "metadata": {},
   "outputs": [],
   "source": [
    "peak_call_idx, peak_idx, name = analysis.get_call(filelist[day])\n",
    "ipi_day_seq = []\n",
    "ipi_num = []\n",
    "cent_day_seq = []\n",
    "for j in range(len(ipi_sequence[day])):\n",
    "    a = [ipi_sequence[day][j][i][0] for i in range(len(ipi_sequence[day][j]))]\n",
    "    b = [ipi_sequence[day][j][i][1]/sr for i in range(len(ipi_sequence[day][j]))]\n",
    "    ab = [float(list_row[day][i][1]) for i in range(len(b))]\n",
    "    ipi_num.append(a)\n",
    "    ipi_day_seq.append(b)\n",
    "    cent_day_seq.append(ab)"
   ]
  },
  {
   "cell_type": "markdown",
   "id": "388b981f",
   "metadata": {},
   "source": [
    "対象日のシーケンスの数"
   ]
  },
  {
   "cell_type": "code",
   "execution_count": null,
   "id": "a0777892",
   "metadata": {},
   "outputs": [],
   "source": [
    "len(ipi_sequence[day])"
   ]
  },
  {
   "cell_type": "markdown",
   "id": "dc02b8cd",
   "metadata": {},
   "source": [
    "対象日の各シーケンスの鳴音数"
   ]
  },
  {
   "cell_type": "code",
   "execution_count": null,
   "id": "ff41960d",
   "metadata": {},
   "outputs": [],
   "source": [
    "day_seq_len = [len(i) for i in ipi_sequence[day]]"
   ]
  },
  {
   "cell_type": "code",
   "execution_count": null,
   "id": "fa098167",
   "metadata": {},
   "outputs": [],
   "source": [
    "plt.figure()\n",
    "plt.bar(range(0,len(day_seq_len),1), day_seq_len)\n",
    "plt.title('sequence_length')\n",
    "plt.xlabel('sequence_num')\n",
    "plt.ylabel('call_num')\n",
    "plt.show()"
   ]
  },
  {
   "cell_type": "markdown",
   "id": "2e220628",
   "metadata": {},
   "source": [
    "対象のシーケンス番号を指定"
   ]
  },
  {
   "cell_type": "code",
   "execution_count": null,
   "id": "09bac3e0",
   "metadata": {},
   "outputs": [],
   "source": [
    "seq = 6"
   ]
  },
  {
   "cell_type": "code",
   "execution_count": null,
   "id": "ee9b2c29",
   "metadata": {},
   "outputs": [],
   "source": [
    "seq_time = [int(peak_call_idx[i][1])/sr for i in ipi_num[seq]]\n",
    "seq_h = [i/3600 for i in seq_time]\n",
    "seq_s = round(seq_h[0],2)\n",
    "seq_e = round(seq_h[-1],2)\n",
    "print(f'対象時間{seq_s}-{seq_e}時')"
   ]
  },
  {
   "cell_type": "code",
   "execution_count": null,
   "id": "04595bfc",
   "metadata": {},
   "outputs": [],
   "source": [
    "ipi_day_seq[seq]"
   ]
  },
  {
   "cell_type": "code",
   "execution_count": null,
   "id": "af377384",
   "metadata": {},
   "outputs": [],
   "source": [
    "fig = plt.figure()\n",
    "ax1 = fig.add_subplot(211)\n",
    "ax2 = fig.add_subplot(212)\n",
    "plt.subplots_adjust(hspace=0.6)\n",
    "ax1.scatter(range(0, len(cent_day_seq[seq]),1), cent_day_seq[seq],s=15)\n",
    "ax1.plot(range(0, len(cent_day_seq[seq]),1), cent_day_seq[seq])\n",
    "ax1.set_xticks(np.arange(0,len(cent_day_seq[seq]) , 5))\n",
    "ax1.set_title(f'{name}_{seq_s}-{seq_e}hour')\n",
    "ax1.set_ylabel('centroid')\n",
    "ax1.set_xlabel('sequence')\n",
    "\n",
    "ax2.scatter(range(0, len(ipi_day_seq[seq]),1), ipi_day_seq[seq], s=15)\n",
    "ax2.plot(range(0, len(ipi_day_seq[seq]),1), ipi_day_seq[seq])\n",
    "ax2.set_xticks(np.arange(0,len(ipi_day_seq[seq]),5))\n",
    "ax2.set_ylabel('ipi')\n",
    "ax2.set_xlabel('sequence')\n",
    "plt.show()\n",
    "#fig.savefig(f'{workdirectory}/centroid/{name}_{seq_s}-{seq_e}hour.jpg')"
   ]
  },
  {
   "cell_type": "markdown",
   "id": "d83169dc",
   "metadata": {},
   "source": [
    "#---------------------------------------------------------------------------------------------------#"
   ]
  },
  {
   "cell_type": "markdown",
   "id": "17f7272a",
   "metadata": {},
   "source": [
    "OBS毎の休符間隔毎の鳴音数の割合比較"
   ]
  },
  {
   "cell_type": "markdown",
   "id": "3e699730",
   "metadata": {},
   "source": [
    "Whalecallfield直下の各OBSのディレクトリ名をリスト化する"
   ]
  },
  {
   "cell_type": "code",
   "execution_count": null,
   "id": "65f72cf3",
   "metadata": {},
   "outputs": [],
   "source": [
    "#obs_list = ['1801_2020','1802_2020','1803_2020','1804_2020','1805_2020','1806_2020','1807_2020']\n",
    "obs_list = ['JS1701','JS1702','JS1703','JS1704','JS1705','JS1706','JS1707']"
   ]
  },
  {
   "cell_type": "markdown",
   "id": "80ede8cb",
   "metadata": {},
   "source": [
    "グラフで使用するOBS名をリスト化"
   ]
  },
  {
   "cell_type": "code",
   "execution_count": null,
   "id": "458c0d13",
   "metadata": {},
   "outputs": [],
   "source": [
    "obs_name=['OBS1','OBS2','OBS3','OBS4','OBS5','OBS6','OBS7']"
   ]
  },
  {
   "cell_type": "markdown",
   "id": "4efee5af",
   "metadata": {},
   "source": [
    "グラフのファイル名を指定"
   ]
  },
  {
   "cell_type": "code",
   "execution_count": null,
   "id": "d8ce414f",
   "metadata": {},
   "outputs": [],
   "source": [
    "filename = 'OBS17-18'"
   ]
  },
  {
   "cell_type": "code",
   "execution_count": null,
   "id": "d7ba0363",
   "metadata": {},
   "outputs": [],
   "source": [
    "ipinum = []\n",
    "for i in range(len(obs_list)):\n",
    "    path = f'{workdir_base}/{obs_list[i]}/{currentdirectory}'\n",
    "    low, mid, high = analysis.all_obs_ipi(low_sec=5, high_sec=30, path=path)\n",
    "    ipinum.append([obs_name[i], low, mid, high])\n",
    "with open(f'{workdir_base}/{filename}.txt', 'w', encoding='utf-8') as f:\n",
    "    for i in ipinum:\n",
    "        print(*i, sep=' ', file=f)"
   ]
  },
  {
   "cell_type": "code",
   "execution_count": null,
   "id": "00897e6f",
   "metadata": {},
   "outputs": [],
   "source": [
    "obsfile = []\n",
    "with open(f'{workdir_base}/{filename}.txt', 'r', encoding='utf-8') as f:\n",
    "    for line in f:\n",
    "        obsfile.append(line.rstrip('\\n').split(' '))"
   ]
  },
  {
   "cell_type": "code",
   "execution_count": null,
   "id": "9e0800cd",
   "metadata": {},
   "outputs": [],
   "source": [
    "obsfile"
   ]
  },
  {
   "cell_type": "code",
   "execution_count": null,
   "id": "1083d517",
   "metadata": {},
   "outputs": [],
   "source": [
    "for i in range(len(obsfile)):\n",
    "    obsfile[i] = list(map(int, obsfile[i][1:]))"
   ]
  },
  {
   "cell_type": "code",
   "execution_count": null,
   "id": "3044d590",
   "metadata": {},
   "outputs": [],
   "source": [
    "obsfile"
   ]
  },
  {
   "cell_type": "code",
   "execution_count": null,
   "id": "3a586067",
   "metadata": {},
   "outputs": [],
   "source": [
    "df = pd.DataFrame([obsfile[0],obsfile[1],obsfile[2],obsfile[3],obsfile[4],obsfile[5],obsfile[6]],\n",
    "                 index=obs_name,\n",
    "                  columns=['low','mid','high'])\n",
    "dataset = copy.deepcopy(df.T)"
   ]
  },
  {
   "cell_type": "code",
   "execution_count": null,
   "id": "8f321f2c",
   "metadata": {
    "scrolled": true
   },
   "outputs": [],
   "source": [
    "dataset"
   ]
  },
  {
   "cell_type": "code",
   "execution_count": null,
   "id": "7e98acae",
   "metadata": {},
   "outputs": [],
   "source": [
    "plot_dataset = pd.DataFrame(index = dataset.index)\n",
    "for col in dataset.columns:\n",
    "    plot_dataset[col] = round(100 * dataset[col] / dataset[col].sum(), 1)"
   ]
  },
  {
   "cell_type": "code",
   "execution_count": null,
   "id": "005e92a5",
   "metadata": {},
   "outputs": [],
   "source": [
    "plot_dataset"
   ]
  },
  {
   "cell_type": "code",
   "execution_count": null,
   "id": "6487af7d",
   "metadata": {
    "scrolled": false
   },
   "outputs": [],
   "source": [
    "fig, ax = plt.subplots(figsize=(10, 8))\n",
    "for i in range(len(plot_dataset)):\n",
    "    ax.bar(plot_dataset.columns, \n",
    "           plot_dataset.iloc[i], \n",
    "           bottom=plot_dataset.iloc[:i].sum()\n",
    "          )\n",
    "    for j in range(len(plot_dataset.columns)):\n",
    "        plt.text(x=j, \n",
    "                 y=plot_dataset.iloc[:i, j].sum()+(plot_dataset.iloc[i, j]/2), \n",
    "                 s=f'{plot_dataset.iloc[i, j]}%', \n",
    "                 ha='center', \n",
    "                 va='bottom'\n",
    "                )\n",
    "ax.set(xlabel='OBS', ylabel='%')\n",
    "ax.legend(dataset.index)\n",
    "ax.set_title('OBS_IPI')\n",
    "plt.savefig(f'{workdir_base}/{filename}.jpg')\n",
    "plt.show()"
   ]
  },
  {
   "cell_type": "code",
   "execution_count": null,
   "id": "de460454",
   "metadata": {},
   "outputs": [],
   "source": []
  }
 ],
 "metadata": {
  "kernelspec": {
   "display_name": "Python 3 (ipykernel)",
   "language": "python",
   "name": "python3"
  },
  "language_info": {
   "codemirror_mode": {
    "name": "ipython",
    "version": 3
   },
   "file_extension": ".py",
   "mimetype": "text/x-python",
   "name": "python",
   "nbconvert_exporter": "python",
   "pygments_lexer": "ipython3",
   "version": "3.9.13"
  }
 },
 "nbformat": 4,
 "nbformat_minor": 5
}
