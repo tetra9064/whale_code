{
 "cells": [
  {
   "cell_type": "code",
   "execution_count": 5,
   "id": "ff23a6c4",
   "metadata": {},
   "outputs": [],
   "source": [
    "import numpy as np\n",
    "import matplotlib.pyplot as plt\n",
    "import librosa\n",
    "from librosa import display\n",
    "import glob\n",
    "import os\n",
    "import sys"
   ]
  },
  {
   "cell_type": "markdown",
   "id": "613438b4",
   "metadata": {},
   "source": [
    "関数"
   ]
  },
  {
   "cell_type": "code",
   "execution_count": 2,
   "id": "f209cc09",
   "metadata": {},
   "outputs": [],
   "source": [
    "def spec(number):\n",
    "    plt.rcParams[\"figure.figsize\"] = (12, 12)\n",
    "    plt.figure()\n",
    "    librosa.display.specshow(C, sr=sr,fmin=fmin, fmax=fmax, x_axis='time', y_axis='hz')\n",
    "    plt.ylim(15,40)\n",
    "    plt.axis('off')\n",
    "    plt.show()"
   ]
  },
  {
   "cell_type": "markdown",
   "id": "936ee2cb",
   "metadata": {},
   "source": [
    "初期値設定"
   ]
  },
  {
   "cell_type": "code",
   "execution_count": 3,
   "id": "8ae0868b",
   "metadata": {},
   "outputs": [],
   "source": [
    "obs = '1805'\n",
    "\n",
    "# フーリエ変換\n",
    "n_fft = 256 # データの取得幅\n",
    "hop_length = int(n_fft*0.01) # 次の取得までの幅\n",
    "fmin = 5\n",
    "fmax = 50"
   ]
  },
  {
   "cell_type": "code",
   "execution_count": 6,
   "id": "74b31f7a",
   "metadata": {
    "scrolled": true
   },
   "outputs": [],
   "source": [
    "#windows\n",
    "sys.path.append(\"C:/Users/tomoaki/Desktop/python\")"
   ]
  },
  {
   "cell_type": "code",
   "execution_count": 7,
   "id": "215aa2f1",
   "metadata": {},
   "outputs": [],
   "source": [
    "#mac\n",
    "#sys.path.append(\"/Users/nakahigashikazuo3/Desktop\")"
   ]
  },
  {
   "cell_type": "code",
   "execution_count": 8,
   "id": "123eeefa",
   "metadata": {},
   "outputs": [],
   "source": [
    "from whale_call_package import whale_call as wh\n",
    "from whale_call_package import parameter_setting as para"
   ]
  },
  {
   "cell_type": "markdown",
   "id": "bef9d06b",
   "metadata": {},
   "source": [
    "作業ディレクトリ、データが格納されているディレクトリを記述。"
   ]
  },
  {
   "cell_type": "code",
   "execution_count": 9,
   "id": "fd6e8393",
   "metadata": {},
   "outputs": [],
   "source": [
    "#windows\n",
    "preworkdirectory='D:/whale/data/WhaleCallField'\n",
    "datadirectory='D:/whale/data/origindata/1805_2020'"
   ]
  },
  {
   "cell_type": "code",
   "execution_count": 10,
   "id": "c31e50ed",
   "metadata": {},
   "outputs": [],
   "source": [
    "#mac\n",
    "#preworkdirectory='/Volumes/LaCie/WhaleCallField'\n",
    "#datadirectory='/Volumes/LaCie/JS18a/data/1805_2020'"
   ]
  },
  {
   "cell_type": "markdown",
   "id": "167e851e",
   "metadata": {},
   "source": [
    "パラメータ変更用に作業ディレクトリ下にカレントディレクトリを設定する"
   ]
  },
  {
   "cell_type": "code",
   "execution_count": 11,
   "id": "f359e7e2",
   "metadata": {},
   "outputs": [],
   "source": [
    "currentdirectory = '3'\n",
    "parameter_number = '2'"
   ]
  },
  {
   "cell_type": "code",
   "execution_count": 12,
   "id": "34038215",
   "metadata": {},
   "outputs": [],
   "source": [
    "workdirectory=preworkdirectory+'/'+currentdirectory"
   ]
  },
  {
   "cell_type": "code",
   "execution_count": 13,
   "id": "5815f846",
   "metadata": {},
   "outputs": [],
   "source": [
    "whale = wh.SetField(workdirectory=workdirectory, datadirectory=datadirectory)"
   ]
  },
  {
   "cell_type": "markdown",
   "id": "bd15153f",
   "metadata": {},
   "source": [
    "#-----------------------------------------------------------------------------#"
   ]
  },
  {
   "cell_type": "code",
   "execution_count": 14,
   "id": "ef5862c1",
   "metadata": {},
   "outputs": [],
   "source": [
    "with open(f'{workdirectory}/cfar/pick_list.txt', 'r', encoding='utf-8') as f:\n",
    "    picked = []\n",
    "    for line in f:\n",
    "        picked.append(line.strip()+ '/split/')"
   ]
  },
  {
   "cell_type": "code",
   "execution_count": 15,
   "id": "ae8ee68f",
   "metadata": {},
   "outputs": [
    {
     "data": {
      "text/plain": [
       "['D:/whale/data/WhaleCallField/3/cfar/180727/split/',\n",
       " 'D:/whale/data/WhaleCallField/3/cfar/180728/split/',\n",
       " 'D:/whale/data/WhaleCallField/3/cfar/180729/split/',\n",
       " 'D:/whale/data/WhaleCallField/3/cfar/180730/split/',\n",
       " 'D:/whale/data/WhaleCallField/3/cfar/180731/split/',\n",
       " 'D:/whale/data/WhaleCallField/3/cfar/180801/split/',\n",
       " 'D:/whale/data/WhaleCallField/3/cfar/180802/split/',\n",
       " 'D:/whale/data/WhaleCallField/3/cfar/180803/split/',\n",
       " 'D:/whale/data/WhaleCallField/3/cfar/180804/split/',\n",
       " 'D:/whale/data/WhaleCallField/3/cfar/180805/split/',\n",
       " 'D:/whale/data/WhaleCallField/3/cfar/180806/split/',\n",
       " 'D:/whale/data/WhaleCallField/3/cfar/180807/split/',\n",
       " 'D:/whale/data/WhaleCallField/3/cfar/180808/split/',\n",
       " 'D:/whale/data/WhaleCallField/3/cfar/180809/split/',\n",
       " 'D:/whale/data/WhaleCallField/3/cfar/180810/split/',\n",
       " 'D:/whale/data/WhaleCallField/3/cfar/180811/split/',\n",
       " 'D:/whale/data/WhaleCallField/3/cfar/180812/split/',\n",
       " 'D:/whale/data/WhaleCallField/3/cfar/180813/split/',\n",
       " 'D:/whale/data/WhaleCallField/3/cfar/180814/split/',\n",
       " 'D:/whale/data/WhaleCallField/3/cfar/180815/split/',\n",
       " 'D:/whale/data/WhaleCallField/3/cfar/180816/split/',\n",
       " 'D:/whale/data/WhaleCallField/3/cfar/180817/split/',\n",
       " 'D:/whale/data/WhaleCallField/3/cfar/180818/split/',\n",
       " 'D:/whale/data/WhaleCallField/3/cfar/180819/split/',\n",
       " 'D:/whale/data/WhaleCallField/3/cfar/180820/split/',\n",
       " 'D:/whale/data/WhaleCallField/3/cfar/180821/split/',\n",
       " 'D:/whale/data/WhaleCallField/3/cfar/180822/split/',\n",
       " 'D:/whale/data/WhaleCallField/3/cfar/180823/split/',\n",
       " 'D:/whale/data/WhaleCallField/3/cfar/180824/split/',\n",
       " 'D:/whale/data/WhaleCallField/3/cfar/180825/split/',\n",
       " 'D:/whale/data/WhaleCallField/3/cfar/180826/split/',\n",
       " 'D:/whale/data/WhaleCallField/3/cfar/180827/split/',\n",
       " 'D:/whale/data/WhaleCallField/3/cfar/190201/split/',\n",
       " 'D:/whale/data/WhaleCallField/3/cfar/190202/split/',\n",
       " 'D:/whale/data/WhaleCallField/3/cfar/190203/split/',\n",
       " 'D:/whale/data/WhaleCallField/3/cfar/190204/split/',\n",
       " 'D:/whale/data/WhaleCallField/3/cfar/190205/split/',\n",
       " 'D:/whale/data/WhaleCallField/3/cfar/190206/split/',\n",
       " 'D:/whale/data/WhaleCallField/3/cfar/190207/split/',\n",
       " 'D:/whale/data/WhaleCallField/3/cfar/190208/split/',\n",
       " 'D:/whale/data/WhaleCallField/3/cfar/190209/split/',\n",
       " 'D:/whale/data/WhaleCallField/3/cfar/190210/split/',\n",
       " 'D:/whale/data/WhaleCallField/3/cfar/190211/split/',\n",
       " 'D:/whale/data/WhaleCallField/3/cfar/190212/split/']"
      ]
     },
     "execution_count": 15,
     "metadata": {},
     "output_type": "execute_result"
    }
   ],
   "source": [
    "picked"
   ]
  },
  {
   "cell_type": "code",
   "execution_count": 11,
   "id": "1543ee92",
   "metadata": {},
   "outputs": [],
   "source": [
    "for day in range(len(picked)):\n",
    "            \n",
    "    splitfilelist = sorted(glob.glob(f'{picked[day]}*.wav'))\n",
    "    names = splitfilelist[day]\n",
    "    name = names[32:38]\n",
    "\n",
    "    os.makedirs(f'D:/whale/data/{obs}/{name}/fig', exist_ok=True)\n",
    "\n",
    "    with open(f'D:/whale/data/{obs}/{name}/peak.txt','r',encoding='utf-8') as f:\n",
    "        peak_idx = []\n",
    "        for line in f:\n",
    "            peak_idx.append(line)\n",
    "    del peak_idx[0]\n",
    "\n",
    "    for i in range(len(splitfilelist)):\n",
    "        y, sr = librosa.audio.load(splitfilelist[i], sr=200)\n",
    "\n",
    "        C = np.abs(librosa.stft(y,n_fft=n_fft,hop_length=hop_length,win_length=n_fft,window='hann'))\n",
    "\n",
    "        spec(i)"
   ]
  },
  {
   "cell_type": "code",
   "execution_count": null,
   "id": "64b35b2c",
   "metadata": {},
   "outputs": [],
   "source": []
  }
 ],
 "metadata": {
  "kernelspec": {
   "display_name": "Python 3 (ipykernel)",
   "language": "python",
   "name": "python3"
  },
  "language_info": {
   "codemirror_mode": {
    "name": "ipython",
    "version": 3
   },
   "file_extension": ".py",
   "mimetype": "text/x-python",
   "name": "python",
   "nbconvert_exporter": "python",
   "pygments_lexer": "ipython3",
   "version": "3.9.12"
  }
 },
 "nbformat": 4,
 "nbformat_minor": 5
}
