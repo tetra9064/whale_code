{
 "cells": [
  {
   "cell_type": "code",
   "execution_count": 1,
   "id": "4a6df0bc",
   "metadata": {},
   "outputs": [],
   "source": [
    "import os\n",
    "import glob\n",
    "import numpy as np\n",
    "import matplotlib.pyplot as plt \n",
    "import tensorflow as tf\n",
    "from keras.models import load_model\n",
    "from tensorflow.keras.preprocessing.image import img_to_array, load_img,ImageDataGenerator"
   ]
  },
  {
   "cell_type": "code",
   "execution_count": 2,
   "id": "641e013f",
   "metadata": {},
   "outputs": [],
   "source": [
    "data_name = '1805/180820'\n",
    "target_dir = '1805/180802'"
   ]
  },
  {
   "cell_type": "code",
   "execution_count": 3,
   "id": "691732c2",
   "metadata": {},
   "outputs": [],
   "source": [
    "model = load_model(f'D:/whale/data/{data_name}/model/my_model.h5')    "
   ]
  },
  {
   "cell_type": "code",
   "execution_count": 4,
   "id": "5c1835ed",
   "metadata": {
    "scrolled": true
   },
   "outputs": [
    {
     "name": "stdout",
     "output_type": "stream",
     "text": [
      "Model: \"sequential\"\n",
      "_________________________________________________________________\n",
      "Layer (type)                 Output Shape              Param #   \n",
      "=================================================================\n",
      "conv2d (Conv2D)              (None, 128, 128, 32)      896       \n",
      "_________________________________________________________________\n",
      "activation (Activation)      (None, 128, 128, 32)      0         \n",
      "_________________________________________________________________\n",
      "conv2d_1 (Conv2D)            (None, 126, 126, 32)      9248      \n",
      "_________________________________________________________________\n",
      "activation_1 (Activation)    (None, 126, 126, 32)      0         \n",
      "_________________________________________________________________\n",
      "max_pooling2d (MaxPooling2D) (None, 63, 63, 32)        0         \n",
      "_________________________________________________________________\n",
      "dropout (Dropout)            (None, 63, 63, 32)        0         \n",
      "_________________________________________________________________\n",
      "conv2d_2 (Conv2D)            (None, 61, 61, 64)        18496     \n",
      "_________________________________________________________________\n",
      "activation_2 (Activation)    (None, 61, 61, 64)        0         \n",
      "_________________________________________________________________\n",
      "conv2d_3 (Conv2D)            (None, 59, 59, 64)        36928     \n",
      "_________________________________________________________________\n",
      "activation_3 (Activation)    (None, 59, 59, 64)        0         \n",
      "_________________________________________________________________\n",
      "max_pooling2d_1 (MaxPooling2 (None, 29, 29, 64)        0         \n",
      "_________________________________________________________________\n",
      "dropout_1 (Dropout)          (None, 29, 29, 64)        0         \n",
      "_________________________________________________________________\n",
      "flatten (Flatten)            (None, 53824)             0         \n",
      "_________________________________________________________________\n",
      "dense (Dense)                (None, 512)               27558400  \n",
      "_________________________________________________________________\n",
      "activation_4 (Activation)    (None, 512)               0         \n",
      "_________________________________________________________________\n",
      "dense_1 (Dense)              (None, 512)               262656    \n",
      "_________________________________________________________________\n",
      "activation_5 (Activation)    (None, 512)               0         \n",
      "_________________________________________________________________\n",
      "dropout_2 (Dropout)          (None, 512)               0         \n",
      "_________________________________________________________________\n",
      "dense_2 (Dense)              (None, 5)                 2565      \n",
      "_________________________________________________________________\n",
      "activation_6 (Activation)    (None, 5)                 0         \n",
      "=================================================================\n",
      "Total params: 27,889,189\n",
      "Trainable params: 27,889,189\n",
      "Non-trainable params: 0\n",
      "_________________________________________________________________\n"
     ]
    }
   ],
   "source": [
    "model.summary()"
   ]
  },
  {
   "cell_type": "code",
   "execution_count": 5,
   "id": "0e6bd4d5",
   "metadata": {
    "scrolled": true
   },
   "outputs": [],
   "source": [
    "img_list = glob.glob(f'D:/whale/data/{target_dir}/fig/*.jpg')\n",
    "target_list = []\n",
    "\n",
    "for i in range(len(img_list)):\n",
    "    img_path = load_img(img_list[i], target_size=(128,128))\n",
    "    img_array = img_to_array(img_path)\n",
    "    img = img_to_array(img_array)/255\n",
    "    img = img[None,]\n",
    "    target_list.append(img)"
   ]
  },
  {
   "cell_type": "code",
   "execution_count": 6,
   "id": "a8919d7f",
   "metadata": {},
   "outputs": [],
   "source": [
    "labels = []\n",
    "with open(f'D:/whale/data/{data_name}/model/labels.txt', 'r', encoding='utf=8') as f:\n",
    "    for line in f:\n",
    "        line = line.rstrip()\n",
    "        labels.append(line)\n",
    "\n",
    "result = [0]*len(labels)\n",
    "        \n",
    "for target in target_list:\n",
    "    pred = model.predict(target, batch_size=1)\n",
    "    score = np.max(pred)\n",
    "    pred_label = labels[np.argmax(pred[0])]\n",
    "    result[int(pred_label)] += 1"
   ]
  },
  {
   "cell_type": "code",
   "execution_count": 7,
   "id": "1fd12137",
   "metadata": {},
   "outputs": [
    {
     "data": {
      "text/plain": [
       "[146, 285, 555, 1217, 811]"
      ]
     },
     "execution_count": 7,
     "metadata": {},
     "output_type": "execute_result"
    }
   ],
   "source": [
    "result"
   ]
  },
  {
   "cell_type": "code",
   "execution_count": 8,
   "id": "0c6680a3",
   "metadata": {},
   "outputs": [
    {
     "data": {
      "text/plain": [
       "<BarContainer object of 5 artists>"
      ]
     },
     "execution_count": 8,
     "metadata": {},
     "output_type": "execute_result"
    },
    {
     "data": {
      "image/png": "[encoded data removed]",
      "text/plain": [
       "<Figure size 432x288 with 1 Axes>"
      ]
     },
     "metadata": {
      "needs_background": "light"
     },
     "output_type": "display_data"
    }
   ],
   "source": [
    "plt.bar(labels,result)"
   ]
  },
  {
   "cell_type": "code",
   "execution_count": null,
   "id": "ab893a9f",
   "metadata": {},
   "outputs": [],
   "source": []
  }
 ],
 "metadata": {
  "kernelspec": {
   "display_name": "Python 3 (ipykernel)",
   "language": "python",
   "name": "python3"
  },
  "language_info": {
   "codemirror_mode": {
    "name": "ipython",
    "version": 3
   },
   "file_extension": ".py",
   "mimetype": "text/x-python",
   "name": "python",
   "nbconvert_exporter": "python",
   "pygments_lexer": "ipython3",
   "version": "3.9.13"
  }
 },
 "nbformat": 4,
 "nbformat_minor": 5
}
