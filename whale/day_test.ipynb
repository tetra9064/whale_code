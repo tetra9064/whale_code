{
 "cells": [
  {
   "cell_type": "markdown",
   "id": "b90528ff",
   "metadata": {},
   "source": [
    "#---------------------------------------------------------------------------------------------------#"
   ]
  },
  {
   "cell_type": "markdown",
   "id": "2ab02b49",
   "metadata": {},
   "source": [
    "<h2>初期設定</h2>"
   ]
  },
  {
   "cell_type": "markdown",
   "id": "ebdd3adf",
   "metadata": {},
   "source": [
    "<h3>1.各種ライブラリのインポート</h3>"
   ]
  },
  {
   "cell_type": "code",
   "execution_count": null,
   "id": "02418c62",
   "metadata": {},
   "outputs": [],
   "source": [
    "import sys\n",
    "import os\n",
    "import gc\n",
    "import re\n",
    "import math\n",
    "import tqdm\n",
    "import itertools\n",
    "import shutil\n",
    "import pickle\n",
    "import numpy as np\n",
    "import pandas as pd\n",
    "import librosa\n",
    "import matplotlib.pyplot as plt\n",
    "from scipy import signal\n",
    "%matplotlib inline"
   ]
  },
  {
   "cell_type": "markdown",
   "id": "38109a38",
   "metadata": {},
   "source": [
    "<h3>2.whale_call_packageディレクトリを格納している絶対パスを記述.</h3>\n"
   ]
  },
  {
   "cell_type": "code",
   "execution_count": null,
   "id": "004e88a7",
   "metadata": {},
   "outputs": [],
   "source": [
    "#windows\n",
    "sys.path.append(\"C:/Users")"
   ]
  },
  {
   "cell_type": "markdown",
   "id": "527b4bdc",
   "metadata": {},
   "source": [
    "<h3>3.whale_call_packageをインポート</h3>"
   ]
  },
  {
   "cell_type": "code",
   "execution_count": null,
   "id": "123eeefa",
   "metadata": {
    "scrolled": true
   },
   "outputs": [],
   "source": [
    "from whale_call_package import whale_call as wh\n",
    "from whale_call_package import parameter_setting as para"
   ]
  },
  {
   "cell_type": "code",
   "execution_count": null,
   "id": "1bad9bd5",
   "metadata": {},
   "outputs": [],
   "source": [
    "#OBSナンバーを選択。数字6桁以上は避けてほしい。\n",
    "obs = '1805_2020'"
   ]
  },
  {
   "cell_type": "markdown",
   "id": "bef9d06b",
   "metadata": {},
   "source": [
    "<h3>4.データを出力するディレクトリ、データが格納されているディレクトリを記述。</h3>不要な方をコメントアウト"
   ]
  },
  {
   "cell_type": "markdown",
   "id": "d1a706c0",
   "metadata": {},
   "source": [
    "datadirectoryの方をobsデータの入っている絶対パスに変更するだけでOK。"
   ]
  },
  {
   "cell_type": "code",
   "execution_count": null,
   "id": "1bf02573",
   "metadata": {},
   "outputs": [],
   "source": [
    "#windows\n",
    "workdir_base = f'D:/whale/data/WhaleCallField'\n",
    "preworkdirectory=f'{workdir_base}/{obs}'\n",
    "datadirectory=f'D:/whale/data/origindata/{obs}'\n",
    "#datadirectory=f'D:/whale/JB17a/{obs}'"
   ]
  },
  {
   "cell_type": "markdown",
   "id": "b22a626f",
   "metadata": {},
   "source": [
    "#mac\n",
    "preworkdirectory=f'/Volumes/LaCie/WhaleCallField/{obs}'\n",
    "datadirectory=f'/Volumes/LaCie/JS18a/data/{obs}'"
   ]
  },
  {
   "cell_type": "markdown",
   "id": "167e851e",
   "metadata": {},
   "source": [
    "<h3>5.パラメータ変更用に作業ディレクトリ下にディレクトリを設定する</h3>"
   ]
  },
  {
   "cell_type": "code",
   "execution_count": null,
   "id": "f359e7e2",
   "metadata": {},
   "outputs": [],
   "source": [
    "currentdirectory = '5' #任意の名前をつける.数字４文字以上は不具合が出る\n",
    "parameter_number = '2' #whale_call_package内のparameter_setting.pyを確認"
   ]
  },
  {
   "cell_type": "code",
   "execution_count": null,
   "id": "4ed11fe1",
   "metadata": {},
   "outputs": [],
   "source": [
    "#環境設定をインスタンス化し、作業ディレクトリを作成、waveファイルのリストを取得する\n",
    "workdirectory=preworkdirectory+'/'+currentdirectory\n",
    "whale = wh.SetField(workdirectory=workdirectory, datadirectory=datadirectory)\n",
    "whale.make_directory()\n",
    "filelist = whale.get_wavfilelist()"
   ]
  },
  {
   "cell_type": "markdown",
   "id": "eafef929",
   "metadata": {},
   "source": [
    "<h3>6.処理を行うwavファイルを指定する場合以下を実行する。</h3>不要ならば全てコメントアウト"
   ]
  },
  {
   "cell_type": "markdown",
   "id": "046ace2c",
   "metadata": {},
   "source": [
    "<h4>1．任意で指定する。</h4>"
   ]
  },
  {
   "cell_type": "code",
   "execution_count": null,
   "id": "9109a3de",
   "metadata": {},
   "outputs": [],
   "source": [
    "#filelist = whale.pick_wavfilelist(filelist=filelist, month=[\"1904\"])\n",
    "#\"1808\", \"1809\", \"1810\", \"1811\", \"1812\", \"1901\", , \"1903\", \"1904\",\"1905\",\"1906\",\"1907\""
   ]
  },
  {
   "cell_type": "markdown",
   "id": "76a895d5",
   "metadata": {},
   "source": [
    "<h4>2．ランダムで指定する。</h4>"
   ]
  },
  {
   "cell_type": "code",
   "execution_count": null,
   "id": "9541e36a",
   "metadata": {},
   "outputs": [],
   "source": [
    "#filelist = whale.random_pick_wavfilelist(filelist=filelist, pick_num=5)"
   ]
  },
  {
   "cell_type": "markdown",
   "id": "b0245736",
   "metadata": {},
   "source": [
    "<h4>3.不要なファイルを削除する。</h4>"
   ]
  },
  {
   "cell_type": "code",
   "execution_count": null,
   "id": "4e3c09c9",
   "metadata": {},
   "outputs": [],
   "source": [
    "#filelist = whale.del_wavfile(filelist=filelist, del_list=['180725','180726'])"
   ]
  },
  {
   "cell_type": "markdown",
   "id": "22f86e8e",
   "metadata": {},
   "source": [
    "<h4>4.最初の２日を排除する。</h4>"
   ]
  },
  {
   "cell_type": "code",
   "execution_count": null,
   "id": "d39416cc",
   "metadata": {},
   "outputs": [],
   "source": [
    "filelist = filelist[2:]"
   ]
  },
  {
   "cell_type": "markdown",
   "id": "5b652cbe",
   "metadata": {},
   "source": [
    "取得したファイル一覧"
   ]
  },
  {
   "cell_type": "code",
   "execution_count": null,
   "id": "7db40002",
   "metadata": {
    "scrolled": true
   },
   "outputs": [],
   "source": [
    "filelist"
   ]
  },
  {
   "cell_type": "code",
   "execution_count": null,
   "id": "f4430fbb",
   "metadata": {},
   "outputs": [],
   "source": [
    "#各パラメータセッティング\n",
    "sr, n_fft, hop_length, fmin, fmax, fpass, fstop, gpass, gstop, num_train, num_guard, rate_fa = para.para(parameter_number)"
   ]
  },
  {
   "cell_type": "code",
   "execution_count": null,
   "id": "e0cadc98",
   "metadata": {},
   "outputs": [],
   "source": [
    "#各パラメータのログ出力\n",
    "para.make_parameter_log(workdirectory=workdirectory, sr=sr, n_fft=n_fft, fmin=fmin, fmax=fmax, fpass=fpass, fstop=fstop, gpass=gpass, gstop=gstop, num_train=num_train, num_guard=num_guard, rate_fa=rate_fa)"
   ]
  },
  {
   "cell_type": "code",
   "execution_count": null,
   "id": "70513610",
   "metadata": {},
   "outputs": [],
   "source": [
    "#グラフ描画用のスケール取得\n",
    "day_scale, count_scale = whale.timescales(filelist=filelist)"
   ]
  },
  {
   "cell_type": "markdown",
   "id": "fe145f32",
   "metadata": {},
   "source": [
    "<h3>7.各処理の実行有無を決定</h3>"
   ]
  },
  {
   "cell_type": "code",
   "execution_count": null,
   "id": "1cd1485c",
   "metadata": {},
   "outputs": [],
   "source": [
    "#Trueで実行する\n",
    "\n",
    "#クラスタリングの実行\n",
    "clustering = False\n",
    "#クラスタリング結果を画像表示\n",
    "cluster_fig = False\n",
    "#クラスタリングで分類したものの中心周波数を抽出\n",
    "cent_sep_flag = False"
   ]
  },
  {
   "cell_type": "markdown",
   "id": "2a6c3d18",
   "metadata": {},
   "source": [
    "#---------------------------------------------------------------------------------------------------#"
   ]
  },
  {
   "cell_type": "markdown",
   "id": "d36b1c31",
   "metadata": {},
   "source": [
    "<h2>CFARに関する処理</h2>"
   ]
  },
  {
   "cell_type": "markdown",
   "id": "51e87aea",
   "metadata": {},
   "source": [
    "<h3>1.初期設定</h3>"
   ]
  },
  {
   "cell_type": "code",
   "execution_count": null,
   "id": "da205c69",
   "metadata": {
    "scrolled": true
   },
   "outputs": [],
   "source": [
    "cfar = wh.Cfar(workdirectory=workdirectory, datadirectory=datadirectory, sr=sr, n_fft=n_fft, hop_length=hop_length, fmin=fmin, fmax=fmax, fpass=fpass, fstop=fstop, gpass=gpass, gstop=gstop, num_train=num_train, num_guard=num_guard, rate_fa=rate_fa)"
   ]
  },
  {
   "cell_type": "markdown",
   "id": "2b97ee16",
   "metadata": {},
   "source": [
    "パラメータ\n",
    "・parameter_setting.pyに記載されている各パラメータ\n",
    "・保存するsplit音声ファイルの長さ"
   ]
  },
  {
   "cell_type": "code",
   "execution_count": null,
   "id": "e0818d9a",
   "metadata": {},
   "outputs": [],
   "source": [
    "#単日検証する日付を指定する\n",
    "handle_day = '180727' #yymmdd"
   ]
  },
  {
   "cell_type": "markdown",
   "id": "ef90c9a9",
   "metadata": {},
   "source": [
    "#---------------------------------------------------------------------------------------------------#"
   ]
  },
  {
   "cell_type": "markdown",
   "id": "50321066",
   "metadata": {},
   "source": [
    "<h3>2.+単日検証用の処理</h3>"
   ]
  },
  {
   "cell_type": "code",
   "execution_count": null,
   "id": "189b8b32",
   "metadata": {
    "scrolled": true
   },
   "outputs": [],
   "source": [
    "target_file = [i for i in filelist if f\"{handle_day}\" in i]\n",
    "name = cfar.make_cfar_dir(i=target_file[0])\n",
    "y, sr = cfar.get_wav(file=target_file[0])\n",
    "data = cfar.bandpass(x=y, freqpass=fpass, freqstop=fstop, gpass=gpass, gstop=gstop)\n",
    "peak_idx = cfar.run_cfar(data, name)\n",
    "cfar.make_split_wavfile(time=3, peak_idx=peak_idx, name=name, data=y) #time=音声ファイルの長さ.peakを中心とする\n",
    "\n",
    "with open(f'{workdirectory}/cfar/pick_list.txt','r',encoding='utf-8') as f:\n",
    "    lines = f.readlines()\n",
    "    lines.pop(-1)\n",
    "with open(f'{workdirectory}/cfar/pick_list.txt','w',encoding='utf-8') as f:\n",
    "    for line in lines:\n",
    "        f.write(line)"
   ]
  },
  {
   "cell_type": "markdown",
   "id": "ab1a6c0e",
   "metadata": {},
   "source": [
    "グラフの詳細についてはwhale_call_packeage内のCfarクラス、mark_calls_one_dayを確認する"
   ]
  },
  {
   "cell_type": "code",
   "execution_count": null,
   "id": "9d9f33bd",
   "metadata": {
    "scrolled": true
   },
   "outputs": [],
   "source": [
    "cfar.mark_calls_one_day(handle_day=handle_day, filelist=filelist)"
   ]
  },
  {
   "cell_type": "markdown",
   "id": "b24916ed",
   "metadata": {},
   "source": [
    "#---------------------------------------------------------------------------------------------------#"
   ]
  },
  {
   "cell_type": "markdown",
   "id": "80da0bd8",
   "metadata": {},
   "source": [
    "<h2>スペクトログラム作成</h2>"
   ]
  },
  {
   "cell_type": "markdown",
   "id": "e9fb8a59",
   "metadata": {},
   "source": [
    "<h3>1.初期設定</h3>"
   ]
  },
  {
   "cell_type": "code",
   "execution_count": null,
   "id": "32229fcd",
   "metadata": {},
   "outputs": [],
   "source": [
    "spec = wh.MakeSpectrogram(workdirectory=workdirectory, datadirectory=datadirectory, sr=sr, n_fft=n_fft, hop_length=hop_length, fmin=fmin, fmax=fmax, fpass=fpass, fstop=fstop, gpass=gpass, gstop=gstop, num_train=num_train, num_guard=num_guard, rate_fa=rate_fa)"
   ]
  },
  {
   "cell_type": "markdown",
   "id": "c50d3bcd",
   "metadata": {},
   "source": [
    "<h3>2.+単日検証用</h3>"
   ]
  },
  {
   "cell_type": "markdown",
   "id": "470ce7f5",
   "metadata": {},
   "source": [
    "n秒のwaveファイルが存在しないと動作しない"
   ]
  },
  {
   "cell_type": "code",
   "execution_count": null,
   "id": "31dc3a80",
   "metadata": {
    "scrolled": true
   },
   "outputs": [],
   "source": [
    "data, sr = librosa.audio.load(f'{workdirectory}/cfar/{handle_day}/split/{handle_day}_004027.wav', sr=sr) "
   ]
  },
  {
   "cell_type": "code",
   "execution_count": null,
   "id": "51bf9f59",
   "metadata": {},
   "outputs": [],
   "source": [
    "separate_spec = 24\n",
    "ym = data.copy()\n",
    "dx_data=np.array(ym[0:int(len(ym)/separate_spec)])"
   ]
  },
  {
   "cell_type": "code",
   "execution_count": null,
   "id": "bc345f57",
   "metadata": {
    "scrolled": false
   },
   "outputs": [],
   "source": [
    "c = np.abs(librosa.stft(data,n_fft=n_fft,hop_length=hop_length,win_length=n_fft,window='hann'))\n",
    "C, phase = librosa.magphase(c)\n",
    "Cdb = librosa.amplitude_to_db(np.abs(C), ref=np.max)\n",
    "plt.figure(figsize=[12, 8])\n",
    "librosa.display.specshow(data=Cdb, sr=sr,fmin=fmin, fmax=fmax, x_axis='time', y_axis='hz')\n",
    "plt.ylim(10, 40)\n",
    "plt.show()"
   ]
  },
  {
   "cell_type": "code",
   "execution_count": null,
   "id": "8eeb7258",
   "metadata": {
    "scrolled": true
   },
   "outputs": [],
   "source": [
    "s = pd.DataFrame(C.flatten())\n",
    "s.hist(bins=20, range=(s.min().values[0],s.quantile(0.9).values[0]) )"
   ]
  },
  {
   "cell_type": "code",
   "execution_count": null,
   "id": "dff6ed27",
   "metadata": {
    "scrolled": true
   },
   "outputs": [],
   "source": [
    "spec.make_sep_spec(ym, separate_spec)"
   ]
  },
  {
   "cell_type": "markdown",
   "id": "66b54ecc",
   "metadata": {},
   "source": [
    "#---------------------------------------------------------------------------------------------------#"
   ]
  },
  {
   "cell_type": "markdown",
   "id": "a73854f8",
   "metadata": {},
   "source": [
    "<h2>画像から中心周波数等のパラメータを抽出する</h2>"
   ]
  },
  {
   "cell_type": "markdown",
   "id": "6241b77f",
   "metadata": {},
   "source": [
    "<h3>1.初期設定</h3>"
   ]
  },
  {
   "cell_type": "code",
   "execution_count": null,
   "id": "1c78b1e7",
   "metadata": {},
   "outputs": [],
   "source": [
    "analysis = wh.Analysis(workdirectory=workdirectory, datadirectory=datadirectory, sr=sr, n_fft=n_fft, hop_length=hop_length, fmin=fmin, fmax=fmax, fpass=fpass, fstop=fstop, gpass=gpass, gstop=gstop, num_train=num_train, num_guard=num_guard, rate_fa=rate_fa)"
   ]
  },
  {
   "cell_type": "markdown",
   "id": "c4dc74d8",
   "metadata": {},
   "source": [
    "<h3>2.+単日検証用</h3>"
   ]
  },
  {
   "cell_type": "code",
   "execution_count": null,
   "id": "273f7876",
   "metadata": {},
   "outputs": [],
   "source": [
    "y, sr = librosa.audio.load(f'{workdirectory}/cfar/{handle_day}/split/{handle_day}_000067.wav', sr=sr)"
   ]
  },
  {
   "cell_type": "code",
   "execution_count": null,
   "id": "bf8111f1",
   "metadata": {
    "scrolled": false
   },
   "outputs": [],
   "source": [
    "#二回目以降\n",
    "adjust = 0\n",
    "num = 1\n",
    "num_count = 0\n",
    "while num > 0.0001:\n",
    "\n",
    "    if num_count == 0:\n",
    "        adjust_fpass = np.array([10,40])\n",
    "    else:\n",
    "        adjust_fpass = np.array([cent.T[cent_peak_idx]-5,cent.T[cent_peak_idx]+5])\n",
    "    #バンドパスフィルタを適用する\n",
    "    data = cfar.bandpass(x=y, freqpass=adjust_fpass, freqstop=fstop, gpass=gpass, gstop=gstop)\n",
    "    S, phase = librosa.magphase(librosa.stft(y=data, n_fft=n_fft, hop_length=hop_length,win_length=n_fft,window='hann'))\n",
    "    cent = librosa.feature.spectral_centroid(S=S, sr=sr,n_fft=3,hop_length=2,window='hann')\n",
    "    times = librosa.times_like(cent,sr=sr)\n",
    "\n",
    "    if num_count == 0:\n",
    "        cent_peak_idx = len(cent.T)//2\n",
    "\n",
    "    if num_count > 0:\n",
    "        num = hz - cent.T[cent_peak_idx]\n",
    "    hz = cent.T[cent_peak_idx]\n",
    "\n",
    "    num_count += 1\n",
    "    print(hz)\n",
    "\n",
    "    hzdata = cfar.bandpass(x=y, freqpass=np.array([cent.T[cent_peak_idx]-2.5,cent.T[cent_peak_idx]+2.5]), freqstop=fstop, gpass=gpass, gstop=gstop)\n",
    "\n",
    "    temp =len(hzdata)//3 + np.argmax(np.abs(hzdata[len(hzdata)//3:2*len(hzdata)//3+1]))\n",
    "    cent_peak_idx = round(len(times)*temp/len(hzdata))\n",
    "\n",
    "print(num_count)"
   ]
  },
  {
   "cell_type": "code",
   "execution_count": null,
   "id": "19e6bbde",
   "metadata": {},
   "outputs": [],
   "source": [
    "S, phase = librosa.magphase(librosa.stft(y=y, n_fft=n_fft, hop_length=hop_length,win_length=n_fft,window='hann'))\n",
    "Cdb = librosa.amplitude_to_db(np.abs(S), ref=np.max)"
   ]
  },
  {
   "cell_type": "code",
   "execution_count": null,
   "id": "2b89d17e",
   "metadata": {
    "scrolled": false
   },
   "outputs": [],
   "source": [
    "fig, ax = plt.subplots()\n",
    "librosa.display.specshow(data=Cdb, sr=sr,fmin=10,fmax=fmax, x_axis='s', y_axis='hz', ax=ax)\n",
    "ax.plot(times, cent.T, label='Spectral centroid', color='g')\n",
    "ax.plot(times[cent_peak_idx], cent.T[cent_peak_idx],marker='.', color='blue',markersize =20)\n",
    "ax.set_ylim(10,fmax)\n",
    "ax.legend(loc='upper right')\n",
    "ax.set(title='spectrogram')\n",
    "ax.set_xticks([times[0],times[100],times[200],times[300]])\n",
    "ax.set_xticklabels([0,1,2,3])"
   ]
  },
  {
   "cell_type": "code",
   "execution_count": null,
   "id": "9f70cb9f",
   "metadata": {},
   "outputs": [],
   "source": [
    "print(cent_peak_idx)\n",
    "print(int((times[cent_peak_idx]/np.max(times)-0.5)*sr*3))"
   ]
  },
  {
   "cell_type": "code",
   "execution_count": null,
   "id": "18bd013e",
   "metadata": {
    "scrolled": false
   },
   "outputs": [],
   "source": [
    "librosa.display.waveshow(y=hzdata,sr=sr)\n",
    "#bandpass[centroid+-2.5]"
   ]
  },
  {
   "cell_type": "code",
   "execution_count": null,
   "id": "b6189718",
   "metadata": {},
   "outputs": [],
   "source": [
    "peak_idx = []\n",
    "with open(f'{workdirectory}/cfar/{handle_day}/peak.txt', 'r' ,encoding='utf-8', newline='\\n') as f:\n",
    "    for line in f:\n",
    "        peak_idx.append(line)\n",
    "peak_idx = peak_idx[2:]\n",
    "for i in range(len(peak_idx)):\n",
    "    peak_idx[i] = peak_idx[i].split(' ')"
   ]
  },
  {
   "cell_type": "code",
   "execution_count": null,
   "id": "a713b7f1",
   "metadata": {
    "scrolled": true
   },
   "outputs": [],
   "source": [
    "centroid_list=[]\n",
    "for i in range(len(peak_idx)):\n",
    "    wav_idx = str(i)\n",
    "    while len(wav_idx) < 6:\n",
    "        wav_idx = '0' + wav_idx\n",
    "    cent_num, times = analysis.centroid(handle_day=handle_day, wav_idx=wav_idx)\n",
    "    centroid_list.append(cent_num)"
   ]
  },
  {
   "cell_type": "code",
   "execution_count": null,
   "id": "49796268",
   "metadata": {},
   "outputs": [],
   "source": [
    "centroid_list"
   ]
  },
  {
   "cell_type": "code",
   "execution_count": null,
   "id": "ade96c7e",
   "metadata": {
    "scrolled": false
   },
   "outputs": [],
   "source": [
    "cent_list = [i[1] for i in centroid_list]\n",
    "plt.plot(cent_list)"
   ]
  },
  {
   "cell_type": "markdown",
   "id": "25e68260",
   "metadata": {},
   "source": [
    "<h3>中心周波数、IPIを抽出</h3>"
   ]
  },
  {
   "cell_type": "markdown",
   "id": "6217b6a8",
   "metadata": {},
   "source": [
    "任意のcall の中心周波数の検出過程画像を出力する"
   ]
  },
  {
   "cell_type": "code",
   "execution_count": null,
   "id": "7f55d715",
   "metadata": {
    "scrolled": true
   },
   "outputs": [],
   "source": [
    "analysis.one_cent_fig(handle_day='190215', number='000031')"
   ]
  },
  {
   "cell_type": "markdown",
   "id": "11028b1f",
   "metadata": {},
   "source": [
    "#---------------------------------------------------------------------------------------------------#"
   ]
  },
  {
   "cell_type": "markdown",
   "id": "449310b2",
   "metadata": {},
   "source": [
    "<h2>k平均法で画像を自動分類</h2> "
   ]
  },
  {
   "cell_type": "markdown",
   "id": "81c2ee58",
   "metadata": {},
   "source": [
    "せっかく作ったので一応残しておきます"
   ]
  },
  {
   "cell_type": "code",
   "execution_count": null,
   "id": "043cf87c",
   "metadata": {},
   "outputs": [],
   "source": [
    "cluster = wh.Clustering(workdirectory=workdirectory, datadirectory=datadirectory, sr=sr, n_fft=n_fft, hop_length=hop_length, fmin=fmin, fmax=fmax, fpass=fpass, fstop=fstop, gpass=gpass, gstop=gstop, num_train=num_train, num_guard=num_guard, rate_fa=rate_fa)"
   ]
  },
  {
   "cell_type": "code",
   "execution_count": null,
   "id": "f3d316ac",
   "metadata": {},
   "outputs": [],
   "source": [
    "if cluster_fig:\n",
    "    %matplotlib notebook\n",
    "    cluster_number = 8\n",
    "    picked = spec.get_sp_wav(filelist=filelist)"
   ]
  },
  {
   "cell_type": "code",
   "execution_count": null,
   "id": "5bbe732d",
   "metadata": {
    "scrolled": true
   },
   "outputs": [],
   "source": [
    "if clustering:\n",
    "    cluster.cluster_qw_sent(conv_dir=f'{workdirectory}/cfar/all/sep_fig/call', cluster_number=cluster_number)"
   ]
  },
  {
   "cell_type": "code",
   "execution_count": null,
   "id": "601a747c",
   "metadata": {},
   "outputs": [],
   "source": [
    "if clustering:\n",
    "    cluster.cluster_analysis(sr=sr)"
   ]
  },
  {
   "cell_type": "code",
   "execution_count": null,
   "id": "24d26358",
   "metadata": {
    "scrolled": false
   },
   "outputs": [],
   "source": [
    "if cluster_fig:\n",
    "    for i in os.listdir(f'{workdirectory}/cfar/all/group_sum'):\n",
    "        a = np.load(f'{workdirectory}/cfar/all/group_sum/{i}',allow_pickle=True)\n",
    "        x = np.arange(len(a[0]))\n",
    "        y = np.arange(len(a))\n",
    "        X,Y=np.meshgrid(x,y)\n",
    "\n",
    "        fig = plt.figure()\n",
    "        ax = fig.add_subplot(projection='3d')\n",
    "        ax.plot_surface(X, Y, a)\n",
    "\n",
    "        ax.set_title(f'{i}')\n",
    "\n",
    "        ax.set_xlabel('hour')\n",
    "        ax.set_ylabel('date')\n",
    "        ax.set_zlabel('n_call')"
   ]
  },
  {
   "cell_type": "code",
   "execution_count": null,
   "id": "0f77003d",
   "metadata": {},
   "outputs": [],
   "source": [
    "if clustering:\n",
    "    cluster.all_3d_graph(sr=sr)"
   ]
  },
  {
   "cell_type": "code",
   "execution_count": null,
   "id": "7771c9b9",
   "metadata": {},
   "outputs": [],
   "source": [
    "if cluster_fig:\n",
    "    a = np.load(f'{workdirectory}/cfar/all/all.npy',allow_pickle=True)\n",
    "    x = np.arange(len(a[0]))\n",
    "    y = np.arange(len(a))\n",
    "    X,Y=np.meshgrid(x,y)\n",
    "\n",
    "    fig = plt.figure()\n",
    "    ax = fig.add_subplot(projection='3d')\n",
    "    ax.plot_surface(X, Y, a)\n",
    "\n",
    "    ax.set_title('all')\n",
    "\n",
    "    ax.set_xlabel('hour')\n",
    "    ax.set_ylabel('date')\n",
    "    ax.set_zlabel('n_call')"
   ]
  },
  {
   "cell_type": "code",
   "execution_count": null,
   "id": "aabd2321",
   "metadata": {},
   "outputs": [],
   "source": [
    "%matplotlib inline"
   ]
  },
  {
   "cell_type": "code",
   "execution_count": null,
   "id": "e5dff560",
   "metadata": {
    "scrolled": true
   },
   "outputs": [],
   "source": [
    "if cent_sep_flag:\n",
    "    cluster.run_sep_cent(filelist=filelist)"
   ]
  },
  {
   "cell_type": "code",
   "execution_count": null,
   "id": "24b0f840",
   "metadata": {},
   "outputs": [],
   "source": [
    "os.makedirs(f'{workdirectory}/centroid/sep', exist_ok=True)"
   ]
  },
  {
   "cell_type": "code",
   "execution_count": null,
   "id": "280a6ab1",
   "metadata": {
    "scrolled": false
   },
   "outputs": [],
   "source": [
    "group_list = os.listdir(f'{workdirectory}/cfar/all/fig_group')\n",
    "for path in group_list:\n",
    "    cent_list = []\n",
    "    with open(f'{workdirectory}/analysis/sep/cent_{path}.txt', 'rb') as f:\n",
    "        cent_list = pickle.load(f)\n",
    "    all_cent_list = []\n",
    "    for j in range(len(cent_list)):\n",
    "        cent_sep_list = [cent_list[j][i][1] for i in range(len(cent_list[j]))]\n",
    "        all_cent_list = all_cent_list + cent_sep_list\n",
    "    al = list(map(float, all_cent_list))\n",
    "    ar = [round(i, 1) for i in al]\n",
    "    fig = plt.figure()\n",
    "    plt.hist(ar, bins=200)\n",
    "    plt.xlim(10,30)\n",
    "    plt.ylim(0,2500)\n",
    "    plt.savefig(f'{workdirectory}/centroid/sep/{path}.jpg')"
   ]
  }
 ],
 "metadata": {
  "kernelspec": {
   "display_name": "Python 3 (ipykernel)",
   "language": "python",
   "name": "python3"
  },
  "language_info": {
   "codemirror_mode": {
    "name": "ipython",
    "version": 3
   },
   "file_extension": ".py",
   "mimetype": "text/x-python",
   "name": "python",
   "nbconvert_exporter": "python",
   "pygments_lexer": "ipython3",
   "version": "3.9.13"
  }
 },
 "nbformat": 4,
 "nbformat_minor": 5
}
