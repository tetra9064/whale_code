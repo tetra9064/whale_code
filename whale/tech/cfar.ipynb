{
 "cells": [
  {
   "cell_type": "code",
   "execution_count": 1,
   "id": "804828bb",
   "metadata": {},
   "outputs": [],
   "source": [
    "%matplotlib inline\n",
    "import numpy as np\n",
    "import pandas as pd\n",
    "import matplotlib.pyplot as plt\n",
    "import librosa\n",
    "from scipy import signal\n",
    "from scipy.io.wavfile import write as wavwrite\n",
    "import datetime\n",
    "import glob\n",
    "import os\n",
    "import random"
   ]
  },
  {
   "cell_type": "markdown",
   "id": "416111a3",
   "metadata": {},
   "source": [
    "関数"
   ]
  },
  {
   "cell_type": "code",
   "execution_count": 2,
   "id": "78227ba2",
   "metadata": {},
   "outputs": [],
   "source": [
    "# フーリエ変換の初期設定\n",
    "n_fft = 206 # データの取得幅\n",
    "hop_length = int(n_fft*0.01) # 次の取得までの幅\n",
    "fmin = 5\n",
    "fmax = 50"
   ]
  },
  {
   "cell_type": "code",
   "execution_count": 3,
   "id": "352afd6f",
   "metadata": {},
   "outputs": [],
   "source": [
    "# バンドパスフィルタの初期設定\n",
    "fp = np.array([15, 40]) #通過域端周波数\n",
    "fs = np.array([5, 50]) #阻止域端周波数\n",
    "gpass = 3   #通過域端最大損失[dB]\n",
    "gstop = 40   #阻止域最小損失[dB]"
   ]
  },
  {
   "cell_type": "code",
   "execution_count": 8,
   "id": "10fe4748",
   "metadata": {},
   "outputs": [],
   "source": [
    "#CFARの初期設定\n",
    "num_train = 800\n",
    "num_guard = 400\n",
    "rate_fa = 6e-3"
   ]
  },
  {
   "cell_type": "code",
   "execution_count": 14,
   "id": "b6cec1b6",
   "metadata": {
    "scrolled": true
   },
   "outputs": [
    {
     "data": {
      "text/plain": [
       "0.6989700043360189"
      ]
     },
     "execution_count": 14,
     "metadata": {},
     "output_type": "execute_result"
    }
   ],
   "source": [
    "np.log10(5)"
   ]
  },
  {
   "cell_type": "code",
   "execution_count": 21,
   "id": "c05b14ae",
   "metadata": {},
   "outputs": [],
   "source": [
    "y, sr = librosa.audio.load(filelist[20], sr=200)"
   ]
  },
  {
   "cell_type": "code",
   "execution_count": 25,
   "id": "af8f32d1",
   "metadata": {
    "scrolled": true
   },
   "outputs": [
    {
     "data": {
      "text/plain": [
       "1.0"
      ]
     },
     "execution_count": 25,
     "metadata": {},
     "output_type": "execute_result"
    }
   ],
   "source": [
    "np.max(np.abs(y))"
   ]
  },
  {
   "cell_type": "code",
   "execution_count": 24,
   "id": "10def9f2",
   "metadata": {},
   "outputs": [
    {
     "data": {
      "text/plain": [
       "1.013279e-05"
      ]
     },
     "execution_count": 24,
     "metadata": {},
     "output_type": "execute_result"
    }
   ],
   "source": [
    "np.min(np.abs(y))"
   ]
  },
  {
   "cell_type": "code",
   "execution_count": 9,
   "id": "f5a706a5",
   "metadata": {},
   "outputs": [
    {
     "data": {
      "text/plain": [
       "5.13238911936984"
      ]
     },
     "execution_count": 9,
     "metadata": {},
     "output_type": "execute_result"
    }
   ],
   "source": [
    "#alpha\n",
    "num_train*(rate_fa**(-1/num_train) - 1)"
   ]
  },
  {
   "cell_type": "code",
   "execution_count": 5,
   "id": "84004dad",
   "metadata": {},
   "outputs": [],
   "source": [
    "def bandpass(x, sr, fp, fs, gpass, gstop):\n",
    "    fn = sr / 2   #ナイキスト周波数\n",
    "    wp = fp / fn  #通過域端周波数を正規化\n",
    "    ws = fs / fn  #阻止域端周波数を正規化\n",
    "    N, Wn = signal.buttord(wp, ws, gpass, gstop) \n",
    "    b, a = signal.butter(N, Wn, \"band\")          \n",
    "    y = signal.filtfilt(b, a, x)                  \n",
    "    return y          "
   ]
  },
  {
   "cell_type": "code",
   "execution_count": 6,
   "id": "8363d785",
   "metadata": {},
   "outputs": [],
   "source": [
    "def detect_peaks(x, num_train, num_guard, rate_fa):   \n",
    "    num_cells = x.size\n",
    "    num_train_half = round(num_train / 2)\n",
    "    num_guard_half = round(num_guard / 2)\n",
    "    num_side = num_train_half + num_guard_half\n",
    " \n",
    "    alpha = num_train*(rate_fa**(-1/num_train) - 1) # threshold factor\n",
    "    \n",
    "    \n",
    "    peak_idx = []\n",
    "    noise_idx = []\n",
    "    \n",
    "    for i in range(num_side, num_cells - num_side):\n",
    "        #指定範囲内の最大値のインデックス番号を取得し、i-num_sideを足した数がiと同値なら省く。\n",
    "        if i != i-num_side+np.argmax(x[i-num_side:i+num_side+1]): \n",
    "            continue\n",
    "        \n",
    "        sum1 = np.sum(x[i-num_side:i+num_side+1])\n",
    "        sum2 = np.sum(x[i-num_guard_half:i+num_guard_half+1]) \n",
    "        p_noise = (sum1 - sum2) / num_train \n",
    "        threshold = alpha * p_noise\n",
    "        \n",
    "        if x[i] > threshold: \n",
    "            peak_idx.append(i)\n",
    "    \n",
    "    return peak_idx"
   ]
  },
  {
   "cell_type": "markdown",
   "id": "1a9e48ac",
   "metadata": {},
   "source": [
    "ファイルの指定"
   ]
  },
  {
   "cell_type": "code",
   "execution_count": 15,
   "id": "38e0bdd6",
   "metadata": {},
   "outputs": [],
   "source": [
    "#obs番号\n",
    "obs = '1805'\n",
    "#出力する日数\n",
    "pick_num = 5"
   ]
  },
  {
   "cell_type": "code",
   "execution_count": 16,
   "id": "4bb1044a",
   "metadata": {
    "scrolled": true
   },
   "outputs": [],
   "source": [
    "filelist = sorted(glob.glob(f'D:/whale/data/origindata/{obs}_2020/*.wav'))"
   ]
  },
  {
   "cell_type": "code",
   "execution_count": 9,
   "id": "b5bf0b8d",
   "metadata": {
    "scrolled": false
   },
   "outputs": [
    {
     "data": {
      "text/plain": [
       "'D:/whale/data/origindata/1805_2020\\\\180725-000000.wav'"
      ]
     },
     "execution_count": 9,
     "metadata": {},
     "output_type": "execute_result"
    }
   ],
   "source": [
    "filelist.pop(len(filelist)-1)\n",
    "filelist.pop(0)"
   ]
  },
  {
   "cell_type": "code",
   "execution_count": 10,
   "id": "f788a1a9",
   "metadata": {},
   "outputs": [],
   "source": [
    "pick = random.sample(list([i for i in range(len(filelist))]), pick_num)"
   ]
  },
  {
   "cell_type": "code",
   "execution_count": 11,
   "id": "0c30b55b",
   "metadata": {},
   "outputs": [
    {
     "name": "stdout",
     "output_type": "stream",
     "text": [
      "D:/whale/data/origindata/1805_2020\\190402-000000.wav\n",
      "D:/whale/data/origindata/1805_2020\\180820-000000.wav\n",
      "D:/whale/data/origindata/1805_2020\\190407-000000.wav\n",
      "D:/whale/data/origindata/1805_2020\\181224-000000.wav\n",
      "D:/whale/data/origindata/1805_2020\\190725-000000.wav\n"
     ]
    }
   ],
   "source": [
    "for i in pick:\n",
    "    print(filelist[i])"
   ]
  },
  {
   "cell_type": "code",
   "execution_count": 12,
   "id": "6fc43821",
   "metadata": {},
   "outputs": [],
   "source": [
    "try:\n",
    "    for number in pick:\n",
    "        #wavファイルの読み込み\n",
    "        y, sr = librosa.audio.load(filelist[number], sr=200)\n",
    "        names = str(filelist[number])\n",
    "        name = names[35:41]\n",
    "        os.makedirs(f'D:/whale/data/{obs}/{name}')\n",
    "        os.makedirs(f'D:/whale/data/{obs}/{name}/split', exist_ok=True)\n",
    "\n",
    "        #バンドパスフィルタを適用\n",
    "        data = bandpass(y, sr=sr, fp=fp, fs=fs, gpass=gpass, gstop=gstop)\n",
    "\n",
    "        #CFAR\n",
    "        peak_idx = detect_peaks(np.abs(data), num_train=num_train, num_guard=num_guard, rate_fa=rate_fa)\n",
    "\n",
    "        #peak_idxを作成\n",
    "        with open(f'D:/whale/data/{obs}/{name}/peak.txt', 'w',encoding='utf-8', newline='\\n') as f:\n",
    "            f.write(f'検出数：{str(len(peak_idx))} num_train={num_train} num_guard={num_guard}rate_fa={rate_fa}\\n')\n",
    "            for i in peak_idx:\n",
    "                tm = datetime.timedelta(seconds=int(i/200))\n",
    "                f.write(str(tm) + ' ' + str(i) +'\\n')\n",
    "                \n",
    "        #pick_listの作成\n",
    "        with open(f'D:/whale/data/{obs}/pick_list.txt', 'a', encoding='utf=8') as f:\n",
    "            print(f'D:/whale/data/{obs}/{name}', file=f)\n",
    "\n",
    "        #3sのwavファイルを出力\n",
    "        for i in range(len(peak_idx)):\n",
    "            nameint = ['0'] * 6\n",
    "            nameint.append(str(i))\n",
    "            for j in range(len(str(i))):\n",
    "                del nameint[0]\n",
    "            namea = ''.join(nameint)\n",
    "            wavwrite(f'D:/whale/data/{obs}/{name}/split/{name}_{namea}.wav',sr, data[peak_idx[i]-300:peak_idx[i]+300])\n",
    "except FileExistError as e:\n",
    "    print(f'{obs}_{name}は実行済みです')"
   ]
  },
  {
   "cell_type": "code",
   "execution_count": null,
   "id": "9b264ffd",
   "metadata": {},
   "outputs": [],
   "source": []
  }
 ],
 "metadata": {
  "kernelspec": {
   "display_name": "Python 3 (ipykernel)",
   "language": "python",
   "name": "python3"
  },
  "language_info": {
   "codemirror_mode": {
    "name": "ipython",
    "version": 3
   },
   "file_extension": ".py",
   "mimetype": "text/x-python",
   "name": "python",
   "nbconvert_exporter": "python",
   "pygments_lexer": "ipython3",
   "version": "3.7.11"
  }
 },
 "nbformat": 4,
 "nbformat_minor": 5
}
