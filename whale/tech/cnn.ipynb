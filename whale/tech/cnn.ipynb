{
 "cells": [
  {
   "cell_type": "code",
   "execution_count": 1,
   "metadata": {},
   "outputs": [],
   "source": [
    "import tensorflow as tf\n",
    "from tensorflow.keras.layers import Conv2D, MaxPooling2D\n",
    "from tensorflow.keras.models import Sequential\n",
    "from tensorflow.keras.layers import Dense, Dropout, Activation, Flatten\n",
    "from tensorflow.keras.preprocessing.image import array_to_img, img_to_array, load_img, ImageDataGenerator\n",
    "from sklearn.metrics import confusion_matrix\n",
    "import seaborn as sns\n",
    "import numpy as np\n",
    "import random\n",
    "import matplotlib.pyplot as plt\n",
    "import sys\n",
    "import os\n",
    "import shutil\n",
    "import math\n",
    "import glob\n",
    "import traceback\n",
    "from keras import regularizers"
   ]
  },
  {
   "cell_type": "markdown",
   "metadata": {},
   "source": [
    "参照するデータを選択"
   ]
  },
  {
   "cell_type": "code",
   "execution_count": 2,
   "metadata": {},
   "outputs": [],
   "source": [
    "data_name = '1805/180820'"
   ]
  },
  {
   "cell_type": "markdown",
   "metadata": {},
   "source": [
    "テスト用のデータを作成。"
   ]
  },
  {
   "cell_type": "code",
   "execution_count": 3,
   "metadata": {
    "scrolled": true
   },
   "outputs": [],
   "source": [
    "try:    \n",
    "    class_list = os.listdir(f'D:/whale/data/{data_name}/fig_group')\n",
    "\n",
    "    for i in range(len(class_list)):\n",
    "        filelist = []\n",
    "        valfile = []\n",
    "        os.makedirs(f'D:/whale/data/{data_name}/target/{i}')\n",
    "        filelist = sorted(glob.glob(f'D:/whale/data/{data_name}/fig_group/{i}/*.jpg'))\n",
    "        valfile = random.sample(filelist, int(len(filelist)*0.1))\n",
    "\n",
    "        for j in valfile:\n",
    "            shutil.move(j,f'D:/whale/data/{data_name}/target/{i}')\n",
    "except FileExistsError as e:\n",
    "    print('テスト用データは既に作成されています。')"
   ]
  },
  {
   "cell_type": "markdown",
   "metadata": {},
   "source": [
    "ディレクトリ指定。クラス数のメモ。"
   ]
  },
  {
   "cell_type": "code",
   "execution_count": 4,
   "metadata": {
    "colab": {
     "base_uri": "https://localhost:8080/"
    },
    "executionInfo": {
     "elapsed": 2226,
     "status": "ok",
     "timestamp": 1628089980997,
     "user": {
      "displayName": "永井智明",
      "photoUrl": "",
      "userId": "10594926859558892824"
     },
     "user_tz": -540
    },
    "id": "b0M27-adIaCu",
    "outputId": "d085e4ce-e236-43ea-9a38-59112d955e7a",
    "scrolled": false
   },
   "outputs": [],
   "source": [
    "train_dir = f'D:/whale/data/{data_name}/fig_group'\n",
    "val_dir = f'D:/whale/data/{data_name}/target'\n",
    "backup_dir = f'D:/whale/data/{data_name}/model'\n",
    "\n",
    "labels = [d for d in os.listdir(train_dir) if os.path.isdir(os.path.join(train_dir, d))]\n",
    "labels.sort()\n",
    "\n",
    "num_classes = len(labels)\n",
    "\n",
    "if os.path.exists(backup_dir):\n",
    "    shutil.rmtree(backup_dir)\n",
    "\n",
    "os.makedirs(backup_dir)\n",
    "\n",
    "with open(backup_dir + '/labels.txt','w') as f:\n",
    "    for label in labels:\n",
    "        f.write(label+\"\\n\")"
   ]
  },
  {
   "cell_type": "markdown",
   "metadata": {},
   "source": [
    "ハイパーパラメータ"
   ]
  },
  {
   "cell_type": "code",
   "execution_count": 5,
   "metadata": {},
   "outputs": [],
   "source": [
    "# 学習率\n",
    "learning_rate = 1e-3\n",
    "# エポック\n",
    "epochs = 30\n",
    "# バッチサイズ\n",
    "batch_size = 128\n",
    "#画像サイズ\n",
    "image_size =128"
   ]
  },
  {
   "cell_type": "markdown",
   "metadata": {},
   "source": [
    "学習開始"
   ]
  },
  {
   "cell_type": "code",
   "execution_count": 6,
   "metadata": {
    "colab": {
     "base_uri": "https://localhost:8080/",
     "height": 1000
    },
    "executionInfo": {
     "elapsed": 608093,
     "status": "ok",
     "timestamp": 1628090593355,
     "user": {
      "displayName": "永井智明",
      "photoUrl": "",
      "userId": "10594926859558892824"
     },
     "user_tz": -540
    },
    "id": "F37DWY9CIa7u",
    "outputId": "fcc36209-8247-4f09-db21-f1d49586878b",
    "scrolled": false
   },
   "outputs": [
    {
     "name": "stdout",
     "output_type": "stream",
     "text": [
      "Found 7735 images belonging to 5 classes.\n",
      "Found 857 images belonging to 5 classes.\n",
      "Model: \"sequential\"\n",
      "_________________________________________________________________\n",
      "Layer (type)                 Output Shape              Param #   \n",
      "=================================================================\n",
      "conv2d (Conv2D)              (None, 128, 128, 32)      896       \n",
      "_________________________________________________________________\n",
      "activation (Activation)      (None, 128, 128, 32)      0         \n",
      "_________________________________________________________________\n",
      "conv2d_1 (Conv2D)            (None, 126, 126, 32)      9248      \n",
      "_________________________________________________________________\n",
      "activation_1 (Activation)    (None, 126, 126, 32)      0         \n",
      "_________________________________________________________________\n",
      "max_pooling2d (MaxPooling2D) (None, 63, 63, 32)        0         \n",
      "_________________________________________________________________\n",
      "dropout (Dropout)            (None, 63, 63, 32)        0         \n",
      "_________________________________________________________________\n",
      "conv2d_2 (Conv2D)            (None, 61, 61, 64)        18496     \n",
      "_________________________________________________________________\n",
      "activation_2 (Activation)    (None, 61, 61, 64)        0         \n",
      "_________________________________________________________________\n",
      "conv2d_3 (Conv2D)            (None, 59, 59, 64)        36928     \n",
      "_________________________________________________________________\n",
      "activation_3 (Activation)    (None, 59, 59, 64)        0         \n",
      "_________________________________________________________________\n",
      "max_pooling2d_1 (MaxPooling2 (None, 29, 29, 64)        0         \n",
      "_________________________________________________________________\n",
      "dropout_1 (Dropout)          (None, 29, 29, 64)        0         \n",
      "_________________________________________________________________\n",
      "flatten (Flatten)            (None, 53824)             0         \n",
      "_________________________________________________________________\n",
      "dense (Dense)                (None, 512)               27558400  \n",
      "_________________________________________________________________\n",
      "activation_4 (Activation)    (None, 512)               0         \n",
      "_________________________________________________________________\n",
      "dense_1 (Dense)              (None, 512)               262656    \n",
      "_________________________________________________________________\n",
      "activation_5 (Activation)    (None, 512)               0         \n",
      "_________________________________________________________________\n",
      "dropout_2 (Dropout)          (None, 512)               0         \n",
      "_________________________________________________________________\n",
      "dense_2 (Dense)              (None, 5)                 2565      \n",
      "_________________________________________________________________\n",
      "activation_6 (Activation)    (None, 5)                 0         \n",
      "=================================================================\n",
      "Total params: 27,889,189\n",
      "Trainable params: 27,889,189\n",
      "Non-trainable params: 0\n",
      "_________________________________________________________________\n",
      "Epoch 1/30\n",
      "61/61 [==============================] - 15s 122ms/step - loss: 1.2528 - accuracy: 0.7483 - val_loss: 0.6432 - val_accuracy: 0.8740\n",
      "Epoch 2/30\n",
      "61/61 [==============================] - 6s 95ms/step - loss: 0.5928 - accuracy: 0.8855 - val_loss: 0.6784 - val_accuracy: 0.8191\n",
      "Epoch 3/30\n",
      "61/61 [==============================] - 6s 96ms/step - loss: 0.4955 - accuracy: 0.9010 - val_loss: 0.4512 - val_accuracy: 0.9113\n",
      "Epoch 4/30\n",
      "61/61 [==============================] - 6s 95ms/step - loss: 0.4413 - accuracy: 0.9158 - val_loss: 0.4030 - val_accuracy: 0.9230\n",
      "Epoch 5/30\n",
      "61/61 [==============================] - 6s 95ms/step - loss: 0.3737 - accuracy: 0.9312 - val_loss: 0.3674 - val_accuracy: 0.9230\n",
      "Epoch 6/30\n",
      "61/61 [==============================] - 6s 96ms/step - loss: 0.3400 - accuracy: 0.9390 - val_loss: 0.3337 - val_accuracy: 0.9370\n",
      "Epoch 7/30\n",
      "61/61 [==============================] - 6s 96ms/step - loss: 0.3473 - accuracy: 0.9333 - val_loss: 0.3695 - val_accuracy: 0.9172\n",
      "Epoch 8/30\n",
      "61/61 [==============================] - 6s 95ms/step - loss: 0.3452 - accuracy: 0.9295 - val_loss: 0.3277 - val_accuracy: 0.9382\n",
      "Epoch 9/30\n",
      "61/61 [==============================] - 6s 97ms/step - loss: 0.3155 - accuracy: 0.9391 - val_loss: 0.3373 - val_accuracy: 0.9288\n",
      "Epoch 10/30\n",
      "61/61 [==============================] - 6s 97ms/step - loss: 0.3209 - accuracy: 0.9299 - val_loss: 0.3278 - val_accuracy: 0.9253\n",
      "Epoch 11/30\n",
      "61/61 [==============================] - 6s 97ms/step - loss: 0.2936 - accuracy: 0.9423 - val_loss: 0.3029 - val_accuracy: 0.9242\n",
      "Epoch 12/30\n",
      "61/61 [==============================] - 6s 96ms/step - loss: 0.2580 - accuracy: 0.9515 - val_loss: 0.3392 - val_accuracy: 0.9113\n",
      "Epoch 13/30\n",
      "61/61 [==============================] - 6s 97ms/step - loss: 0.2667 - accuracy: 0.9451 - val_loss: 0.3808 - val_accuracy: 0.8950\n",
      "Epoch 14/30\n",
      "61/61 [==============================] - 6s 95ms/step - loss: 0.2522 - accuracy: 0.9532 - val_loss: 0.3668 - val_accuracy: 0.9008\n",
      "Epoch 15/30\n",
      "61/61 [==============================] - 6s 96ms/step - loss: 0.2533 - accuracy: 0.9495 - val_loss: 0.2565 - val_accuracy: 0.9475\n",
      "Epoch 16/30\n",
      "61/61 [==============================] - 6s 96ms/step - loss: 0.2121 - accuracy: 0.9632 - val_loss: 0.2371 - val_accuracy: 0.9557\n",
      "Epoch 17/30\n",
      "61/61 [==============================] - 6s 97ms/step - loss: 0.2089 - accuracy: 0.9626 - val_loss: 0.2452 - val_accuracy: 0.9428\n",
      "Epoch 18/30\n",
      "61/61 [==============================] - 6s 96ms/step - loss: 0.2550 - accuracy: 0.9436 - val_loss: 0.2972 - val_accuracy: 0.9242\n",
      "Epoch 19/30\n",
      "61/61 [==============================] - 6s 96ms/step - loss: 0.2315 - accuracy: 0.9522 - val_loss: 0.2559 - val_accuracy: 0.9405\n",
      "Epoch 20/30\n",
      "61/61 [==============================] - 6s 96ms/step - loss: 0.1871 - accuracy: 0.9685 - val_loss: 0.2684 - val_accuracy: 0.9207\n",
      "Epoch 21/30\n",
      "61/61 [==============================] - 6s 96ms/step - loss: 0.1877 - accuracy: 0.9651 - val_loss: 0.2683 - val_accuracy: 0.9288\n",
      "Epoch 22/30\n",
      "61/61 [==============================] - 6s 96ms/step - loss: 0.1972 - accuracy: 0.9595 - val_loss: 0.2795 - val_accuracy: 0.9218\n",
      "Epoch 23/30\n",
      "61/61 [==============================] - 6s 96ms/step - loss: 0.2028 - accuracy: 0.9585 - val_loss: 0.2384 - val_accuracy: 0.9440\n",
      "Epoch 24/30\n",
      "61/61 [==============================] - 6s 97ms/step - loss: 0.2149 - accuracy: 0.9555 - val_loss: 0.2542 - val_accuracy: 0.9370\n",
      "Epoch 25/30\n",
      "61/61 [==============================] - 6s 97ms/step - loss: 0.1715 - accuracy: 0.9699 - val_loss: 0.3068 - val_accuracy: 0.9102\n",
      "Epoch 26/30\n",
      "61/61 [==============================] - 6s 96ms/step - loss: 0.1660 - accuracy: 0.9716 - val_loss: 0.2319 - val_accuracy: 0.9405\n",
      "Epoch 27/30\n",
      "61/61 [==============================] - 6s 97ms/step - loss: 0.1838 - accuracy: 0.9660 - val_loss: 0.2515 - val_accuracy: 0.9370\n",
      "Epoch 28/30\n",
      "61/61 [==============================] - 6s 96ms/step - loss: 0.1588 - accuracy: 0.9747 - val_loss: 0.2750 - val_accuracy: 0.9323\n",
      "Epoch 29/30\n",
      "61/61 [==============================] - 6s 96ms/step - loss: 0.1554 - accuracy: 0.9717 - val_loss: 0.3117 - val_accuracy: 0.9148\n",
      "Epoch 30/30\n",
      "61/61 [==============================] - 6s 97ms/step - loss: 0.1881 - accuracy: 0.9629 - val_loss: 0.2553 - val_accuracy: 0.9335\n",
      "7/7 [==============================] - 1s 82ms/step - loss: 0.2553 - accuracy: 0.9335\n",
      "Test loss: 0.25528180599212646\n",
      "Test accuracy: 0.9334889054298401\n"
     ]
    }
   ],
   "source": [
    "#画像のリサイズ\n",
    "train_data_gen = ImageDataGenerator(rescale=1./255)\n",
    "val_data_gen = ImageDataGenerator(rescale=1./255)\n",
    "\n",
    "train_data = train_data_gen.flow_from_directory(\n",
    "    train_dir, target_size=(image_size, image_size),\n",
    "    color_mode='rgb', batch_size=batch_size,\n",
    "    class_mode='categorical', shuffle=True)\n",
    "\n",
    "validation_data = val_data_gen.flow_from_directory(\n",
    "    val_dir, target_size=(image_size, image_size),\n",
    "    color_mode='rgb', batch_size=batch_size,\n",
    "    class_mode='categorical', shuffle=False)\n",
    "\n",
    "# AI model definition\n",
    "model = Sequential()\n",
    "\n",
    "model.add(Conv2D(32, (3, 3), padding='same',\n",
    "    input_shape=(image_size, image_size, 3)))\n",
    "model.add(Activation('relu'))\n",
    "model.add(Conv2D(32, (3, 3)))\n",
    "model.add(Activation('relu'))\n",
    "model.add(MaxPooling2D(pool_size=(2, 2)))\n",
    "model.add(Dropout(0.25))\n",
    "\n",
    "model.add(Conv2D(64, (3, 3)))\n",
    "model.add(Activation('relu'))\n",
    "model.add(Conv2D(64, (3, 3)))\n",
    "model.add(Activation('relu'))\n",
    "model.add(MaxPooling2D(pool_size=(2, 2)))\n",
    "model.add(Dropout(0.25))\n",
    "\n",
    "model.add(Flatten())\n",
    "model.add(Dense(512, kernel_regularizer=regularizers.l2(0.001)))\n",
    "model.add(Activation('relu'))\n",
    "model.add(Dense(512, kernel_regularizer=regularizers.l2(0.001)))\n",
    "model.add(Activation('relu'))\n",
    "model.add(Dropout(0.5))\n",
    "model.add(Dense(num_classes))\n",
    "model.add(Activation('softmax'))\n",
    "\n",
    "opt = tf.keras.optimizers.Adam(learning_rate=learning_rate)\n",
    "\n",
    "model.compile(opt, loss='categorical_crossentropy',\n",
    "    metrics=['accuracy'])\n",
    "\n",
    "model.summary()\n",
    "\n",
    "history = model.fit(train_data, epochs=epochs, validation_data=validation_data, verbose=1)\n",
    "\n",
    "score = model.evaluate(validation_data)\n",
    "print('Test loss:', score[0])\n",
    "print('Test accuracy:', score[1])"
   ]
  },
  {
   "cell_type": "markdown",
   "metadata": {},
   "source": [
    "グラフの表示"
   ]
  },
  {
   "cell_type": "code",
   "execution_count": 7,
   "metadata": {},
   "outputs": [],
   "source": [
    "\n",
    "def plot_loss(fit):\n",
    "    axL.plot(fit.history['loss'],label=\"loss for training\")\n",
    "    axL.plot(fit.history['val_loss'],label=\"loss for validation\")\n",
    "    axL.set_title('model loss')\n",
    "    axL.set_xlabel('epoch')\n",
    "    axL.set_ylabel('loss')\n",
    "    axL.legend(loc='best')\n",
    "\n",
    "def plot_acc(fit):\n",
    "    axR.plot(fit.history['accuracy'],label=\"loss for training\")\n",
    "    axR.plot(fit.history['val_accuracy'],label=\"loss for validation\")\n",
    "    axR.set_title('model accuracy')\n",
    "    axR.set_xlabel('epoch')\n",
    "    axR.set_ylabel('accuracy')\n",
    "    axR.legend(loc='best')"
   ]
  },
  {
   "cell_type": "code",
   "execution_count": 8,
   "metadata": {
    "scrolled": true
   },
   "outputs": [
    {
     "data": {
      "image/png": "[encoded data removed]",
      "text/plain": [
       "<Figure size 864x288 with 2 Axes>"
      ]
     },
     "metadata": {
      "needs_background": "light"
     },
     "output_type": "display_data"
    }
   ],
   "source": [
    "fig, (axL, axR) = plt.subplots(ncols=2, figsize=(12,4))\n",
    "plot_loss(history)\n",
    "plot_acc(history)"
   ]
  },
  {
   "cell_type": "code",
   "execution_count": 9,
   "metadata": {},
   "outputs": [
    {
     "data": {
      "image/png": "[encoded data removed]",
      "text/plain": [
       "<Figure size 432x288 with 2 Axes>"
      ]
     },
     "metadata": {
      "needs_background": "light"
     },
     "output_type": "display_data"
    }
   ],
   "source": [
    "validation_data.reset()\n",
    "validation_data.shuffle = False\n",
    "validation_data.batch_size = 1\n",
    "predicted = model.predict(validation_data, steps=validation_data.n)\n",
    "predicted_classes = np.argmax(predicted, axis=-1)\n",
    "cm = confusion_matrix(validation_data.classes,predicted_classes)\n",
    "cm = cm.astype('float') / cm.sum(axis=1)[:, np.newaxis]\n",
    "sns.heatmap(cm, annot=True, cmap='Blues')\n",
    "plt.title(\"Confusion Matrix\")\n",
    "plt.ylabel('True label')\n",
    "plt.xlabel('Predicted label')\n",
    "plt.xlim([0.0, len(validation_data.class_indices)])\n",
    "plt.ylim([0.0, len(validation_data.class_indices)])\n",
    "plt.show()"
   ]
  },
  {
   "cell_type": "code",
   "execution_count": 10,
   "metadata": {
    "colab": {
     "base_uri": "https://localhost:8080/",
     "height": 1000
    },
    "executionInfo": {
     "elapsed": 9642,
     "status": "ok",
     "timestamp": 1628090611578,
     "user": {
      "displayName": "永井智明",
      "photoUrl": "",
      "userId": "10594926859558892824"
     },
     "user_tz": -540
    },
    "id": "j6VYV8NkIjSl",
    "outputId": "36130423-f34e-40b9-b23b-6bc052209f95"
   },
   "outputs": [],
   "source": [
    "# Save model\n",
    "save_model_path = os.path.join(backup_dir, 'my_model.h5')\n",
    "model.save(save_model_path)"
   ]
  },
  {
   "cell_type": "code",
   "execution_count": null,
   "metadata": {
    "executionInfo": {
     "elapsed": 8,
     "status": "ok",
     "timestamp": 1628090799775,
     "user": {
      "displayName": "永井智明",
      "photoUrl": "",
      "userId": "10594926859558892824"
     },
     "user_tz": -540
    },
    "id": "rL5a8V9PI9eS"
   },
   "outputs": [],
   "source": []
  }
 ],
 "metadata": {
  "accelerator": "GPU",
  "colab": {
   "collapsed_sections": [],
   "name": "Trial.ipynb",
   "provenance": []
  },
  "kernelspec": {
   "display_name": "Python 3 (ipykernel)",
   "language": "python",
   "name": "python3"
  },
  "language_info": {
   "codemirror_mode": {
    "name": "ipython",
    "version": 3
   },
   "file_extension": ".py",
   "mimetype": "text/x-python",
   "name": "python",
   "nbconvert_exporter": "python",
   "pygments_lexer": "ipython3",
   "version": "3.9.13"
  }
 },
 "nbformat": 4,
 "nbformat_minor": 1
}
