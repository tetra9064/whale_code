{
 "cells": [
  {
   "cell_type": "markdown",
   "id": "b90528ff",
   "metadata": {},
   "source": [
    "#---------------------------------------------------------------------------------------------------#"
   ]
  },
  {
   "cell_type": "markdown",
   "id": "2ab02b49",
   "metadata": {},
   "source": [
    "<h2>初期設定</h2>"
   ]
  },
  {
   "cell_type": "markdown",
   "id": "ebdd3adf",
   "metadata": {},
   "source": [
    "<h3>1.各種ライブラリのインポート</h3>"
   ]
  },
  {
   "cell_type": "code",
   "execution_count": 1,
   "id": "02418c62",
   "metadata": {},
   "outputs": [],
   "source": [
    "import sys\n",
    "import os\n",
    "import gc\n",
    "import math\n",
    "import itertools\n",
    "import shutil\n",
    "import pickle\n",
    "import numpy as np\n",
    "import pandas as pd\n",
    "import librosa\n",
    "import matplotlib.pyplot as plt\n",
    "from scipy import signal\n",
    "%matplotlib inline"
   ]
  },
  {
   "cell_type": "markdown",
   "id": "38109a38",
   "metadata": {},
   "source": [
    "<h3>2.whale_call_packageディレクトリを格納している絶対パスを記述.</h3>\n",
    "windows,macでそれぞれ用意しているが不要な方はコメントアウト"
   ]
  },
  {
   "cell_type": "code",
   "execution_count": 2,
   "id": "004e88a7",
   "metadata": {},
   "outputs": [],
   "source": [
    "#windows\n",
    "sys.path.append(\"C:/Users/tomoaki/Desktop/python\")"
   ]
  },
  {
   "cell_type": "markdown",
   "id": "0f9d502e",
   "metadata": {},
   "source": [
    "#mac\n",
    "sys.path.append(\"/Users/nakahigashikazuo3/Desktop\")"
   ]
  },
  {
   "cell_type": "markdown",
   "id": "527b4bdc",
   "metadata": {},
   "source": [
    "<h3>3.whale_call_packageをインポート</h3>"
   ]
  },
  {
   "cell_type": "code",
   "execution_count": 3,
   "id": "123eeefa",
   "metadata": {
    "scrolled": true
   },
   "outputs": [],
   "source": [
    "from whale_call_package import whale_call as wh\n",
    "from whale_call_package import parameter_setting as para"
   ]
  },
  {
   "cell_type": "code",
   "execution_count": 4,
   "id": "1bad9bd5",
   "metadata": {},
   "outputs": [],
   "source": [
    "#OBSナンバーを選択\n",
    "obs = '1805_2020'"
   ]
  },
  {
   "cell_type": "markdown",
   "id": "bef9d06b",
   "metadata": {},
   "source": [
    "<h3>4.作業ディレクトリ、データが格納されているディレクトリを記述。</h3>不要な方をコメントアウト"
   ]
  },
  {
   "cell_type": "code",
   "execution_count": 5,
   "id": "1bf02573",
   "metadata": {},
   "outputs": [],
   "source": [
    "#windows\n",
    "preworkdirectory=f'D:/whale/data/WhaleCallField/{obs}'\n",
    "datadirectory=f'D:/whale/data/origindata/{obs}'"
   ]
  },
  {
   "cell_type": "markdown",
   "id": "b22a626f",
   "metadata": {},
   "source": [
    "#mac\n",
    "preworkdirectory=f'/Volumes/LaCie/WhaleCallField/{obs}'\n",
    "datadirectory=f'/Volumes/LaCie/JS18a/data/{obs}'"
   ]
  },
  {
   "cell_type": "markdown",
   "id": "167e851e",
   "metadata": {},
   "source": [
    "<h3>5.パラメータ変更用に作業ディレクトリ下にカレントディレクトリを設定する</h3>"
   ]
  },
  {
   "cell_type": "code",
   "execution_count": 6,
   "id": "f359e7e2",
   "metadata": {},
   "outputs": [],
   "source": [
    "#whale_call_package内のparameter_setting.pyを確認\n",
    "currentdirectory = '5'\n",
    "parameter_number = '2'"
   ]
  },
  {
   "cell_type": "code",
   "execution_count": 7,
   "id": "4ed11fe1",
   "metadata": {},
   "outputs": [],
   "source": [
    "workdirectory=preworkdirectory+'/'+currentdirectory\n",
    "whale = wh.SetField(workdirectory=workdirectory, datadirectory=datadirectory)\n",
    "whale.make_directory()\n",
    "filelist = whale.get_wavfilelist()"
   ]
  },
  {
   "cell_type": "markdown",
   "id": "eafef929",
   "metadata": {},
   "source": [
    "<h3>6.処理を行うwavファイルを指定する場合以下を実行する。</h3>不要ならば全てコメントアウト"
   ]
  },
  {
   "cell_type": "markdown",
   "id": "046ace2c",
   "metadata": {},
   "source": [
    "<h4>1．任意で指定する。</h4>"
   ]
  },
  {
   "cell_type": "code",
   "execution_count": 8,
   "id": "9109a3de",
   "metadata": {},
   "outputs": [],
   "source": [
    "#filelist = whale.pick_wavfilelist(filelist=filelist, month=[\"1904\"])\n",
    "#\"1808\", \"1809\", \"1810\", \"1811\", \"1812\", \"1901\", , \"1903\", \"1904\",\"1905\",\"1906\",\"1907\""
   ]
  },
  {
   "cell_type": "markdown",
   "id": "76a895d5",
   "metadata": {},
   "source": [
    "<h4>2．ランダムで指定する。</h4>"
   ]
  },
  {
   "cell_type": "code",
   "execution_count": 9,
   "id": "9541e36a",
   "metadata": {},
   "outputs": [],
   "source": [
    "#filelist = whale.random_pick_wavfilelist(filelist=filelist, pick_num=5)"
   ]
  },
  {
   "cell_type": "markdown",
   "id": "b0245736",
   "metadata": {},
   "source": [
    "<h4>3.不要なファイルを削除する。</h4>"
   ]
  },
  {
   "cell_type": "code",
   "execution_count": 10,
   "id": "4e3c09c9",
   "metadata": {},
   "outputs": [],
   "source": [
    "filelist = whale.del_wavfile(filelist=filelist, del_list=['180725','180726'])"
   ]
  },
  {
   "cell_type": "markdown",
   "id": "5b652cbe",
   "metadata": {},
   "source": [
    "取得したファイル一覧"
   ]
  },
  {
   "cell_type": "code",
   "execution_count": 11,
   "id": "7db40002",
   "metadata": {
    "scrolled": true
   },
   "outputs": [
    {
     "data": {
      "text/plain": [
       "['D:/whale/data/origindata/1805_2020\\\\180727-000000.wav',\n",
       " 'D:/whale/data/origindata/1805_2020\\\\180728-000000.wav',\n",
       " 'D:/whale/data/origindata/1805_2020\\\\180729-000000.wav',\n",
       " 'D:/whale/data/origindata/1805_2020\\\\180730-000000.wav',\n",
       " 'D:/whale/data/origindata/1805_2020\\\\180731-000000.wav',\n",
       " 'D:/whale/data/origindata/1805_2020\\\\180801-000000.wav',\n",
       " 'D:/whale/data/origindata/1805_2020\\\\180802-000000.wav',\n",
       " 'D:/whale/data/origindata/1805_2020\\\\180803-000000.wav',\n",
       " 'D:/whale/data/origindata/1805_2020\\\\180804-000000.wav',\n",
       " 'D:/whale/data/origindata/1805_2020\\\\180805-000000.wav',\n",
       " 'D:/whale/data/origindata/1805_2020\\\\180806-000000.wav',\n",
       " 'D:/whale/data/origindata/1805_2020\\\\180807-000000.wav',\n",
       " 'D:/whale/data/origindata/1805_2020\\\\180808-000000.wav',\n",
       " 'D:/whale/data/origindata/1805_2020\\\\180809-000000.wav',\n",
       " 'D:/whale/data/origindata/1805_2020\\\\180810-000000.wav',\n",
       " 'D:/whale/data/origindata/1805_2020\\\\180811-000000.wav',\n",
       " 'D:/whale/data/origindata/1805_2020\\\\180812-000000.wav',\n",
       " 'D:/whale/data/origindata/1805_2020\\\\180813-000000.wav',\n",
       " 'D:/whale/data/origindata/1805_2020\\\\180814-000000.wav',\n",
       " 'D:/whale/data/origindata/1805_2020\\\\180815-000000.wav',\n",
       " 'D:/whale/data/origindata/1805_2020\\\\180816-000000.wav',\n",
       " 'D:/whale/data/origindata/1805_2020\\\\180817-000000.wav',\n",
       " 'D:/whale/data/origindata/1805_2020\\\\180818-000000.wav',\n",
       " 'D:/whale/data/origindata/1805_2020\\\\180819-000000.wav',\n",
       " 'D:/whale/data/origindata/1805_2020\\\\180820-000000.wav',\n",
       " 'D:/whale/data/origindata/1805_2020\\\\180821-000000.wav',\n",
       " 'D:/whale/data/origindata/1805_2020\\\\180822-000000.wav',\n",
       " 'D:/whale/data/origindata/1805_2020\\\\180823-000000.wav',\n",
       " 'D:/whale/data/origindata/1805_2020\\\\180824-000000.wav',\n",
       " 'D:/whale/data/origindata/1805_2020\\\\180825-000000.wav',\n",
       " 'D:/whale/data/origindata/1805_2020\\\\180826-000000.wav',\n",
       " 'D:/whale/data/origindata/1805_2020\\\\180827-000000.wav',\n",
       " 'D:/whale/data/origindata/1805_2020\\\\180828-000000.wav',\n",
       " 'D:/whale/data/origindata/1805_2020\\\\180829-000000.wav',\n",
       " 'D:/whale/data/origindata/1805_2020\\\\180830-000000.wav',\n",
       " 'D:/whale/data/origindata/1805_2020\\\\180831-000000.wav',\n",
       " 'D:/whale/data/origindata/1805_2020\\\\180901-000000.wav',\n",
       " 'D:/whale/data/origindata/1805_2020\\\\180902-000000.wav',\n",
       " 'D:/whale/data/origindata/1805_2020\\\\180903-000000.wav',\n",
       " 'D:/whale/data/origindata/1805_2020\\\\180904-000000.wav',\n",
       " 'D:/whale/data/origindata/1805_2020\\\\180905-000000.wav',\n",
       " 'D:/whale/data/origindata/1805_2020\\\\180906-000000.wav',\n",
       " 'D:/whale/data/origindata/1805_2020\\\\180907-000000.wav',\n",
       " 'D:/whale/data/origindata/1805_2020\\\\180908-000000.wav',\n",
       " 'D:/whale/data/origindata/1805_2020\\\\180909-000000.wav',\n",
       " 'D:/whale/data/origindata/1805_2020\\\\180910-000000.wav',\n",
       " 'D:/whale/data/origindata/1805_2020\\\\180911-000000.wav',\n",
       " 'D:/whale/data/origindata/1805_2020\\\\180912-000000.wav',\n",
       " 'D:/whale/data/origindata/1805_2020\\\\180913-000000.wav',\n",
       " 'D:/whale/data/origindata/1805_2020\\\\180914-000000.wav',\n",
       " 'D:/whale/data/origindata/1805_2020\\\\180915-000000.wav',\n",
       " 'D:/whale/data/origindata/1805_2020\\\\180916-000000.wav',\n",
       " 'D:/whale/data/origindata/1805_2020\\\\180917-000000.wav',\n",
       " 'D:/whale/data/origindata/1805_2020\\\\180918-000000.wav',\n",
       " 'D:/whale/data/origindata/1805_2020\\\\180919-000000.wav',\n",
       " 'D:/whale/data/origindata/1805_2020\\\\180920-000000.wav',\n",
       " 'D:/whale/data/origindata/1805_2020\\\\180921-000000.wav',\n",
       " 'D:/whale/data/origindata/1805_2020\\\\180922-000000.wav',\n",
       " 'D:/whale/data/origindata/1805_2020\\\\180923-000000.wav',\n",
       " 'D:/whale/data/origindata/1805_2020\\\\180924-000000.wav',\n",
       " 'D:/whale/data/origindata/1805_2020\\\\180925-000000.wav',\n",
       " 'D:/whale/data/origindata/1805_2020\\\\180926-000000.wav',\n",
       " 'D:/whale/data/origindata/1805_2020\\\\180927-000000.wav',\n",
       " 'D:/whale/data/origindata/1805_2020\\\\180928-000000.wav',\n",
       " 'D:/whale/data/origindata/1805_2020\\\\180929-000000.wav',\n",
       " 'D:/whale/data/origindata/1805_2020\\\\180930-000000.wav',\n",
       " 'D:/whale/data/origindata/1805_2020\\\\181001-000000.wav',\n",
       " 'D:/whale/data/origindata/1805_2020\\\\181002-000000.wav',\n",
       " 'D:/whale/data/origindata/1805_2020\\\\181003-000000.wav',\n",
       " 'D:/whale/data/origindata/1805_2020\\\\181004-000000.wav',\n",
       " 'D:/whale/data/origindata/1805_2020\\\\181005-000000.wav',\n",
       " 'D:/whale/data/origindata/1805_2020\\\\181006-000000.wav',\n",
       " 'D:/whale/data/origindata/1805_2020\\\\181007-000000.wav',\n",
       " 'D:/whale/data/origindata/1805_2020\\\\181008-000000.wav',\n",
       " 'D:/whale/data/origindata/1805_2020\\\\181009-000000.wav',\n",
       " 'D:/whale/data/origindata/1805_2020\\\\181010-000000.wav',\n",
       " 'D:/whale/data/origindata/1805_2020\\\\181011-000000.wav',\n",
       " 'D:/whale/data/origindata/1805_2020\\\\181012-000000.wav',\n",
       " 'D:/whale/data/origindata/1805_2020\\\\181013-000000.wav',\n",
       " 'D:/whale/data/origindata/1805_2020\\\\181014-000000.wav',\n",
       " 'D:/whale/data/origindata/1805_2020\\\\181015-000000.wav',\n",
       " 'D:/whale/data/origindata/1805_2020\\\\181016-000000.wav',\n",
       " 'D:/whale/data/origindata/1805_2020\\\\181017-000000.wav',\n",
       " 'D:/whale/data/origindata/1805_2020\\\\181018-000000.wav',\n",
       " 'D:/whale/data/origindata/1805_2020\\\\181019-000000.wav',\n",
       " 'D:/whale/data/origindata/1805_2020\\\\181020-000000.wav',\n",
       " 'D:/whale/data/origindata/1805_2020\\\\181021-000000.wav',\n",
       " 'D:/whale/data/origindata/1805_2020\\\\181022-000000.wav',\n",
       " 'D:/whale/data/origindata/1805_2020\\\\181023-000000.wav',\n",
       " 'D:/whale/data/origindata/1805_2020\\\\181024-000000.wav',\n",
       " 'D:/whale/data/origindata/1805_2020\\\\181025-000000.wav',\n",
       " 'D:/whale/data/origindata/1805_2020\\\\181026-000000.wav',\n",
       " 'D:/whale/data/origindata/1805_2020\\\\181027-000000.wav',\n",
       " 'D:/whale/data/origindata/1805_2020\\\\181028-000000.wav',\n",
       " 'D:/whale/data/origindata/1805_2020\\\\181029-000000.wav',\n",
       " 'D:/whale/data/origindata/1805_2020\\\\181030-000000.wav',\n",
       " 'D:/whale/data/origindata/1805_2020\\\\181031-000000.wav',\n",
       " 'D:/whale/data/origindata/1805_2020\\\\181101-000000.wav',\n",
       " 'D:/whale/data/origindata/1805_2020\\\\181102-000000.wav',\n",
       " 'D:/whale/data/origindata/1805_2020\\\\181103-000000.wav',\n",
       " 'D:/whale/data/origindata/1805_2020\\\\181105-000000.wav',\n",
       " 'D:/whale/data/origindata/1805_2020\\\\181106-000000.wav',\n",
       " 'D:/whale/data/origindata/1805_2020\\\\181107-000000.wav',\n",
       " 'D:/whale/data/origindata/1805_2020\\\\181108-000000.wav',\n",
       " 'D:/whale/data/origindata/1805_2020\\\\181109-000000.wav',\n",
       " 'D:/whale/data/origindata/1805_2020\\\\181110-000000.wav',\n",
       " 'D:/whale/data/origindata/1805_2020\\\\181111-000000.wav',\n",
       " 'D:/whale/data/origindata/1805_2020\\\\181112-000000.wav',\n",
       " 'D:/whale/data/origindata/1805_2020\\\\181113-000000.wav',\n",
       " 'D:/whale/data/origindata/1805_2020\\\\181114-000000.wav',\n",
       " 'D:/whale/data/origindata/1805_2020\\\\181115-000000.wav',\n",
       " 'D:/whale/data/origindata/1805_2020\\\\181116-000000.wav',\n",
       " 'D:/whale/data/origindata/1805_2020\\\\181117-000000.wav',\n",
       " 'D:/whale/data/origindata/1805_2020\\\\181118-000000.wav',\n",
       " 'D:/whale/data/origindata/1805_2020\\\\181119-000000.wav',\n",
       " 'D:/whale/data/origindata/1805_2020\\\\181120-000000.wav',\n",
       " 'D:/whale/data/origindata/1805_2020\\\\181121-000000.wav',\n",
       " 'D:/whale/data/origindata/1805_2020\\\\181122-000000.wav',\n",
       " 'D:/whale/data/origindata/1805_2020\\\\181123-000000.wav',\n",
       " 'D:/whale/data/origindata/1805_2020\\\\181124-000000.wav',\n",
       " 'D:/whale/data/origindata/1805_2020\\\\181125-000000.wav',\n",
       " 'D:/whale/data/origindata/1805_2020\\\\181126-000000.wav',\n",
       " 'D:/whale/data/origindata/1805_2020\\\\181127-000000.wav',\n",
       " 'D:/whale/data/origindata/1805_2020\\\\181128-000000.wav',\n",
       " 'D:/whale/data/origindata/1805_2020\\\\181129-000000.wav',\n",
       " 'D:/whale/data/origindata/1805_2020\\\\181130-000000.wav',\n",
       " 'D:/whale/data/origindata/1805_2020\\\\181201-000000.wav',\n",
       " 'D:/whale/data/origindata/1805_2020\\\\181202-000000.wav',\n",
       " 'D:/whale/data/origindata/1805_2020\\\\181203-000000.wav',\n",
       " 'D:/whale/data/origindata/1805_2020\\\\181204-000000.wav',\n",
       " 'D:/whale/data/origindata/1805_2020\\\\181205-000000.wav',\n",
       " 'D:/whale/data/origindata/1805_2020\\\\181206-000000.wav',\n",
       " 'D:/whale/data/origindata/1805_2020\\\\181207-000000.wav',\n",
       " 'D:/whale/data/origindata/1805_2020\\\\181208-000000.wav',\n",
       " 'D:/whale/data/origindata/1805_2020\\\\181209-000000.wav',\n",
       " 'D:/whale/data/origindata/1805_2020\\\\181210-000000.wav',\n",
       " 'D:/whale/data/origindata/1805_2020\\\\181211-000000.wav',\n",
       " 'D:/whale/data/origindata/1805_2020\\\\181212-000000.wav',\n",
       " 'D:/whale/data/origindata/1805_2020\\\\181213-000000.wav',\n",
       " 'D:/whale/data/origindata/1805_2020\\\\181214-000000.wav',\n",
       " 'D:/whale/data/origindata/1805_2020\\\\181215-000000.wav',\n",
       " 'D:/whale/data/origindata/1805_2020\\\\181216-000000.wav',\n",
       " 'D:/whale/data/origindata/1805_2020\\\\181217-000000.wav',\n",
       " 'D:/whale/data/origindata/1805_2020\\\\181218-000000.wav',\n",
       " 'D:/whale/data/origindata/1805_2020\\\\181219-000000.wav',\n",
       " 'D:/whale/data/origindata/1805_2020\\\\181220-000000.wav',\n",
       " 'D:/whale/data/origindata/1805_2020\\\\181221-000000.wav',\n",
       " 'D:/whale/data/origindata/1805_2020\\\\181222-000000.wav',\n",
       " 'D:/whale/data/origindata/1805_2020\\\\181223-000000.wav',\n",
       " 'D:/whale/data/origindata/1805_2020\\\\181224-000000.wav',\n",
       " 'D:/whale/data/origindata/1805_2020\\\\181225-000000.wav',\n",
       " 'D:/whale/data/origindata/1805_2020\\\\181226-000000.wav',\n",
       " 'D:/whale/data/origindata/1805_2020\\\\181227-000000.wav',\n",
       " 'D:/whale/data/origindata/1805_2020\\\\181228-000000.wav',\n",
       " 'D:/whale/data/origindata/1805_2020\\\\181229-000000.wav',\n",
       " 'D:/whale/data/origindata/1805_2020\\\\181230-000000.wav',\n",
       " 'D:/whale/data/origindata/1805_2020\\\\181231-000000.wav',\n",
       " 'D:/whale/data/origindata/1805_2020\\\\190101-000000.wav',\n",
       " 'D:/whale/data/origindata/1805_2020\\\\190102-000000.wav',\n",
       " 'D:/whale/data/origindata/1805_2020\\\\190103-000000.wav',\n",
       " 'D:/whale/data/origindata/1805_2020\\\\190104-000000.wav',\n",
       " 'D:/whale/data/origindata/1805_2020\\\\190105-000000.wav',\n",
       " 'D:/whale/data/origindata/1805_2020\\\\190106-000000.wav',\n",
       " 'D:/whale/data/origindata/1805_2020\\\\190107-000000.wav',\n",
       " 'D:/whale/data/origindata/1805_2020\\\\190108-000000.wav',\n",
       " 'D:/whale/data/origindata/1805_2020\\\\190109-000000.wav',\n",
       " 'D:/whale/data/origindata/1805_2020\\\\190110-000000.wav',\n",
       " 'D:/whale/data/origindata/1805_2020\\\\190111-000000.wav',\n",
       " 'D:/whale/data/origindata/1805_2020\\\\190112-000000.wav',\n",
       " 'D:/whale/data/origindata/1805_2020\\\\190113-000000.wav',\n",
       " 'D:/whale/data/origindata/1805_2020\\\\190114-000000.wav',\n",
       " 'D:/whale/data/origindata/1805_2020\\\\190115-000000.wav',\n",
       " 'D:/whale/data/origindata/1805_2020\\\\190116-000000.wav',\n",
       " 'D:/whale/data/origindata/1805_2020\\\\190117-000000.wav',\n",
       " 'D:/whale/data/origindata/1805_2020\\\\190118-000000.wav',\n",
       " 'D:/whale/data/origindata/1805_2020\\\\190119-000000.wav',\n",
       " 'D:/whale/data/origindata/1805_2020\\\\190120-000000.wav',\n",
       " 'D:/whale/data/origindata/1805_2020\\\\190121-000000.wav',\n",
       " 'D:/whale/data/origindata/1805_2020\\\\190122-000000.wav',\n",
       " 'D:/whale/data/origindata/1805_2020\\\\190123-000000.wav',\n",
       " 'D:/whale/data/origindata/1805_2020\\\\190124-000000.wav',\n",
       " 'D:/whale/data/origindata/1805_2020\\\\190125-000000.wav',\n",
       " 'D:/whale/data/origindata/1805_2020\\\\190126-000000.wav',\n",
       " 'D:/whale/data/origindata/1805_2020\\\\190127-000000.wav',\n",
       " 'D:/whale/data/origindata/1805_2020\\\\190128-000000.wav',\n",
       " 'D:/whale/data/origindata/1805_2020\\\\190129-000000.wav',\n",
       " 'D:/whale/data/origindata/1805_2020\\\\190130-000000.wav',\n",
       " 'D:/whale/data/origindata/1805_2020\\\\190131-000000.wav',\n",
       " 'D:/whale/data/origindata/1805_2020\\\\190201-000000.wav',\n",
       " 'D:/whale/data/origindata/1805_2020\\\\190202-000000.wav',\n",
       " 'D:/whale/data/origindata/1805_2020\\\\190203-000000.wav',\n",
       " 'D:/whale/data/origindata/1805_2020\\\\190204-000000.wav',\n",
       " 'D:/whale/data/origindata/1805_2020\\\\190205-000000.wav',\n",
       " 'D:/whale/data/origindata/1805_2020\\\\190206-000000.wav',\n",
       " 'D:/whale/data/origindata/1805_2020\\\\190207-000000.wav',\n",
       " 'D:/whale/data/origindata/1805_2020\\\\190208-000000.wav',\n",
       " 'D:/whale/data/origindata/1805_2020\\\\190209-000000.wav',\n",
       " 'D:/whale/data/origindata/1805_2020\\\\190210-000000.wav',\n",
       " 'D:/whale/data/origindata/1805_2020\\\\190211-000000.wav',\n",
       " 'D:/whale/data/origindata/1805_2020\\\\190212-000000.wav',\n",
       " 'D:/whale/data/origindata/1805_2020\\\\190213-000000.wav',\n",
       " 'D:/whale/data/origindata/1805_2020\\\\190214-000000.wav',\n",
       " 'D:/whale/data/origindata/1805_2020\\\\190215-000000.wav',\n",
       " 'D:/whale/data/origindata/1805_2020\\\\190216-000000.wav',\n",
       " 'D:/whale/data/origindata/1805_2020\\\\190217-000000.wav',\n",
       " 'D:/whale/data/origindata/1805_2020\\\\190218-000000.wav',\n",
       " 'D:/whale/data/origindata/1805_2020\\\\190219-000000.wav',\n",
       " 'D:/whale/data/origindata/1805_2020\\\\190220-000000.wav',\n",
       " 'D:/whale/data/origindata/1805_2020\\\\190221-000000.wav',\n",
       " 'D:/whale/data/origindata/1805_2020\\\\190222-000000.wav',\n",
       " 'D:/whale/data/origindata/1805_2020\\\\190223-000000.wav',\n",
       " 'D:/whale/data/origindata/1805_2020\\\\190224-000000.wav',\n",
       " 'D:/whale/data/origindata/1805_2020\\\\190225-000000.wav',\n",
       " 'D:/whale/data/origindata/1805_2020\\\\190226-000000.wav',\n",
       " 'D:/whale/data/origindata/1805_2020\\\\190227-000000.wav',\n",
       " 'D:/whale/data/origindata/1805_2020\\\\190228-000000.wav',\n",
       " 'D:/whale/data/origindata/1805_2020\\\\190301-000000.wav',\n",
       " 'D:/whale/data/origindata/1805_2020\\\\190302-000000.wav',\n",
       " 'D:/whale/data/origindata/1805_2020\\\\190303-000000.wav',\n",
       " 'D:/whale/data/origindata/1805_2020\\\\190304-000000.wav',\n",
       " 'D:/whale/data/origindata/1805_2020\\\\190305-000000.wav',\n",
       " 'D:/whale/data/origindata/1805_2020\\\\190306-000000.wav',\n",
       " 'D:/whale/data/origindata/1805_2020\\\\190307-000000.wav',\n",
       " 'D:/whale/data/origindata/1805_2020\\\\190308-000000.wav',\n",
       " 'D:/whale/data/origindata/1805_2020\\\\190309-000000.wav',\n",
       " 'D:/whale/data/origindata/1805_2020\\\\190310-000000.wav',\n",
       " 'D:/whale/data/origindata/1805_2020\\\\190311-000000.wav',\n",
       " 'D:/whale/data/origindata/1805_2020\\\\190312-000000.wav',\n",
       " 'D:/whale/data/origindata/1805_2020\\\\190313-000000.wav',\n",
       " 'D:/whale/data/origindata/1805_2020\\\\190314-000000.wav',\n",
       " 'D:/whale/data/origindata/1805_2020\\\\190315-000000.wav',\n",
       " 'D:/whale/data/origindata/1805_2020\\\\190316-000000.wav',\n",
       " 'D:/whale/data/origindata/1805_2020\\\\190317-000000.wav',\n",
       " 'D:/whale/data/origindata/1805_2020\\\\190318-000000.wav',\n",
       " 'D:/whale/data/origindata/1805_2020\\\\190319-000000.wav',\n",
       " 'D:/whale/data/origindata/1805_2020\\\\190320-000000.wav',\n",
       " 'D:/whale/data/origindata/1805_2020\\\\190321-000000.wav',\n",
       " 'D:/whale/data/origindata/1805_2020\\\\190322-000000.wav',\n",
       " 'D:/whale/data/origindata/1805_2020\\\\190323-000000.wav',\n",
       " 'D:/whale/data/origindata/1805_2020\\\\190324-000000.wav',\n",
       " 'D:/whale/data/origindata/1805_2020\\\\190325-000000.wav',\n",
       " 'D:/whale/data/origindata/1805_2020\\\\190326-000000.wav',\n",
       " 'D:/whale/data/origindata/1805_2020\\\\190327-000000.wav',\n",
       " 'D:/whale/data/origindata/1805_2020\\\\190328-000000.wav',\n",
       " 'D:/whale/data/origindata/1805_2020\\\\190329-000000.wav',\n",
       " 'D:/whale/data/origindata/1805_2020\\\\190330-000000.wav',\n",
       " 'D:/whale/data/origindata/1805_2020\\\\190331-000000.wav',\n",
       " 'D:/whale/data/origindata/1805_2020\\\\190401-000000.wav',\n",
       " 'D:/whale/data/origindata/1805_2020\\\\190402-000000.wav',\n",
       " 'D:/whale/data/origindata/1805_2020\\\\190403-000000.wav',\n",
       " 'D:/whale/data/origindata/1805_2020\\\\190404-000000.wav',\n",
       " 'D:/whale/data/origindata/1805_2020\\\\190405-000000.wav',\n",
       " 'D:/whale/data/origindata/1805_2020\\\\190406-000000.wav',\n",
       " 'D:/whale/data/origindata/1805_2020\\\\190407-000000.wav',\n",
       " 'D:/whale/data/origindata/1805_2020\\\\190408-000000.wav',\n",
       " 'D:/whale/data/origindata/1805_2020\\\\190409-000000.wav',\n",
       " 'D:/whale/data/origindata/1805_2020\\\\190410-000000.wav',\n",
       " 'D:/whale/data/origindata/1805_2020\\\\190411-000000.wav',\n",
       " 'D:/whale/data/origindata/1805_2020\\\\190412-000000.wav',\n",
       " 'D:/whale/data/origindata/1805_2020\\\\190413-000000.wav',\n",
       " 'D:/whale/data/origindata/1805_2020\\\\190414-000000.wav',\n",
       " 'D:/whale/data/origindata/1805_2020\\\\190415-000000.wav',\n",
       " 'D:/whale/data/origindata/1805_2020\\\\190416-000000.wav',\n",
       " 'D:/whale/data/origindata/1805_2020\\\\190417-000000.wav',\n",
       " 'D:/whale/data/origindata/1805_2020\\\\190418-000000.wav',\n",
       " 'D:/whale/data/origindata/1805_2020\\\\190419-000000.wav',\n",
       " 'D:/whale/data/origindata/1805_2020\\\\190420-000000.wav',\n",
       " 'D:/whale/data/origindata/1805_2020\\\\190421-000000.wav',\n",
       " 'D:/whale/data/origindata/1805_2020\\\\190422-000000.wav',\n",
       " 'D:/whale/data/origindata/1805_2020\\\\190423-000000.wav',\n",
       " 'D:/whale/data/origindata/1805_2020\\\\190424-000000.wav',\n",
       " 'D:/whale/data/origindata/1805_2020\\\\190425-000000.wav',\n",
       " 'D:/whale/data/origindata/1805_2020\\\\190426-000000.wav',\n",
       " 'D:/whale/data/origindata/1805_2020\\\\190427-000000.wav',\n",
       " 'D:/whale/data/origindata/1805_2020\\\\190428-000000.wav',\n",
       " 'D:/whale/data/origindata/1805_2020\\\\190429-000000.wav',\n",
       " 'D:/whale/data/origindata/1805_2020\\\\190430-000000.wav',\n",
       " 'D:/whale/data/origindata/1805_2020\\\\190501-000000.wav',\n",
       " 'D:/whale/data/origindata/1805_2020\\\\190502-000000.wav',\n",
       " 'D:/whale/data/origindata/1805_2020\\\\190503-000000.wav',\n",
       " 'D:/whale/data/origindata/1805_2020\\\\190504-000000.wav',\n",
       " 'D:/whale/data/origindata/1805_2020\\\\190505-000000.wav',\n",
       " 'D:/whale/data/origindata/1805_2020\\\\190506-000000.wav',\n",
       " 'D:/whale/data/origindata/1805_2020\\\\190507-000000.wav',\n",
       " 'D:/whale/data/origindata/1805_2020\\\\190508-000000.wav',\n",
       " 'D:/whale/data/origindata/1805_2020\\\\190509-000000.wav',\n",
       " 'D:/whale/data/origindata/1805_2020\\\\190510-000000.wav',\n",
       " 'D:/whale/data/origindata/1805_2020\\\\190511-000000.wav',\n",
       " 'D:/whale/data/origindata/1805_2020\\\\190512-000000.wav',\n",
       " 'D:/whale/data/origindata/1805_2020\\\\190513-000000.wav',\n",
       " 'D:/whale/data/origindata/1805_2020\\\\190514-000000.wav',\n",
       " 'D:/whale/data/origindata/1805_2020\\\\190515-000000.wav',\n",
       " 'D:/whale/data/origindata/1805_2020\\\\190516-000000.wav',\n",
       " 'D:/whale/data/origindata/1805_2020\\\\190517-000000.wav',\n",
       " 'D:/whale/data/origindata/1805_2020\\\\190518-000000.wav',\n",
       " 'D:/whale/data/origindata/1805_2020\\\\190519-000000.wav',\n",
       " 'D:/whale/data/origindata/1805_2020\\\\190520-000000.wav',\n",
       " 'D:/whale/data/origindata/1805_2020\\\\190521-000000.wav',\n",
       " 'D:/whale/data/origindata/1805_2020\\\\190522-000000.wav',\n",
       " 'D:/whale/data/origindata/1805_2020\\\\190523-000000.wav',\n",
       " 'D:/whale/data/origindata/1805_2020\\\\190524-000000.wav',\n",
       " 'D:/whale/data/origindata/1805_2020\\\\190525-000000.wav',\n",
       " 'D:/whale/data/origindata/1805_2020\\\\190526-000000.wav',\n",
       " 'D:/whale/data/origindata/1805_2020\\\\190527-000000.wav',\n",
       " 'D:/whale/data/origindata/1805_2020\\\\190528-000000.wav',\n",
       " 'D:/whale/data/origindata/1805_2020\\\\190529-000000.wav',\n",
       " 'D:/whale/data/origindata/1805_2020\\\\190530-000000.wav',\n",
       " 'D:/whale/data/origindata/1805_2020\\\\190531-000000.wav',\n",
       " 'D:/whale/data/origindata/1805_2020\\\\190601-000000.wav',\n",
       " 'D:/whale/data/origindata/1805_2020\\\\190602-000000.wav',\n",
       " 'D:/whale/data/origindata/1805_2020\\\\190603-000000.wav',\n",
       " 'D:/whale/data/origindata/1805_2020\\\\190604-000000.wav',\n",
       " 'D:/whale/data/origindata/1805_2020\\\\190605-000000.wav',\n",
       " 'D:/whale/data/origindata/1805_2020\\\\190606-000000.wav',\n",
       " 'D:/whale/data/origindata/1805_2020\\\\190607-000000.wav',\n",
       " 'D:/whale/data/origindata/1805_2020\\\\190608-000000.wav',\n",
       " 'D:/whale/data/origindata/1805_2020\\\\190609-000000.wav',\n",
       " 'D:/whale/data/origindata/1805_2020\\\\190610-000000.wav',\n",
       " 'D:/whale/data/origindata/1805_2020\\\\190611-000000.wav',\n",
       " 'D:/whale/data/origindata/1805_2020\\\\190612-000000.wav',\n",
       " 'D:/whale/data/origindata/1805_2020\\\\190613-000000.wav',\n",
       " 'D:/whale/data/origindata/1805_2020\\\\190614-000000.wav',\n",
       " 'D:/whale/data/origindata/1805_2020\\\\190615-000000.wav',\n",
       " 'D:/whale/data/origindata/1805_2020\\\\190616-000000.wav',\n",
       " 'D:/whale/data/origindata/1805_2020\\\\190617-000000.wav',\n",
       " 'D:/whale/data/origindata/1805_2020\\\\190618-000000.wav',\n",
       " 'D:/whale/data/origindata/1805_2020\\\\190619-000000.wav',\n",
       " 'D:/whale/data/origindata/1805_2020\\\\190620-000000.wav',\n",
       " 'D:/whale/data/origindata/1805_2020\\\\190621-000000.wav',\n",
       " 'D:/whale/data/origindata/1805_2020\\\\190622-000000.wav',\n",
       " 'D:/whale/data/origindata/1805_2020\\\\190623-000000.wav',\n",
       " 'D:/whale/data/origindata/1805_2020\\\\190624-000000.wav',\n",
       " 'D:/whale/data/origindata/1805_2020\\\\190625-000000.wav',\n",
       " 'D:/whale/data/origindata/1805_2020\\\\190626-000000.wav',\n",
       " 'D:/whale/data/origindata/1805_2020\\\\190627-000000.wav',\n",
       " 'D:/whale/data/origindata/1805_2020\\\\190628-000000.wav',\n",
       " 'D:/whale/data/origindata/1805_2020\\\\190629-000000.wav',\n",
       " 'D:/whale/data/origindata/1805_2020\\\\190630-000000.wav',\n",
       " 'D:/whale/data/origindata/1805_2020\\\\190701-000000.wav',\n",
       " 'D:/whale/data/origindata/1805_2020\\\\190702-000000.wav',\n",
       " 'D:/whale/data/origindata/1805_2020\\\\190703-000000.wav',\n",
       " 'D:/whale/data/origindata/1805_2020\\\\190704-000000.wav',\n",
       " 'D:/whale/data/origindata/1805_2020\\\\190705-000000.wav',\n",
       " 'D:/whale/data/origindata/1805_2020\\\\190706-000000.wav',\n",
       " 'D:/whale/data/origindata/1805_2020\\\\190707-000000.wav',\n",
       " 'D:/whale/data/origindata/1805_2020\\\\190708-000000.wav',\n",
       " 'D:/whale/data/origindata/1805_2020\\\\190709-000000.wav',\n",
       " 'D:/whale/data/origindata/1805_2020\\\\190710-000000.wav',\n",
       " 'D:/whale/data/origindata/1805_2020\\\\190711-000000.wav',\n",
       " 'D:/whale/data/origindata/1805_2020\\\\190712-000000.wav',\n",
       " 'D:/whale/data/origindata/1805_2020\\\\190713-000000.wav',\n",
       " 'D:/whale/data/origindata/1805_2020\\\\190714-000000.wav',\n",
       " 'D:/whale/data/origindata/1805_2020\\\\190715-000000.wav',\n",
       " 'D:/whale/data/origindata/1805_2020\\\\190716-000000.wav',\n",
       " 'D:/whale/data/origindata/1805_2020\\\\190717-000000.wav',\n",
       " 'D:/whale/data/origindata/1805_2020\\\\190718-000000.wav',\n",
       " 'D:/whale/data/origindata/1805_2020\\\\190719-000000.wav',\n",
       " 'D:/whale/data/origindata/1805_2020\\\\190720-000000.wav',\n",
       " 'D:/whale/data/origindata/1805_2020\\\\190721-000000.wav',\n",
       " 'D:/whale/data/origindata/1805_2020\\\\190722-000000.wav',\n",
       " 'D:/whale/data/origindata/1805_2020\\\\190723-000000.wav',\n",
       " 'D:/whale/data/origindata/1805_2020\\\\190724-000000.wav',\n",
       " 'D:/whale/data/origindata/1805_2020\\\\190725-000000.wav',\n",
       " 'D:/whale/data/origindata/1805_2020\\\\190726-000000.wav',\n",
       " 'D:/whale/data/origindata/1805_2020\\\\190727-000000.wav']"
      ]
     },
     "execution_count": 11,
     "metadata": {},
     "output_type": "execute_result"
    }
   ],
   "source": [
    "filelist"
   ]
  },
  {
   "cell_type": "code",
   "execution_count": 12,
   "id": "f4430fbb",
   "metadata": {},
   "outputs": [],
   "source": [
    "#各パラメータセッティング\n",
    "sr, n_fft, hop_length, fmin, fmax, fpass, fstop, gpass, gstop, num_train, num_guard, rate_fa = para.para(parameter_number)"
   ]
  },
  {
   "cell_type": "code",
   "execution_count": 13,
   "id": "e0cadc98",
   "metadata": {},
   "outputs": [],
   "source": [
    "#各パラメータのログ出力\n",
    "para.make_parameter_log(workdirectory=workdirectory, sr=sr, n_fft=n_fft, fmin=fmin, fmax=fmax, fpass=fpass, fstop=fstop, gpass=gpass, gstop=gstop, num_train=num_train, num_guard=num_guard, rate_fa=rate_fa)"
   ]
  },
  {
   "cell_type": "markdown",
   "id": "fe145f32",
   "metadata": {},
   "source": [
    "<h3>7.各処理の実行有無を決定</h3>"
   ]
  },
  {
   "cell_type": "code",
   "execution_count": 14,
   "id": "1cd1485c",
   "metadata": {},
   "outputs": [],
   "source": [
    "#Trueで実行する\n",
    "\n",
    "#単日検証用\n",
    "oneday_flag=False\n",
    "#cfarの実行\n",
    "cfar_flag=False\n",
    "#スペクトログラム画像の生成\n",
    "ms_flag=False\n",
    "#鳴音を基に各種グラフの作成\n",
    "call_graph_flag = False\n",
    "#CNN用未学習画像を0ディレクトリにコピー\n",
    "noise_make_flag = False\n",
    "#学習\n",
    "sentering_flag = False\n",
    "#テスト\n",
    "test_flag = False\n",
    "#モデルを使用して画像を分類する\n",
    "sep_fig_flag = False\n",
    "#分類後画像の情報を保存する\n",
    "save_calls = False\n",
    "#中心周波数を抽出\n",
    "centroid_flag = False\n",
    "#IPIを抽出\n",
    "ipi_flag = False\n",
    "#クラスタリングの実行\n",
    "clustering = False\n",
    "cluster_fig = False\n",
    "#クラスタリングで分類したものの中心周波数を抽出\n",
    "cent_sep_flag = False"
   ]
  },
  {
   "cell_type": "markdown",
   "id": "2a6c3d18",
   "metadata": {},
   "source": [
    "#---------------------------------------------------------------------------------------------------#"
   ]
  },
  {
   "cell_type": "markdown",
   "id": "d36b1c31",
   "metadata": {},
   "source": [
    "<h2>CFARに関する処理</h2>"
   ]
  },
  {
   "cell_type": "markdown",
   "id": "51e87aea",
   "metadata": {},
   "source": [
    "<h3>1.初期設定</h3>"
   ]
  },
  {
   "cell_type": "code",
   "execution_count": 15,
   "id": "da205c69",
   "metadata": {
    "scrolled": true
   },
   "outputs": [],
   "source": [
    "cfar = wh.Cfar(workdirectory=workdirectory, datadirectory=datadirectory, sr=sr, n_fft=n_fft, hop_length=hop_length, fmin=fmin, fmax=fmax, fpass=fpass, fstop=fstop, gpass=gpass, gstop=gstop, num_train=num_train, num_guard=num_guard, rate_fa=rate_fa)"
   ]
  },
  {
   "cell_type": "markdown",
   "id": "ef90c9a9",
   "metadata": {},
   "source": [
    "#---------------------------------------------------------------------------------------------------#"
   ]
  },
  {
   "cell_type": "markdown",
   "id": "50321066",
   "metadata": {},
   "source": [
    "<h3>2.+単日検証用の処理</h3>"
   ]
  },
  {
   "cell_type": "code",
   "execution_count": 16,
   "id": "e0818d9a",
   "metadata": {},
   "outputs": [],
   "source": [
    "handle_day = '190215' #yymmdd.日毎のファイル名"
   ]
  },
  {
   "cell_type": "code",
   "execution_count": 17,
   "id": "189b8b32",
   "metadata": {
    "scrolled": true
   },
   "outputs": [],
   "source": [
    "if oneday_flag:\n",
    "    target_file = [i for i in filelist if f\"{handle_day}\" in i]\n",
    "    name = cfar.make_cfar_dir(i=target_file[0])\n",
    "    y, sr = cfar.get_wav(file=target_file[0])\n",
    "    data = cfar.bandpass(y)\n",
    "    peak_idx = cfar.run_cfar(data, name)\n",
    "    cfar.make_split_wavfile(time=3, peak_idx=peak_idx, name=name, data=y)\n",
    "\n",
    "    with open(f'{workdirectory}/cfar/pick_list.txt','r',encoding='utf-8') as f:\n",
    "        lines = f.readlines()\n",
    "        lines.pop(-1)\n",
    "    with open(f'{workdirectory}/cfar/pick_list.txt','w',encoding='utf-8') as f:\n",
    "        for line in lines:\n",
    "            f.write(line)"
   ]
  },
  {
   "cell_type": "markdown",
   "id": "ab1a6c0e",
   "metadata": {},
   "source": [
    "グラフの詳細についてはwhale_call_packeage内のCfarクラス、mark_calls_one_dayを確認する"
   ]
  },
  {
   "cell_type": "code",
   "execution_count": 18,
   "id": "9d9f33bd",
   "metadata": {
    "scrolled": true
   },
   "outputs": [],
   "source": [
    "if oneday_flag:\n",
    "    cfar.mark_calls_one_day(handle_day=handle_day, filelist=filelist)"
   ]
  },
  {
   "cell_type": "markdown",
   "id": "b24916ed",
   "metadata": {},
   "source": [
    "#---------------------------------------------------------------------------------------------------#"
   ]
  },
  {
   "cell_type": "markdown",
   "id": "7882d00d",
   "metadata": {},
   "source": [
    "<h3>3.+cfar処理</h3>"
   ]
  },
  {
   "cell_type": "markdown",
   "id": "8419ab1b",
   "metadata": {},
   "source": [
    "cfar処理を実行し、検出した部分を中心にn秒に分割したwaveファイルを作成する.nを変更する場合はtimeを変更.n秒データを出力しない場合にはmake_split_wavefileをコメントアウトする"
   ]
  },
  {
   "cell_type": "code",
   "execution_count": 19,
   "id": "63823bc8",
   "metadata": {
    "scrolled": true
   },
   "outputs": [],
   "source": [
    "if cfar_flag:\n",
    "    for i in filelist:\n",
    "        name = cfar.make_cfar_dir(i)\n",
    "        y, srt = cfar.get_wav(i)\n",
    "        data = cfar.bandpass(y)\n",
    "        peak_idx = cfar.run_cfar(data=data, name=name) #CFARを実行し、検出した時間と個数を各日付で返し、指定したファイルのリストを出力。\n",
    "        cfar.make_split_wavfile(time=3, peak_idx=peak_idx, name=name, data=y) #n秒のwavファイルを出力"
   ]
  },
  {
   "cell_type": "markdown",
   "id": "7ce6252f",
   "metadata": {},
   "source": [
    "#---------------------------------------------------------------------------------------------------#"
   ]
  },
  {
   "cell_type": "markdown",
   "id": "80da0bd8",
   "metadata": {},
   "source": [
    "<h2>スペクトログラム作成</h2>"
   ]
  },
  {
   "cell_type": "markdown",
   "id": "e9fb8a59",
   "metadata": {},
   "source": [
    "<h3>1.初期設定</h3>"
   ]
  },
  {
   "cell_type": "code",
   "execution_count": 20,
   "id": "32229fcd",
   "metadata": {},
   "outputs": [],
   "source": [
    "spec = wh.MakeSpectrogram(workdirectory=workdirectory, datadirectory=datadirectory, sr=sr, n_fft=n_fft, hop_length=hop_length, fmin=fmin, fmax=fmax, fpass=fpass, fstop=fstop, gpass=gpass, gstop=gstop, num_train=num_train, num_guard=num_guard, rate_fa=rate_fa)"
   ]
  },
  {
   "cell_type": "markdown",
   "id": "c50d3bcd",
   "metadata": {},
   "source": [
    "<h3>2.+単日検証用</h3>"
   ]
  },
  {
   "cell_type": "markdown",
   "id": "470ce7f5",
   "metadata": {},
   "source": [
    "n秒のwaveファイルが存在しないと動作しない"
   ]
  },
  {
   "cell_type": "code",
   "execution_count": 21,
   "id": "31dc3a80",
   "metadata": {
    "scrolled": true
   },
   "outputs": [],
   "source": [
    "if oneday_flag:\n",
    "    data, sr = librosa.audio.load(f'{workdirectory}/cfar/{handle_day}/split/{handle_day}_001009.wav', sr=sr) "
   ]
  },
  {
   "cell_type": "code",
   "execution_count": 22,
   "id": "51bf9f59",
   "metadata": {},
   "outputs": [],
   "source": [
    "if oneday_flag:\n",
    "    separate_spec = 24\n",
    "    ym = data.copy()\n",
    "    dx_data=np.array(ym[0:int(len(ym)/separate_spec)])"
   ]
  },
  {
   "cell_type": "code",
   "execution_count": 23,
   "id": "bc345f57",
   "metadata": {
    "scrolled": false
   },
   "outputs": [],
   "source": [
    "if oneday_flag:\n",
    "    c = np.abs(librosa.stft(data,n_fft=n_fft,hop_length=hop_length,win_length=n_fft,window='hann'))\n",
    "    C, phase = librosa.magphase(c)\n",
    "    Cdb = librosa.amplitude_to_db(np.abs(C), ref=np.max)\n",
    "    plt.figure(figsize=[12, 8])\n",
    "    librosa.display.specshow(data=Cdb, sr=sr,fmin=fmin, fmax=fmax, x_axis='time', y_axis='hz')\n",
    "    plt.ylim(10, 40)\n",
    "    plt.show()"
   ]
  },
  {
   "cell_type": "code",
   "execution_count": 24,
   "id": "8eeb7258",
   "metadata": {
    "scrolled": true
   },
   "outputs": [],
   "source": [
    "if oneday_flag:\n",
    "    s = pd.DataFrame(C.flatten())\n",
    "    s.hist(bins=20, range=(s.min().values[0],s.quantile(0.9).values[0]) )"
   ]
  },
  {
   "cell_type": "code",
   "execution_count": 25,
   "id": "dff6ed27",
   "metadata": {
    "scrolled": true
   },
   "outputs": [],
   "source": [
    "if oneday_flag:\n",
    "    spec.make_sep_spec(ym, separate_spec)"
   ]
  },
  {
   "cell_type": "markdown",
   "id": "66b54ecc",
   "metadata": {},
   "source": [
    "#---------------------------------------------------------------------------------------------------#"
   ]
  },
  {
   "cell_type": "markdown",
   "id": "3e15585c",
   "metadata": {},
   "source": [
    "<h3>3.+n秒画像作成</h3>"
   ]
  },
  {
   "cell_type": "code",
   "execution_count": 26,
   "id": "bcf7cf82",
   "metadata": {},
   "outputs": [],
   "source": [
    "if ms_flag:\n",
    "    picked = spec.get_sp_wav(filelist=filelist)"
   ]
  },
  {
   "cell_type": "code",
   "execution_count": 27,
   "id": "ff4b04b1",
   "metadata": {},
   "outputs": [],
   "source": [
    "if ms_flag:\n",
    "    picked"
   ]
  },
  {
   "cell_type": "code",
   "execution_count": 28,
   "id": "489b6e50",
   "metadata": {
    "scrolled": true
   },
   "outputs": [],
   "source": [
    "if ms_flag:\n",
    "    plt.figure(figsize=[12, 12])\n",
    "    for i in picked:\n",
    "        spec.make_sp_spec_all(day=i)\n",
    "        gc.collect()"
   ]
  },
  {
   "cell_type": "markdown",
   "id": "ed4fb1e6",
   "metadata": {},
   "source": [
    "#---------------------------------------------------------------------------------------------------#"
   ]
  },
  {
   "cell_type": "markdown",
   "id": "0d604be8",
   "metadata": {},
   "source": [
    "<h2>Callをグラフで表示</h2>"
   ]
  },
  {
   "cell_type": "markdown",
   "id": "e0be5614",
   "metadata": {},
   "source": [
    "全て実行するとワークディレクトリに各種グラフが生成される。"
   ]
  },
  {
   "cell_type": "code",
   "execution_count": 29,
   "id": "1b532375",
   "metadata": {},
   "outputs": [],
   "source": [
    "%matplotlib inline\n",
    "#分割数。1時間ごとならsp_time=24,sp_num=分割する時間の秒数*200。１時間なら3600*200\n",
    "split_time = 24\n",
    "split_num = 720000\n",
    "time = 'hour'\n",
    "\n",
    "#各日の最初の要素を１つ後の要素と同じにする(1でTrue)\n",
    "first_split = 0\n",
    "\n",
    "#読み込むpeaktextの種類と保存するディレクトリ名を決定する\n",
    "peak_file = 'peak.txt'\n",
    "dir_name = 'day_count'"
   ]
  },
  {
   "cell_type": "code",
   "execution_count": 30,
   "id": "ef3881ad",
   "metadata": {},
   "outputs": [],
   "source": [
    "if call_graph_flag:\n",
    "    makecallgraph = wh.MakeCallGraph(workdirectory=workdirectory, datadirectory=datadirectory, peak_file=peak_file, dir_name=dir_name)\n",
    "    max_day_call = makecallgraph.get_max_call_num(filelist)\n",
    "    months, mean_list, month_name_list = makecallgraph.make_months_list(filelist=filelist)"
   ]
  },
  {
   "cell_type": "code",
   "execution_count": 31,
   "id": "936ed7c9",
   "metadata": {},
   "outputs": [],
   "source": [
    "if call_graph_flag:\n",
    "    max_per_hour = []\n",
    "    peak_num_per_day = []\n",
    "    max_mean = []\n",
    "    max_mean_per = []\n",
    "    month_peaks = []\n",
    "    for i in range(len(months)):\n",
    "        peakn_hour, mean, mean_per, month_peak_ave, mean_list, peak_num_for_bar = makecallgraph.cal_graph_data(write_setting=i, filelist=filelist, days=months[i][1], month=months[i][0], split_time=split_time, split_num=split_num, time=time, first_split=first_split, mean_list=mean_list)\n",
    "        max_per_hour.append(peakn_hour)\n",
    "        max_mean_per.append(mean_per)\n",
    "        month_peaks.append(month_peak_ave)\n",
    "        peak_num_per_day.append(peak_num_for_bar)\n",
    "        max_mean.append(mean)\n",
    "    max_hour_call = max(list(itertools.chain.from_iterable(list(itertools.chain.from_iterable(max_per_hour)))))\n",
    "    max_mean_per_call_list = []\n",
    "    max_mean_call_list = []\n",
    "    for i in max_mean_per:\n",
    "        max_mean_per_call_list.append(max(i))\n",
    "    max_mean_per_call = max(max_mean_per_call_list)\n",
    "\n",
    "    for i in max_mean:\n",
    "        max_mean_call_list.append(max(i))\n",
    "    max_mean_call = max(max_mean_call_list)\n",
    "\n",
    "    mean_list = [[[] for j in range(24)] for i in range(len(months))]"
   ]
  },
  {
   "cell_type": "code",
   "execution_count": 32,
   "id": "34225c35",
   "metadata": {},
   "outputs": [],
   "source": [
    "if call_graph_flag:\n",
    "    for i in range(len(months)):\n",
    "        makecallgraph.detect_call_make_glaph(write_setting=i,filelist=filelist, days=months[i][1], month=months[i][0], split_time=split_time, split_num=split_num, time=time, first_split=first_split, mean_list=mean_list,max_hour_call=max_hour_call,max_mean_call=max_mean_call,max_mean_per_call=max_mean_per_call)"
   ]
  },
  {
   "cell_type": "code",
   "execution_count": 33,
   "id": "5c39203c",
   "metadata": {
    "scrolled": true
   },
   "outputs": [],
   "source": [
    "if call_graph_flag:\n",
    "    makecallgraph.make_month_call_num(months=months, month_peak_ave=month_peaks, first_split=first_split, time=time, filelist=filelist, peak_num_per_day=peak_num_per_day, max_day_call=max_day_call)"
   ]
  },
  {
   "cell_type": "code",
   "execution_count": 34,
   "id": "ac1daca6",
   "metadata": {},
   "outputs": [],
   "source": [
    "if call_graph_flag:\n",
    "    makecallgraph.call_num_per_hour(mean_list=mean_list, month_name_list=month_name_list, time=time, first_split=first_split, max_hour_call=max_hour_call)"
   ]
  },
  {
   "cell_type": "markdown",
   "id": "036eb3ce",
   "metadata": {},
   "source": [
    "#---------------------------------------------------------------------------------------------------#"
   ]
  },
  {
   "cell_type": "markdown",
   "id": "a65c2f02",
   "metadata": {},
   "source": [
    "<h2>CNNでノイズ、センタリングを除去するためのモデルを作成する</h2>"
   ]
  },
  {
   "cell_type": "code",
   "execution_count": 35,
   "id": "09bd59d7",
   "metadata": {},
   "outputs": [],
   "source": [
    "# 学習率\n",
    "learning_rate = 1e-3\n",
    "# エポック\n",
    "epochs = 20\n",
    "# バッチサイズ\n",
    "batch_size = 256\n",
    "#画像サイズ\n",
    "image_size =128\n",
    "\n",
    "dir_list = ['sentering', 'noise', 'call', 'n_call']"
   ]
  },
  {
   "cell_type": "code",
   "execution_count": 36,
   "id": "5d528124",
   "metadata": {},
   "outputs": [],
   "source": [
    "cnn = wh.Cnn(workdirectory=workdirectory, datadirectory=datadirectory, sr=sr, n_fft=n_fft, hop_length=hop_length, fmin=fmin, fmax=fmax, fpass=fpass, fstop=fstop, gpass=gpass, gstop=gstop, num_train=num_train, num_guard=num_guard, rate_fa=rate_fa)"
   ]
  },
  {
   "cell_type": "code",
   "execution_count": 37,
   "id": "714629de",
   "metadata": {
    "scrolled": true
   },
   "outputs": [],
   "source": [
    "if noise_make_flag:\n",
    "    cnn.resize_fig(picked=picked)"
   ]
  },
  {
   "cell_type": "code",
   "execution_count": 38,
   "id": "826cfd13",
   "metadata": {
    "scrolled": false
   },
   "outputs": [],
   "source": [
    "#各日から標本を抽出する\n",
    "if noise_make_flag:\n",
    "    cnn.prepare_cnn(sr=sr, dir_list=dir_list)"
   ]
  },
  {
   "cell_type": "code",
   "execution_count": 39,
   "id": "79584a1e",
   "metadata": {
    "scrolled": true
   },
   "outputs": [],
   "source": [
    "#抽出した画像をテキストファイルにメモする\n",
    "if noise_make_flag:\n",
    "    cnn.set_call_list()"
   ]
  },
  {
   "cell_type": "markdown",
   "id": "fd2710e7",
   "metadata": {},
   "source": [
    "学習させたいデータをそれぞれ０から移動させる"
   ]
  },
  {
   "cell_type": "code",
   "execution_count": 40,
   "id": "67aee42f",
   "metadata": {},
   "outputs": [],
   "source": [
    "train_dir, val_dir, backup_dir = cnn.dir_set(dir_list=dir_list)"
   ]
  },
  {
   "cell_type": "code",
   "execution_count": 41,
   "id": "918aaa87",
   "metadata": {
    "scrolled": true
   },
   "outputs": [
    {
     "data": {
      "text/plain": [
       "('D:/whale/data/WhaleCallField/1805_2020/5/cfar/all/e_noise',\n",
       " 'D:/whale/data/WhaleCallField/1805_2020/5/cfar/all/target',\n",
       " 'D:/whale/data/WhaleCallField/1805_2020/5/cfar/all/model')"
      ]
     },
     "execution_count": 41,
     "metadata": {},
     "output_type": "execute_result"
    }
   ],
   "source": [
    "train_dir, val_dir, backup_dir"
   ]
  },
  {
   "cell_type": "markdown",
   "id": "bb37830e",
   "metadata": {},
   "source": [
    "GPUを認識しているかを確認する。認識している場合、GPUの名前等が表示される"
   ]
  },
  {
   "cell_type": "code",
   "execution_count": 42,
   "id": "3912efe8",
   "metadata": {},
   "outputs": [
    {
     "data": {
      "text/plain": [
       "[name: \"/device:CPU:0\"\n",
       " device_type: \"CPU\"\n",
       " memory_limit: 268435456\n",
       " locality {\n",
       " }\n",
       " incarnation: 7512699109705436838,\n",
       " name: \"/device:GPU:0\"\n",
       " device_type: \"GPU\"\n",
       " memory_limit: 10088284160\n",
       " locality {\n",
       "   bus_id: 1\n",
       "   links {\n",
       "   }\n",
       " }\n",
       " incarnation: 11432359277876890121\n",
       " physical_device_desc: \"device: 0, name: NVIDIA GeForce RTX 3060, pci bus id: 0000:05:00.0, compute capability: 8.6\"]"
      ]
     },
     "execution_count": 42,
     "metadata": {},
     "output_type": "execute_result"
    }
   ],
   "source": [
    "from tensorflow.python.client import device_lib\n",
    "device_lib.list_local_devices()"
   ]
  },
  {
   "cell_type": "markdown",
   "id": "ef7507f4",
   "metadata": {},
   "source": [
    "CNNモデルを作成し、精度を表示する.混同行列を各過程ごとに欲しい場合、保存するたび混同行列画像の名称を変更する"
   ]
  },
  {
   "cell_type": "code",
   "execution_count": 43,
   "id": "0f16be17",
   "metadata": {
    "scrolled": true
   },
   "outputs": [],
   "source": [
    "if sentering_flag:\n",
    "    cnn.cnn_el_sentering(learning_rate=learning_rate, epochs=epochs, batch_size=batch_size, image_size=image_size, train_dir=train_dir, val_dir=val_dir, backup_dir=backup_dir)"
   ]
  },
  {
   "cell_type": "markdown",
   "id": "2cfa63f1",
   "metadata": {},
   "source": [
    "作成したモデルを元にテストする"
   ]
  },
  {
   "cell_type": "code",
   "execution_count": 44,
   "id": "331c6e31",
   "metadata": {},
   "outputs": [],
   "source": [
    "test_img_list = f'{workdirectory}/cfar/all/0'\n",
    "sep_img_list =  f'{workdirectory}/cfar/all/fig_convert'\n",
    "model_name = 'my_model.h5'\n",
    "days= os.listdir(f'{workdirectory}/cfar')\n",
    "days.remove('all')\n",
    "days.remove('pick_list.txt')"
   ]
  },
  {
   "cell_type": "code",
   "execution_count": 45,
   "id": "63333f12",
   "metadata": {},
   "outputs": [
    {
     "data": {
      "text/plain": [
       "['180727',\n",
       " '180728',\n",
       " '180729',\n",
       " '180730',\n",
       " '180731',\n",
       " '180801',\n",
       " '180802',\n",
       " '180803',\n",
       " '180804',\n",
       " '180805',\n",
       " '180806',\n",
       " '180807',\n",
       " '180808',\n",
       " '180809',\n",
       " '180810',\n",
       " '180811',\n",
       " '180812',\n",
       " '180813',\n",
       " '180814',\n",
       " '180815',\n",
       " '180816',\n",
       " '180817',\n",
       " '180818',\n",
       " '180819',\n",
       " '180820',\n",
       " '180821',\n",
       " '180822',\n",
       " '180823',\n",
       " '180824',\n",
       " '180825',\n",
       " '180826',\n",
       " '180827',\n",
       " '180828',\n",
       " '180829',\n",
       " '180830',\n",
       " '180831',\n",
       " '180901',\n",
       " '180902',\n",
       " '180903',\n",
       " '180904',\n",
       " '180905',\n",
       " '180906',\n",
       " '180907',\n",
       " '180908',\n",
       " '180909',\n",
       " '180910',\n",
       " '180911',\n",
       " '180912',\n",
       " '180913',\n",
       " '180914',\n",
       " '180915',\n",
       " '180916',\n",
       " '180917',\n",
       " '180918',\n",
       " '180919',\n",
       " '180920',\n",
       " '180921',\n",
       " '180922',\n",
       " '180923',\n",
       " '180924',\n",
       " '180925',\n",
       " '180926',\n",
       " '180927',\n",
       " '180928',\n",
       " '180929',\n",
       " '180930',\n",
       " '181001',\n",
       " '181002',\n",
       " '181003',\n",
       " '181004',\n",
       " '181005',\n",
       " '181006',\n",
       " '181007',\n",
       " '181008',\n",
       " '181009',\n",
       " '181010',\n",
       " '181011',\n",
       " '181012',\n",
       " '181013',\n",
       " '181014',\n",
       " '181015',\n",
       " '181016',\n",
       " '181017',\n",
       " '181018',\n",
       " '181019',\n",
       " '181020',\n",
       " '181021',\n",
       " '181022',\n",
       " '181023',\n",
       " '181024',\n",
       " '181025',\n",
       " '181026',\n",
       " '181027',\n",
       " '181028',\n",
       " '181029',\n",
       " '181030',\n",
       " '181031',\n",
       " '181101',\n",
       " '181102',\n",
       " '181103',\n",
       " '181105',\n",
       " '181106',\n",
       " '181107',\n",
       " '181108',\n",
       " '181109',\n",
       " '181110',\n",
       " '181111',\n",
       " '181112',\n",
       " '181113',\n",
       " '181114',\n",
       " '181115',\n",
       " '181116',\n",
       " '181117',\n",
       " '181118',\n",
       " '181119',\n",
       " '181120',\n",
       " '181121',\n",
       " '181122',\n",
       " '181123',\n",
       " '181124',\n",
       " '181125',\n",
       " '181126',\n",
       " '181127',\n",
       " '181128',\n",
       " '181129',\n",
       " '181130',\n",
       " '181201',\n",
       " '181202',\n",
       " '181203',\n",
       " '181204',\n",
       " '181205',\n",
       " '181206',\n",
       " '181207',\n",
       " '181208',\n",
       " '181209',\n",
       " '181210',\n",
       " '181211',\n",
       " '181212',\n",
       " '181213',\n",
       " '181214',\n",
       " '181215',\n",
       " '181216',\n",
       " '181217',\n",
       " '181218',\n",
       " '181219',\n",
       " '181220',\n",
       " '181221',\n",
       " '181222',\n",
       " '181223',\n",
       " '181224',\n",
       " '181225',\n",
       " '181226',\n",
       " '181227',\n",
       " '181228',\n",
       " '181229',\n",
       " '181230',\n",
       " '181231',\n",
       " '190101',\n",
       " '190102',\n",
       " '190103',\n",
       " '190104',\n",
       " '190105',\n",
       " '190106',\n",
       " '190107',\n",
       " '190108',\n",
       " '190109',\n",
       " '190110',\n",
       " '190111',\n",
       " '190112',\n",
       " '190113',\n",
       " '190114',\n",
       " '190115',\n",
       " '190116',\n",
       " '190117',\n",
       " '190118',\n",
       " '190119',\n",
       " '190120',\n",
       " '190121',\n",
       " '190122',\n",
       " '190123',\n",
       " '190124',\n",
       " '190125',\n",
       " '190126',\n",
       " '190127',\n",
       " '190128',\n",
       " '190129',\n",
       " '190130',\n",
       " '190131',\n",
       " '190201',\n",
       " '190202',\n",
       " '190203',\n",
       " '190204',\n",
       " '190205',\n",
       " '190206',\n",
       " '190207',\n",
       " '190208',\n",
       " '190209',\n",
       " '190210',\n",
       " '190211',\n",
       " '190212',\n",
       " '190213',\n",
       " '190214',\n",
       " '190215',\n",
       " '190216',\n",
       " '190217',\n",
       " '190218',\n",
       " '190219',\n",
       " '190220',\n",
       " '190221',\n",
       " '190222',\n",
       " '190223',\n",
       " '190224',\n",
       " '190225',\n",
       " '190226',\n",
       " '190227',\n",
       " '190228',\n",
       " '190301',\n",
       " '190302',\n",
       " '190303',\n",
       " '190304',\n",
       " '190305',\n",
       " '190306',\n",
       " '190307',\n",
       " '190308',\n",
       " '190309',\n",
       " '190310',\n",
       " '190311',\n",
       " '190312',\n",
       " '190313',\n",
       " '190314',\n",
       " '190315',\n",
       " '190316',\n",
       " '190317',\n",
       " '190318',\n",
       " '190319',\n",
       " '190320',\n",
       " '190321',\n",
       " '190322',\n",
       " '190323',\n",
       " '190324',\n",
       " '190325',\n",
       " '190326',\n",
       " '190327',\n",
       " '190328',\n",
       " '190329',\n",
       " '190330',\n",
       " '190331',\n",
       " '190401',\n",
       " '190402',\n",
       " '190403',\n",
       " '190404',\n",
       " '190405',\n",
       " '190406',\n",
       " '190407',\n",
       " '190408',\n",
       " '190409',\n",
       " '190410',\n",
       " '190411',\n",
       " '190412',\n",
       " '190413',\n",
       " '190414',\n",
       " '190415',\n",
       " '190416',\n",
       " '190417',\n",
       " '190418',\n",
       " '190419',\n",
       " '190420',\n",
       " '190421',\n",
       " '190422',\n",
       " '190423',\n",
       " '190424',\n",
       " '190425',\n",
       " '190426',\n",
       " '190427',\n",
       " '190428',\n",
       " '190429',\n",
       " '190430',\n",
       " '190501',\n",
       " '190502',\n",
       " '190503',\n",
       " '190504',\n",
       " '190505',\n",
       " '190506',\n",
       " '190507',\n",
       " '190508',\n",
       " '190509',\n",
       " '190510',\n",
       " '190511',\n",
       " '190512',\n",
       " '190513',\n",
       " '190514',\n",
       " '190515',\n",
       " '190516',\n",
       " '190517',\n",
       " '190518',\n",
       " '190519',\n",
       " '190520',\n",
       " '190521',\n",
       " '190522',\n",
       " '190523',\n",
       " '190524',\n",
       " '190525',\n",
       " '190526',\n",
       " '190527',\n",
       " '190528',\n",
       " '190529',\n",
       " '190530',\n",
       " '190531',\n",
       " '190601',\n",
       " '190602',\n",
       " '190603',\n",
       " '190604',\n",
       " '190605',\n",
       " '190606',\n",
       " '190607',\n",
       " '190608',\n",
       " '190609',\n",
       " '190610',\n",
       " '190611',\n",
       " '190612',\n",
       " '190613',\n",
       " '190614',\n",
       " '190615',\n",
       " '190616',\n",
       " '190617',\n",
       " '190618',\n",
       " '190619',\n",
       " '190620',\n",
       " '190621',\n",
       " '190622',\n",
       " '190623',\n",
       " '190624',\n",
       " '190625',\n",
       " '190626',\n",
       " '190627',\n",
       " '190628',\n",
       " '190629',\n",
       " '190630',\n",
       " '190701',\n",
       " '190702',\n",
       " '190703',\n",
       " '190704',\n",
       " '190705',\n",
       " '190706',\n",
       " '190707',\n",
       " '190708',\n",
       " '190709',\n",
       " '190710',\n",
       " '190711',\n",
       " '190712',\n",
       " '190713',\n",
       " '190714',\n",
       " '190715',\n",
       " '190716',\n",
       " '190717',\n",
       " '190718',\n",
       " '190719',\n",
       " '190720',\n",
       " '190721',\n",
       " '190722',\n",
       " '190723',\n",
       " '190724',\n",
       " '190725',\n",
       " '190726',\n",
       " '190727']"
      ]
     },
     "execution_count": 45,
     "metadata": {},
     "output_type": "execute_result"
    }
   ],
   "source": [
    "days"
   ]
  },
  {
   "cell_type": "code",
   "execution_count": 46,
   "id": "df3935a8",
   "metadata": {
    "scrolled": true
   },
   "outputs": [],
   "source": [
    "all_result = [0]*4\n",
    "if test_flag:\n",
    "    for i in days:\n",
    "        all_result = cnn.test_cnn_sentering(test_img_list=test_img_list, model_name=model_name, days=i, all_result=all_result)\n",
    "    cnn.return_target(train_dir=train_dir, val_dir=val_dir)"
   ]
  },
  {
   "cell_type": "code",
   "execution_count": 47,
   "id": "18faaf59",
   "metadata": {
    "scrolled": true
   },
   "outputs": [
    {
     "data": {
      "text/plain": [
       "[0, 0, 0, 0]"
      ]
     },
     "execution_count": 47,
     "metadata": {},
     "output_type": "execute_result"
    }
   ],
   "source": [
    "all_result"
   ]
  },
  {
   "cell_type": "code",
   "execution_count": 48,
   "id": "ba90f068",
   "metadata": {},
   "outputs": [],
   "source": [
    "#detectedをトレインに戻す(目視で確認後)\n",
    "if test_flag:\n",
    "    cnn.merge_detect(train_dir=train_dir)"
   ]
  },
  {
   "cell_type": "markdown",
   "id": "c28a5a00",
   "metadata": {},
   "source": [
    "<h2>作成したモデルを基に実際に仕分けをする</h2>"
   ]
  },
  {
   "cell_type": "code",
   "execution_count": 49,
   "id": "c60aae8a",
   "metadata": {
    "scrolled": true
   },
   "outputs": [],
   "source": [
    "all_result = [0]*4\n",
    "if sep_fig_flag:\n",
    "    for i in days:\n",
    "        all_result = cnn.sep_cnn_noise(test_img_list=sep_img_list, model_name=model_name, days=i, all_result=all_result)"
   ]
  },
  {
   "cell_type": "code",
   "execution_count": 50,
   "id": "e2dcce73",
   "metadata": {
    "scrolled": false
   },
   "outputs": [
    {
     "data": {
      "text/plain": [
       "[0, 0, 0, 0]"
      ]
     },
     "execution_count": 50,
     "metadata": {},
     "output_type": "execute_result"
    }
   ],
   "source": [
    "all_result"
   ]
  },
  {
   "cell_type": "markdown",
   "id": "e4dac362",
   "metadata": {},
   "source": [
    "#---------------------------------------------------------------------------------------------------#"
   ]
  },
  {
   "cell_type": "markdown",
   "id": "6da9838e",
   "metadata": {},
   "source": [
    "<h2>分類したデータをテキストファイルで保存し、グラフを出力する</h2>"
   ]
  },
  {
   "cell_type": "code",
   "execution_count": 51,
   "id": "f2eb1fa1",
   "metadata": {
    "scrolled": true
   },
   "outputs": [],
   "source": [
    "if save_calls:\n",
    "    cnn.make_peaktxt(filelist=filelist, dir_list=dir_list)"
   ]
  },
  {
   "cell_type": "code",
   "execution_count": 52,
   "id": "5e8abacb",
   "metadata": {},
   "outputs": [],
   "source": [
    "if save_calls:\n",
    "    cnn.make_call_graph(filelist)"
   ]
  },
  {
   "cell_type": "markdown",
   "id": "4cede2d1",
   "metadata": {},
   "source": [
    "#---------------------------------------------------------------------------------------------------#"
   ]
  },
  {
   "cell_type": "markdown",
   "id": "a73854f8",
   "metadata": {},
   "source": [
    "<h2>画像から中心周波数等のパラメータを抽出する</h2>"
   ]
  },
  {
   "cell_type": "markdown",
   "id": "6241b77f",
   "metadata": {},
   "source": [
    "<h3>1.初期設定</h3>"
   ]
  },
  {
   "cell_type": "code",
   "execution_count": 53,
   "id": "1c78b1e7",
   "metadata": {},
   "outputs": [],
   "source": [
    "analysis = wh.Analysis(workdirectory=workdirectory, datadirectory=datadirectory, sr=sr, n_fft=n_fft, hop_length=hop_length, fmin=fmin, fmax=fmax, fpass=fpass, fstop=fstop, gpass=gpass, gstop=gstop, num_train=num_train, num_guard=num_guard, rate_fa=rate_fa)"
   ]
  },
  {
   "cell_type": "markdown",
   "id": "c4dc74d8",
   "metadata": {},
   "source": [
    "<h3>2.+単日検証用</h3>"
   ]
  },
  {
   "cell_type": "code",
   "execution_count": 54,
   "id": "273f7876",
   "metadata": {},
   "outputs": [],
   "source": [
    "if oneday_flag: \n",
    "    y, sr = librosa.audio.load(f'{workdirectory}/cfar/{handle_day}/split/{handle_day}_000031.wav', sr=sr)"
   ]
  },
  {
   "cell_type": "code",
   "execution_count": 55,
   "id": "bf8111f1",
   "metadata": {
    "scrolled": true
   },
   "outputs": [],
   "source": [
    "if oneday_flag: \n",
    "    #二回目以降\n",
    "    adjust = 0\n",
    "    num = 1\n",
    "    num_count = 0\n",
    "    while num > 0.0001:\n",
    "        \n",
    "        if num_count == 0:\n",
    "            adjust_fpass = np.array([10,40])\n",
    "        else:\n",
    "            adjust_fpass = np.array([cent.T[cent_peak_idx]-5,cent.T[cent_peak_idx]+5])\n",
    "        #バンドパスフィルタを適用する\n",
    "        fn = sr / 2   #ナイキスト周波数\n",
    "        wp = adjust_fpass / fn  #通過域端周波数を正規化\n",
    "        ws = np.array([5,50]) / fn  #阻止域端周波数を正規化\n",
    "        N, Wn = signal.buttord(wp, ws, gpass, gstop) \n",
    "        b, a = signal.butter(N, Wn, \"band\")          \n",
    "        data = signal.filtfilt(b, a, y)\n",
    "        S, phase = librosa.magphase(librosa.stft(y=data, n_fft=n_fft, hop_length=hop_length,win_length=n_fft,window='hann'))\n",
    "        cent = librosa.feature.spectral_centroid(S=S, sr=sr,n_fft=3,hop_length=2,window='hann')\n",
    "        times = librosa.times_like(cent,sr=sr)\n",
    "        \n",
    "        if num_count == 0:\n",
    "            cent_peak_idx = len(cent.T)//2\n",
    "        \n",
    "        if num_count > 0:\n",
    "            num = hz - cent.T[cent_peak_idx]\n",
    "        hz = cent.T[cent_peak_idx]\n",
    "        \n",
    "        num_count += 1\n",
    "        print(hz)\n",
    "        \n",
    "        wp = np.array([cent.T[cent_peak_idx]-2.5,cent.T[cent_peak_idx]+2.5]) / fn\n",
    "        N, Wn = signal.buttord(wp, ws, gpass, gstop) \n",
    "        b, a = signal.butter(N, Wn, \"band\")          \n",
    "        hzdata = signal.filtfilt(b, a, y)\n",
    "        \n",
    "        temp =len(hzdata)//3 + np.argmax(np.abs(hzdata[len(hzdata)//3:2*len(hzdata)//3+1]))\n",
    "        cent_peak_idx = round(len(times)*temp/len(hzdata))\n",
    "    \n",
    "    print(num_count)"
   ]
  },
  {
   "cell_type": "code",
   "execution_count": 56,
   "id": "19e6bbde",
   "metadata": {},
   "outputs": [],
   "source": [
    "if oneday_flag: \n",
    "    S, phase = librosa.magphase(librosa.stft(y=y, n_fft=n_fft, hop_length=hop_length,win_length=n_fft,window='hann'))\n",
    "    Cdb = librosa.amplitude_to_db(np.abs(S), ref=np.max)"
   ]
  },
  {
   "cell_type": "code",
   "execution_count": 57,
   "id": "2b89d17e",
   "metadata": {
    "scrolled": false
   },
   "outputs": [],
   "source": [
    "if oneday_flag:\n",
    "    fig, ax = plt.subplots()\n",
    "    librosa.display.specshow(data=Cdb, sr=sr,fmin=10,fmax=fmax, x_axis='s', y_axis='hz', ax=ax)\n",
    "    ax.plot(times, cent.T, label='Spectral centroid', color='g')\n",
    "    ax.plot(times[cent_peak_idx], cent.T[cent_peak_idx],marker='.', color='blue',markersize =20)\n",
    "    ax.set_ylim(10,fmax)\n",
    "    ax.legend(loc='upper right')\n",
    "    ax.set(title='spectrogram')"
   ]
  },
  {
   "cell_type": "code",
   "execution_count": 58,
   "id": "9f70cb9f",
   "metadata": {},
   "outputs": [],
   "source": [
    "if oneday_flag:\n",
    "    print(cent_peak_idx)\n",
    "    print(int((times[cent_peak_idx]/np.max(times)-0.5)*sr*3))"
   ]
  },
  {
   "cell_type": "code",
   "execution_count": 59,
   "id": "18bd013e",
   "metadata": {
    "scrolled": false
   },
   "outputs": [],
   "source": [
    "if oneday_flag: \n",
    "    librosa.display.waveshow(y=hzdata,sr=sr)\n",
    "    #bandpass[centroid+-2.5]"
   ]
  },
  {
   "cell_type": "code",
   "execution_count": 60,
   "id": "b6189718",
   "metadata": {},
   "outputs": [],
   "source": [
    "if oneday_flag:\n",
    "    peak_idx = []\n",
    "    with open(f'{workdirectory}/cfar/{handle_day}/peak.txt', 'r' ,encoding='utf-8', newline='\\n') as f:\n",
    "        for line in f:\n",
    "            peak_idx.append(line)\n",
    "    peak_idx = peak_idx[2:]\n",
    "    for i in range(len(peak_idx)):\n",
    "        peak_idx[i] = peak_idx[i].split(' ')"
   ]
  },
  {
   "cell_type": "code",
   "execution_count": 61,
   "id": "a713b7f1",
   "metadata": {
    "scrolled": true
   },
   "outputs": [],
   "source": [
    "if oneday_flag:\n",
    "    centroid_list=[]\n",
    "    for i in range(len(peak_idx)):\n",
    "        wav_idx = str(i)\n",
    "        while len(wav_idx) < 6:\n",
    "            wav_idx = '0' + wav_idx\n",
    "        cent_num, times = analysis.centroid(handle_day=handle_day, wav_idx=wav_idx)\n",
    "        centroid_list.append(cent_num)"
   ]
  },
  {
   "cell_type": "code",
   "execution_count": 62,
   "id": "49796268",
   "metadata": {},
   "outputs": [],
   "source": [
    "if oneday_flag:\n",
    "    print(centroid_list)"
   ]
  },
  {
   "cell_type": "code",
   "execution_count": 63,
   "id": "ade96c7e",
   "metadata": {
    "scrolled": false
   },
   "outputs": [],
   "source": [
    "if oneday_flag:\n",
    "    cent_list = [i[1] for i in centroid_list]\n",
    "    plt.plot(cent_list)"
   ]
  },
  {
   "cell_type": "markdown",
   "id": "25e68260",
   "metadata": {},
   "source": [
    "<h3>中心周波数を抽出</h3>"
   ]
  },
  {
   "cell_type": "code",
   "execution_count": 64,
   "id": "e413525b",
   "metadata": {
    "scrolled": true
   },
   "outputs": [],
   "source": [
    "if centroid_flag:\n",
    "    centroid_list = analysis.run_centroid(filelist=filelist)"
   ]
  },
  {
   "cell_type": "code",
   "execution_count": 65,
   "id": "bea26f5c",
   "metadata": {},
   "outputs": [],
   "source": [
    "os.makedirs(f'{workdirectory}/analysis', exist_ok=True)\n",
    "if 'centroid_list.txt' not in os.listdir(f'{workdirectory}/analysis'):\n",
    "    with open(f'{workdirectory}/analysis/centroid_list.txt', 'wb') as f:\n",
    "        pickle.dump(centroid_list, f)"
   ]
  },
  {
   "cell_type": "code",
   "execution_count": 66,
   "id": "bb22ff9c",
   "metadata": {},
   "outputs": [],
   "source": [
    "with open(f'{workdirectory}/analysis/centroid_list.txt', 'rb') as f:\n",
    "    list_row = pickle.load(f)"
   ]
  },
  {
   "cell_type": "code",
   "execution_count": 67,
   "id": "878ae3c7",
   "metadata": {},
   "outputs": [],
   "source": [
    "day_list = [len(list_row[i]) for i in range(len(list_row))]"
   ]
  },
  {
   "cell_type": "code",
   "execution_count": 68,
   "id": "658a175b",
   "metadata": {},
   "outputs": [
    {
     "data": {
      "text/plain": [
       "[<matplotlib.lines.Line2D at 0x1cbbbf38790>]"
      ]
     },
     "execution_count": 68,
     "metadata": {},
     "output_type": "execute_result"
    },
    {
     "data": {
      "image/png": "[encoded data removed]",
      "text/plain": [
       "<Figure size 640x480 with 1 Axes>"
      ]
     },
     "metadata": {},
     "output_type": "display_data"
    }
   ],
   "source": [
    "plt.plot(day_list)"
   ]
  },
  {
   "cell_type": "code",
   "execution_count": 69,
   "id": "4e924b98",
   "metadata": {},
   "outputs": [],
   "source": [
    "all_cent_list = []\n",
    "all_time_list = []"
   ]
  },
  {
   "cell_type": "code",
   "execution_count": 70,
   "id": "e86908e8",
   "metadata": {
    "scrolled": false
   },
   "outputs": [],
   "source": [
    "for j in range(len(list_row)):\n",
    "    cent_list = [list_row[j][i][1] for i in range(len(list_row[j]))]\n",
    "    time_list = [list_row[j][i][0] for i in range(len(list_row[j]))]\n",
    "    all_cent_list = all_cent_list + cent_list\n",
    "    all_time_list = all_time_list + time_list"
   ]
  },
  {
   "cell_type": "code",
   "execution_count": 71,
   "id": "b8a8b516",
   "metadata": {
    "scrolled": true
   },
   "outputs": [],
   "source": [
    "if ipi_flag:\n",
    "    ipi_list = analysis.ipi(all_time_list=all_time_list, sec=45)"
   ]
  },
  {
   "cell_type": "code",
   "execution_count": 72,
   "id": "a03384b0",
   "metadata": {},
   "outputs": [],
   "source": [
    "os.makedirs(f'{workdirectory}/analysis', exist_ok=True)\n",
    "if 'ipi_list.txt' not in os.listdir(f'{workdirectory}/analysis'):\n",
    "    with open(f'{workdirectory}/analysis/ipi_list.txt', 'wb') as f:\n",
    "        pickle.dump(ipi_list, f)"
   ]
  },
  {
   "cell_type": "code",
   "execution_count": 73,
   "id": "8f1dec85",
   "metadata": {},
   "outputs": [],
   "source": [
    "with open(f'{workdirectory}/analysis/ipi_list.txt', 'rb') as f:\n",
    "    ipi_row = pickle.load(f)"
   ]
  },
  {
   "cell_type": "code",
   "execution_count": 74,
   "id": "eee5e494",
   "metadata": {},
   "outputs": [],
   "source": [
    "s_ipi_list = [i/sr for i in ipi_row]"
   ]
  },
  {
   "cell_type": "code",
   "execution_count": 75,
   "id": "751bbe17",
   "metadata": {
    "scrolled": false
   },
   "outputs": [
    {
     "data": {
      "text/plain": [
       "642650"
      ]
     },
     "execution_count": 75,
     "metadata": {},
     "output_type": "execute_result"
    }
   ],
   "source": [
    "len(ipi_row)"
   ]
  },
  {
   "cell_type": "code",
   "execution_count": 76,
   "id": "d6c60c2b",
   "metadata": {},
   "outputs": [],
   "source": [
    "s_ipi_list.sort()"
   ]
  },
  {
   "cell_type": "code",
   "execution_count": 78,
   "id": "c96c7ea7",
   "metadata": {
    "scrolled": false
   },
   "outputs": [
    {
     "data": {
      "text/plain": [
       "Text(0, 0.5, 'num')"
      ]
     },
     "execution_count": 78,
     "metadata": {},
     "output_type": "execute_result"
    },
    {
     "data": {
      "image/png": "[encoded data removed]",
      "text/plain": [
       "<Figure size 640x480 with 1 Axes>"
      ]
     },
     "metadata": {},
     "output_type": "display_data"
    }
   ],
   "source": [
    "plt.hist(s_ipi_list, bins=300)\n",
    "plt.title('ipi_histgram')\n",
    "plt.xlabel('Second')\n",
    "plt.ylabel('num')"
   ]
  },
  {
   "cell_type": "code",
   "execution_count": 79,
   "id": "5bef97bd",
   "metadata": {},
   "outputs": [],
   "source": [
    "all_cent_list.sort()"
   ]
  },
  {
   "cell_type": "code",
   "execution_count": 80,
   "id": "31fce210",
   "metadata": {},
   "outputs": [
    {
     "data": {
      "text/plain": [
       "707492"
      ]
     },
     "execution_count": 80,
     "metadata": {},
     "output_type": "execute_result"
    }
   ],
   "source": [
    "len(all_cent_list)"
   ]
  },
  {
   "cell_type": "code",
   "execution_count": 81,
   "id": "9216a26a",
   "metadata": {
    "scrolled": false
   },
   "outputs": [
    {
     "data": {
      "text/plain": [
       "[<matplotlib.lines.Line2D at 0x1cbfc807820>]"
      ]
     },
     "execution_count": 81,
     "metadata": {},
     "output_type": "execute_result"
    },
    {
     "data": {
      "image/png": "[encoded data removed]",
      "text/plain": [
       "<Figure size 640x480 with 1 Axes>"
      ]
     },
     "metadata": {},
     "output_type": "display_data"
    }
   ],
   "source": [
    "plt.plot(all_cent_list)"
   ]
  },
  {
   "cell_type": "code",
   "execution_count": 82,
   "id": "f5615123",
   "metadata": {
    "scrolled": true
   },
   "outputs": [],
   "source": [
    "al = list(map(float, all_cent_list))\n",
    "ar = [round(i, 1) for i in al]"
   ]
  },
  {
   "cell_type": "code",
   "execution_count": 84,
   "id": "68e3a1d6",
   "metadata": {
    "scrolled": false
   },
   "outputs": [
    {
     "data": {
      "text/plain": [
       "Text(0, 0.5, 'num')"
      ]
     },
     "execution_count": 84,
     "metadata": {},
     "output_type": "execute_result"
    },
    {
     "data": {
      "image/png": "[encoded data removed]",
      "text/plain": [
       "<Figure size 640x480 with 1 Axes>"
      ]
     },
     "metadata": {},
     "output_type": "display_data"
    }
   ],
   "source": [
    "plt.hist(ar, bins=200)\n",
    "plt.title('centroid_histgram')\n",
    "plt.xlabel('Hz')\n",
    "plt.ylabel('num')"
   ]
  },
  {
   "cell_type": "markdown",
   "id": "a598140e",
   "metadata": {},
   "source": [
    "#---------------------------------------------------------------------------------------------------#"
   ]
  },
  {
   "cell_type": "markdown",
   "id": "449310b2",
   "metadata": {},
   "source": [
    "<h2>k平均法で画像を自動分類</h2> "
   ]
  },
  {
   "cell_type": "code",
   "execution_count": 85,
   "id": "043cf87c",
   "metadata": {},
   "outputs": [],
   "source": [
    "cluster = wh.Clustering(workdirectory=workdirectory, datadirectory=datadirectory, sr=sr, n_fft=n_fft, hop_length=hop_length, fmin=fmin, fmax=fmax, fpass=fpass, fstop=fstop, gpass=gpass, gstop=gstop, num_train=num_train, num_guard=num_guard, rate_fa=rate_fa)"
   ]
  },
  {
   "cell_type": "code",
   "execution_count": 86,
   "id": "f3d316ac",
   "metadata": {},
   "outputs": [],
   "source": [
    "if cluster_fig:\n",
    "    %matplotlib notebook\n",
    "    cluster_number = 8\n",
    "    picked = spec.get_sp_wav(filelist=filelist)"
   ]
  },
  {
   "cell_type": "code",
   "execution_count": 87,
   "id": "5bbe732d",
   "metadata": {
    "scrolled": true
   },
   "outputs": [],
   "source": [
    "if clustering:\n",
    "    cluster.cluster_qw_sent(conv_dir=f'{workdirectory}/cfar/all/sep_fig/call', cluster_number=cluster_number)"
   ]
  },
  {
   "cell_type": "code",
   "execution_count": 88,
   "id": "601a747c",
   "metadata": {},
   "outputs": [],
   "source": [
    "if clustering:\n",
    "    cluster.cluster_analysis(sr=sr)"
   ]
  },
  {
   "cell_type": "code",
   "execution_count": 89,
   "id": "24d26358",
   "metadata": {
    "scrolled": false
   },
   "outputs": [],
   "source": [
    "if cluster_fig:\n",
    "    for i in os.listdir(f'{workdirectory}/cfar/all/group_sum'):\n",
    "        a = np.load(f'{workdirectory}/cfar/all/group_sum/{i}',allow_pickle=True)\n",
    "        x = np.arange(len(a[0]))\n",
    "        y = np.arange(len(a))\n",
    "        X,Y=np.meshgrid(x,y)\n",
    "\n",
    "        fig = plt.figure()\n",
    "        ax = fig.add_subplot(projection='3d')\n",
    "        ax.plot_surface(X, Y, a)\n",
    "\n",
    "        ax.set_title(f'{i}')\n",
    "\n",
    "        ax.set_xlabel('hour')\n",
    "        ax.set_ylabel('date')\n",
    "        ax.set_zlabel('n_call')"
   ]
  },
  {
   "cell_type": "code",
   "execution_count": 90,
   "id": "0f77003d",
   "metadata": {},
   "outputs": [],
   "source": [
    "if clustering:\n",
    "    cluster.all_3d_graph(sr=sr)"
   ]
  },
  {
   "cell_type": "code",
   "execution_count": 91,
   "id": "7771c9b9",
   "metadata": {},
   "outputs": [],
   "source": [
    "if cluster_fig:\n",
    "    a = np.load(f'{workdirectory}/cfar/all/all.npy',allow_pickle=True)\n",
    "    x = np.arange(len(a[0]))\n",
    "    y = np.arange(len(a))\n",
    "    X,Y=np.meshgrid(x,y)\n",
    "\n",
    "    fig = plt.figure()\n",
    "    ax = fig.add_subplot(projection='3d')\n",
    "    ax.plot_surface(X, Y, a)\n",
    "\n",
    "    ax.set_title('all')\n",
    "\n",
    "    ax.set_xlabel('hour')\n",
    "    ax.set_ylabel('date')\n",
    "    ax.set_zlabel('n_call')"
   ]
  },
  {
   "cell_type": "code",
   "execution_count": 92,
   "id": "aabd2321",
   "metadata": {},
   "outputs": [],
   "source": [
    "%matplotlib inline"
   ]
  },
  {
   "cell_type": "code",
   "execution_count": 93,
   "id": "e5dff560",
   "metadata": {
    "scrolled": true
   },
   "outputs": [],
   "source": [
    "if cent_sep_flag:\n",
    "    cluster.run_sep_cent(filelist=filelist)"
   ]
  },
  {
   "cell_type": "code",
   "execution_count": 94,
   "id": "24b0f840",
   "metadata": {},
   "outputs": [],
   "source": [
    "os.makedirs(f'{workdirectory}/centroid/sep', exist_ok=True)"
   ]
  },
  {
   "cell_type": "code",
   "execution_count": 95,
   "id": "280a6ab1",
   "metadata": {
    "scrolled": false
   },
   "outputs": [
    {
     "name": "stderr",
     "output_type": "stream",
     "text": [
      "\n",
      "KeyboardInterrupt\n",
      "\n"
     ]
    },
    {
     "data": {
      "image/png": "[encoded data removed]",
      "text/plain": [
       "<Figure size 640x480 with 1 Axes>"
      ]
     },
     "metadata": {},
     "output_type": "display_data"
    },
    {
     "data": {
      "image/png": "[encoded data removed]",
      "text/plain": [
       "<Figure size 640x480 with 1 Axes>"
      ]
     },
     "metadata": {},
     "output_type": "display_data"
    },
    {
     "data": {
      "image/png": "[encoded data removed]",
      "text/plain": [
       "<Figure size 640x480 with 1 Axes>"
      ]
     },
     "metadata": {},
     "output_type": "display_data"
    },
    {
     "data": {
      "image/png": "[encoded data removed]",
      "text/plain": [
       "<Figure size 640x480 with 1 Axes>"
      ]
     },
     "metadata": {},
     "output_type": "display_data"
    },
    {
     "data": {
      "image/png": "[encoded data removed]",
      "text/plain": [
       "<Figure size 640x480 with 1 Axes>"
      ]
     },
     "metadata": {},
     "output_type": "display_data"
    }
   ],
   "source": [
    "group_list = os.listdir(f'{workdirectory}/cfar/all/fig_group')\n",
    "for path in group_list:\n",
    "    cent_list = []\n",
    "    with open(f'{workdirectory}/analysis/sep/cent_{path}.txt', 'rb') as f:\n",
    "        cent_list = pickle.load(f)\n",
    "    all_cent_list = []\n",
    "    for j in range(len(cent_list)):\n",
    "        cent_sep_list = [cent_list[j][i][1] for i in range(len(cent_list[j]))]\n",
    "        all_cent_list = all_cent_list + cent_sep_list\n",
    "    al = list(map(float, all_cent_list))\n",
    "    ar = [round(i, 1) for i in al]\n",
    "    fig = plt.figure()\n",
    "    plt.hist(ar, bins=200)\n",
    "    plt.xlim(10,30)\n",
    "    plt.ylim(0,2500)\n",
    "    plt.savefig(f'{workdirectory}/centroid/sep/{path}.jpg')"
   ]
  },
  {
   "cell_type": "code",
   "execution_count": null,
   "id": "e7d0fe8c",
   "metadata": {},
   "outputs": [],
   "source": []
  }
 ],
 "metadata": {
  "kernelspec": {
   "display_name": "Python 3 (ipykernel)",
   "language": "python",
   "name": "python3"
  },
  "language_info": {
   "codemirror_mode": {
    "name": "ipython",
    "version": 3
   },
   "file_extension": ".py",
   "mimetype": "text/x-python",
   "name": "python",
   "nbconvert_exporter": "python",
   "pygments_lexer": "ipython3",
   "version": "3.9.13"
  }
 },
 "nbformat": 4,
 "nbformat_minor": 5
}
